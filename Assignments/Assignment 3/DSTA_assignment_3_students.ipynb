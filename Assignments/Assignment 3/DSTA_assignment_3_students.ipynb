{
 "cells": [
  {
   "attachments": {},
   "cell_type": "markdown",
   "metadata": {},
   "source": [
    "# Assignment 3: Text Classification and Word Embeddings\n",
    "\n",
    "Due: Monday, January 23, 2023, at 2pm via Moodle\n",
    "\n",
    "**Team Members** `<Fill out>`"
   ]
  },
  {
   "attachments": {},
   "cell_type": "markdown",
   "metadata": {},
   "source": [
    "### Submission Guidelines\n",
    "\n",
    "- Solutions need to be uploaded as a single Jupyter notebook. You will see that this notebook contains some pre-filled cells that you should complete for the individual tasks.\n",
    "- For answers requiring written solutions, use Markdown cells (in combination with Jupyter LaTeX support) **inside this notebook**. Do *not* hand in any separate files, simply re-upload the `.ipynb` file.\n",
    "- Download the .zip file containing the dataset but do *not* upload it with your solution.\n",
    "- Make sure that the names of all team members are present in the solution (see cell above)."
   ]
  },
  {
   "cell_type": "code",
   "execution_count": null,
   "metadata": {},
   "outputs": [],
   "source": [
    "%%python \"--version\"\n",
    "# check requirements\n"
   ]
  },
  {
   "cell_type": "code",
   "execution_count": null,
   "metadata": {},
   "outputs": [],
   "source": [
    "# Install necessary packages\n",
    "%pip install \"-r\" requirements.txt\n"
   ]
  },
  {
   "cell_type": "code",
   "execution_count": null,
   "metadata": {},
   "outputs": [],
   "source": [
    "%%python \"-m\" spacy download en_core_web_sm\n",
    "# Install required language model for spaCy"
   ]
  },
  {
   "attachments": {},
   "cell_type": "markdown",
   "metadata": {},
   "source": [
    "## Task 1: F.R.I.E.N.D.S and  Word2Vec (6 + 8 + 4 = 18 Points)"
   ]
  },
  {
   "attachments": {},
   "cell_type": "markdown",
   "metadata": {},
   "source": [
    "[Friends](https://en.wikipedia.org/wiki/Friends) is an American television sitcom, created by David Crane and Marta Kauffman. In this problem set we will use the transcripts from the show to train a Word2Vec model using the [Gensim](https://radimrehurek.com/gensim/) library."
   ]
  },
  {
   "cell_type": "code",
   "execution_count": null,
   "metadata": {},
   "outputs": [],
   "source": [
    "import re  \n",
    "import pandas as pd  \n",
    "from collections import defaultdict  \n",
    "import spacy \n",
    "import logging\n",
    "from gensim.models.phrases import Phrases, Phraser\n",
    "from gensim.models import Word2Vec\n",
    "import numpy as np\n",
    "import seaborn as sns\n",
    "import sys\n",
    "from sklearn.manifold import TSNE\n",
    "from typing import Type\n",
    "import matplotlib.pyplot as plt\n",
    "%matplotlib inline"
   ]
  },
  {
   "attachments": {},
   "cell_type": "markdown",
   "metadata": {},
   "source": [
    "### 1. Pre-processing (6 Points)"
   ]
  },
  {
   "attachments": {},
   "cell_type": "markdown",
   "metadata": {},
   "source": [
    "We start by loading and cleaning the data. The dataset for this problem set can be found in the attached `data` folder. Load the `friends_quotes.csv` file using pandas. The dataset is from [Kaggle](https://www.kaggle.com/ryanstonebraker/friends-transcript) and is created for building a classifier that can determine which friend from the Friend's TV Show would be most likely to say a quote. The column `quote` contains the line from the movie and `author` is the one who spoke it. Since these are the only two columns we need, we remove the rest and only keep these two. "
   ]
  },
  {
   "cell_type": "code",
   "execution_count": null,
   "metadata": {},
   "outputs": [],
   "source": [
    "# setting up logging to monitor gensim\n",
    "logging.basicConfig(format=\"%(levelname)s - %(asctime)s: %(message)s\", datefmt= \"%H:%M:%S\", level=logging.INFO)"
   ]
  },
  {
   "cell_type": "code",
   "execution_count": null,
   "metadata": {},
   "outputs": [],
   "source": [
    "df = ### load the data ####\n",
    "### filter out columns ###\n",
    "df.head(10)"
   ]
  },
  {
   "attachments": {},
   "cell_type": "markdown",
   "metadata": {},
   "source": [
    "Fortunately, there is no missing data, so we do not need to worry about that. "
   ]
  },
  {
   "cell_type": "code",
   "execution_count": null,
   "metadata": {},
   "outputs": [],
   "source": [
    "df.isnull().sum() # check for missing data"
   ]
  },
  {
   "attachments": {},
   "cell_type": "markdown",
   "metadata": {},
   "source": [
    "Use SpaCy similar to assignment 2 to pre-process the text and perform the following steps: \n",
    "- lowercase the words \n",
    "- remove stopwords and single characters\n",
    "- use regex to remove non-alphabetic characters; in other words: only keep \"a\" to \"z\" and digits. \n",
    "- remove lines that have less than 3 words, since they cannot contribute much to the training process.\n",
    "\n",
    "Please do not add additional steps on your own or additional cleaning as we want to create comparable results. "
   ]
  },
  {
   "cell_type": "code",
   "execution_count": null,
   "metadata": {},
   "outputs": [],
   "source": [
    "nlp = spacy.load(\"en_core_web_sm\", disable=[\"tagger\", \"parser\", \"ner\", \"lemmatizer\"])\n",
    "stopwords = spacy.lang.en.stop_words.STOP_WORDS # only use these stop words, do not add your own!\n",
    "df[\"quote\"] = # lowercase and remove non-alphabetic characters\n",
    "quotes =[]  # to save all the lines\n",
    "\n",
    "### Your Code ### "
   ]
  },
  {
   "attachments": {},
   "cell_type": "markdown",
   "metadata": {},
   "source": [
    "The next step is to build the vocabulary of the words and word combinations we want to learn representations from. We choose a subset of the most frequent words and bigrams to represent our corpus.\n",
    "- Use the Gensim Phrases package to automatically detect common phrases (bigrams) from a list of lines from the previous step (`min_count=10`). Now words like New_York will be considered as one entity and character names like joey_tribbiani will be recognized.\n",
    "- Create a list of words/bigrams with their frequencies and choose the top 15.000 words for the vocabulary, to keep the computation time-limited."
   ]
  },
  {
   "cell_type": "code",
   "execution_count": null,
   "metadata": {},
   "outputs": [],
   "source": [
    "words = # list of all words #\n",
    "phrases = # define the phraser for bi-gram creation #\n",
    "new_lines = # transform the lines #\n",
    "new_lines[0]"
   ]
  },
  {
   "cell_type": "code",
   "execution_count": null,
   "metadata": {},
   "outputs": [],
   "source": [
    "### find the top words for the vocabulary###\n",
    "\n",
    "vocab = ### top words ###"
   ]
  },
  {
   "attachments": {},
   "cell_type": "markdown",
   "metadata": {},
   "source": [
    "### 2. Training (8 Points)"
   ]
  },
  {
   "attachments": {},
   "cell_type": "markdown",
   "metadata": {},
   "source": [
    "Use the Gensim implementation of Word2Vec to train a model on the quotes. The training can be divided into 3 stages:\n",
    "\n",
    "1. Set up and configure your model. Define the parameters in such a way that the following conditions are satisfied:\n",
    "    - Ignores all words that have a total absolute frequency less than 2\n",
    "    - Dimensions of the embeddings: 100 \n",
    "    - Initial learning rate of 0.03 \n",
    "    - 20 negative samples \n",
    "    - Window size 3 \n",
    "    - The learning rate in the training will decrease as you apply more and more updates. Most of the time when starting with gradient descent the initial steps can be larger, and as we get close to the local minima it is best to use smaller steps. This adjustment is done internally using a learning rate scheduler. Make sure that the smallest learning rate does not go below 0.0001.\n",
    "    - Set the threshold for configuring which higher-frequency words are randomly down-sampled to 6e-5. This parameter forces the sampling to choose the very frequent words less often in the sampling.\n",
    "    - Set the hashfunction of the word2vec to the given function.\n",
    "    - Train on a single worker to make sure you get the same result as ours."
   ]
  },
  {
   "cell_type": "code",
   "execution_count": null,
   "metadata": {},
   "outputs": [],
   "source": [
    "def hash(astring):\n",
    "    return ord(astring[0])\n",
    "\n",
    "w2v = ### your code ###"
   ]
  },
  {
   "attachments": {},
   "cell_type": "markdown",
   "metadata": {},
   "source": [
    "2. Before training, Word2Vec requires us to build the vocabulary table by filtering out the unique words and doing some basic counts on them. If you look at the logs you can see the effect of `min_count` and `sample` on the word corpus. Use the `build_vocab` function to process the data."
   ]
  },
  {
   "cell_type": "code",
   "execution_count": null,
   "metadata": {},
   "outputs": [],
   "source": [
    "w2v.### your code ###"
   ]
  },
  {
   "attachments": {},
   "cell_type": "markdown",
   "metadata": {},
   "source": [
    "3. Finally, we get to train the model. Train the model for 100 epochs. This will take a while. As we do not plan to train the model any further, we call `init_sims()`, which will make the model much more memory-efficient by precomputing L2-norms of word weight vectors for further analysis. "
   ]
  },
  {
   "cell_type": "code",
   "execution_count": null,
   "metadata": {},
   "outputs": [],
   "source": [
    "w2v.### your code ###"
   ]
  },
  {
   "cell_type": "code",
   "execution_count": null,
   "metadata": {},
   "outputs": [],
   "source": [
    "w2v.### your code ###"
   ]
  },
  {
   "attachments": {},
   "cell_type": "markdown",
   "metadata": {},
   "source": [
    "### 3. Exploration (4 Points)"
   ]
  },
  {
   "attachments": {},
   "cell_type": "markdown",
   "metadata": {},
   "source": [
    "As mentioned in the lecture, word embeddings are suited for similarity and analogy tasks. Let's explore some of that with our dataset: \n",
    "\n",
    "We look for the most similar words to the famous coffee shop where most of the episodes took place, namely `central_perk` and also for the ones similar to the character `joey`. If you have followed the exercise correctly until now, you should see that words like `laying` are similar to `central_perk` and the other main characters are also considered similar to `joey`."
   ]
  },
  {
   "cell_type": "code",
   "execution_count": null,
   "metadata": {},
   "outputs": [],
   "source": [
    "###your code###"
   ]
  },
  {
   "cell_type": "code",
   "execution_count": null,
   "metadata": {},
   "outputs": [],
   "source": [
    "###your code###"
   ]
  },
  {
   "attachments": {},
   "cell_type": "markdown",
   "metadata": {},
   "source": [
    "Look at the similarity of `mrs_green` to `rachel` (her mom) and `ross`  to `spaceship` (unrelated). The first one should have a high score whereas the second should have a low score. Finally look at the similarity of `smelly_cat` (a song from pheobe) and `song`, which should have a high value."
   ]
  },
  {
   "cell_type": "code",
   "execution_count": null,
   "metadata": {},
   "outputs": [],
   "source": [
    "###your code###"
   ]
  },
  {
   "cell_type": "code",
   "execution_count": null,
   "metadata": {},
   "outputs": [],
   "source": [
    "###your code###"
   ]
  },
  {
   "cell_type": "code",
   "execution_count": null,
   "metadata": {},
   "outputs": [],
   "source": [
    "###your code###"
   ]
  },
  {
   "attachments": {},
   "cell_type": "markdown",
   "metadata": {},
   "source": [
    "We can also ask our model to give us the word that does not belong to a list of words. Let's see from the list of all 5 characters which one is the most dissimilar? "
   ]
  },
  {
   "cell_type": "code",
   "execution_count": null,
   "metadata": {},
   "outputs": [],
   "source": [
    "character_names= [\"joey\", \"rachel\", \"phoebe\", \"monica\", \"chandler\"]\n",
    "w2v.###your code###"
   ]
  },
  {
   "attachments": {},
   "cell_type": "markdown",
   "metadata": {},
   "source": [
    "Based on analogies: Which word is to `rachel` as `man` is to `women`? (print the top 3); you should get `chandler` and `monica` among the answers."
   ]
  },
  {
   "cell_type": "code",
   "execution_count": null,
   "metadata": {},
   "outputs": [],
   "source": [
    "w2v.###your code###"
   ]
  },
  {
   "attachments": {},
   "cell_type": "markdown",
   "metadata": {},
   "source": [
    "Finally, let's use t-SNE to look at the distribution of our embeddings in the vector space for the character `joey`. Follow the instructions and fill in the blank in the `tsneplot` function."
   ]
  },
  {
   "cell_type": "code",
   "execution_count": null,
   "metadata": {},
   "outputs": [],
   "source": [
    "def tsneplot(model: Type[Word2Vec], word: str):\n",
    "    \"\"\" \n",
    "    Uses seaborn to plot the results from the t-SNE dimensionality reduction for the top 10 most similar and dissimiliar words. \n",
    "    \"\"\"\n",
    "    embs = np.empty((0, 100), dtype=\"f\")    # to save all the embeddings\n",
    "    word_labels = [word]\n",
    "    color_list  = [\"green\"]\n",
    "\n",
    "    embs = np.append(   # adds the vector of the query word\n",
    "    \n",
    "    close_words = model.wv.# gets list of most similar words\n",
    "    all_sims = model.# gets list of most dissimilar words (get the sorted list of all the words and their similarity and choose the bottom 10)\n",
    "    \n",
    "    # adds the vector for each of the closest words to the array\n",
    "    for wrd_score in close_words:\n",
    "        wrd_vector = # get the vector\n",
    "        word_labels.append(wrd_score[0])\n",
    "        color_list.append(\"blue\")\n",
    "        embs = np.append(embs, wrd_vector, axis=0)\n",
    "        \n",
    "    # adds the vector for each of the furthest words to the array\n",
    "    for wrd_score in far_words:\n",
    "        wrd_vector = # get the vector\n",
    "        word_labels.append(wrd_score[0])\n",
    "        color_list.append(\"red\")\n",
    "        embs = np.append(embs, wrd_vector, axis=0)\n",
    "    \n",
    "    np.set_printoptions(suppress=True)\n",
    "    Y = TSNE(   # with  n_components=2, learning_rate=200, random_state=42, perplexity=15, init=\"random\"\n",
    "    \n",
    "    # sets everything up to plot\n",
    "    df = pd.DataFrame({\"x\": [x for x in Y[:, 0]],\n",
    "                       \"y\": [y for y in Y[:, 1]],\n",
    "                       \"words\": word_labels,\n",
    "                       \"color\": color_list})\n",
    "    \n",
    "    fig, _ = plt.subplots()\n",
    "    fig.set_size_inches(10, 10)\n",
    "    \n",
    "    # basic plot\n",
    "    p1 = sns.regplot(data=df,\n",
    "                     x=\"x\",\n",
    "                     y=\"y\",\n",
    "                     fit_reg=False,\n",
    "                     marker=\"o\",\n",
    "                     scatter_kws={\"s\": 40, \"facecolors\": df[\"color\"]}\n",
    "                    )\n",
    "    \n",
    "    # adds annotations one by one with a loop\n",
    "    for line in range(0, df.shape[0]):\n",
    "         p1.text(df[\"x\"][line],\n",
    "                 df[\"y\"][line],\n",
    "                 \"  \" + df[\"words\"][line].title(),\n",
    "                 horizontalalignment=\"left\",\n",
    "                 verticalalignment=\"bottom\", size=\"medium\",\n",
    "                 color=df[\"color\"][line],\n",
    "                 weight=\"normal\"\n",
    "                ).set_size(15)\n",
    "\n",
    "    \n",
    "    plt.xlim(Y[:, 0].min()-50, Y[:, 0].max()+50)\n",
    "    plt.ylim(Y[:, 1].min()-50, Y[:, 1].max()+50)\n",
    "            \n",
    "    plt.title(\"t-SNE visualization for {}\".format(word.title()))"
   ]
  },
  {
   "cell_type": "code",
   "execution_count": null,
   "metadata": {},
   "outputs": [],
   "source": [
    "tsneplot(w2v, \"joey\")"
   ]
  },
  {
   "attachments": {},
   "cell_type": "markdown",
   "metadata": {},
   "source": [
    "## Task 2: Multi-class Classification (1 + 3 + 2 = 6 points)\n",
    "In this task, we aim to classify consumer finance complaints into 12 pre-defined classes. Note that this is not a multi-label task, and we assume that each new complaint is assigned to one and only one category. The data comes from https://www.data.gov/ (US government’s open data) and contains complaints that are published after the company responds, confirming a commercial relationship with the consumer, or after 15 days, whatever comes first.\n"
   ]
  },
  {
   "cell_type": "markdown",
   "metadata": {},
   "source": [
    "### Sub Task 1: Data Exploration"
   ]
  },
  {
   "attachments": {},
   "cell_type": "markdown",
   "metadata": {},
   "source": [
    "Read the data to a pandas dataframe from `complaints.csv` (also located in the `data` folder); this is a rather large file of 206MB. Keep only the `Consumer complaint narrative` (input text) and `product` (labels). Remove the missing values, rename `Consumer complaint narrative` to `Narrative` for ease of use, and add a column encoding the product as an integer. This will represent your labels for classification and the mapping will be used later on. Create two dictionaries: one mapping the ids to products and one mapping products to their ids."
   ]
  },
  {
   "cell_type": "code",
   "execution_count": null,
   "metadata": {},
   "outputs": [],
   "source": [
    "import pandas as pd\n",
    "%matplotlib inline\n",
    "df = ###read the file ####\n",
    "df =  ###keep the columns you need ####\n",
    "df.columns =  ###rename columns ####\n",
    "df.head()\n"
   ]
  },
  {
   "cell_type": "code",
   "execution_count": null,
   "metadata": {},
   "outputs": [],
   "source": [
    "df = ### remove missing #### \n",
    "df['product_id'] = ### integer ids for product ### \n",
    "### create the dictionary #### \n",
    "df.head()\n"
   ]
  },
  {
   "cell_type": "markdown",
   "metadata": {},
   "source": [
    "Look at the class distribution of the products. It is always a good idea to look at the relative number of instances for each class before performing any classification task. Use the `plot` function from the dataframe to show the number of instances in each class in a histogram."
   ]
  },
  {
   "cell_type": "code",
   "execution_count": null,
   "metadata": {},
   "outputs": [],
   "source": [
    "import matplotlib.pyplot as plt\n",
    "fig = plt.figure(figsize=(10, 8))\n",
    "df ### your code ###\n",
    "plt.show()\n"
   ]
  },
  {
   "cell_type": "markdown",
   "metadata": {},
   "source": [
    "If you have done the exercise correctly you should observe a class imbalance with `credit reporting` having the most complaints. This can result in some difficulties for standard algorithms, making them biased towards the majority class and treating the minority classes as outliers and unimportant. One way to overcome this problem is by using **undersampling** or **oversampling**. However, this is beyond the scope of this assignment."
   ]
  },
  {
   "attachments": {},
   "cell_type": "markdown",
   "metadata": {},
   "source": [
    "### Sub Task 2: Text Representation and Training the Classifier \n",
    "Before performing any classification we need to split our data into train and test sets. Use `sklearn` to save 20 percent of the data for the test and the rest for training. Make sure to input the index of the data frame to retrieve the indices of the test and train. To ensure reproducibility, use `random_state=42`.\n"
   ]
  },
  {
   "cell_type": "code",
   "execution_count": null,
   "metadata": {},
   "outputs": [],
   "source": [
    "from sklearn.model_selection import train_test_split\n",
    "X_train, X_test, y_train, y_test, indices_train, indices_test = ### your code ###\n"
   ]
  },
  {
   "cell_type": "markdown",
   "metadata": {},
   "source": [
    "To perform any sort of classification task, we first need to convert our raw text into some vector representation. Let's use the `TfidfVectorizer` from `sklearn` to convert the `narrative` column into TF-IDF vectors. When transforming the text keep the following in mind:\n",
    "- use the logarithmic form for frequency\n",
    "- remove accents (ASCII) \n",
    "- lowercase all characters \n",
    "- remove `English` stop words \n",
    "- ignore terms that have a document frequency strictly less than 10\n",
    "- smooth IDF weights by adding one to document frequencies \n",
    "- output row should have unit L2 norm\n",
    "- set the encoding to `Latin-1`\n",
    "- extract both uni-grams and bi-grams \n",
    "- build a vocabulary that only considers the top 10.000 features\n",
    "Keep in mind that the vectorizer should be trained **only** on the training data, and the test data should be transformed using the same model."
   ]
  },
  {
   "cell_type": "code",
   "execution_count": null,
   "metadata": {},
   "outputs": [],
   "source": [
    "from sklearn.feature_extraction.text import TfidfVectorizer\n",
    "tfidf = TfidfVectorizer(###initlize the model ### \n",
    "X_train = ###transform text  ### \n",
    "X_train.shape # should be (132647, 10000) "
   ]
  },
  {
   "cell_type": "markdown",
   "metadata": {},
   "source": [
    "After the data transformation, we attain the features and labels, to train the classifier. In our case, we use **Naive Bayes Classifier**. \n",
    "- use `MultinomialNB` from sklearn to classify the data "
   ]
  },
  {
   "cell_type": "code",
   "execution_count": null,
   "metadata": {},
   "outputs": [],
   "source": [
    "from sklearn.naive_bayes import MultinomialNB\n",
    "clf = ### fit the model to the data ### \n"
   ]
  },
  {
   "cell_type": "markdown",
   "metadata": {},
   "source": [
    "### Sub Task 3: Model Evaluation  "
   ]
  },
  {
   "cell_type": "markdown",
   "metadata": {},
   "source": [
    "We evaluate our model using the held-out test data. We are going to look at the confusion matrix to show the performance of the model. "
   ]
  },
  {
   "cell_type": "code",
   "execution_count": null,
   "metadata": {},
   "outputs": [],
   "source": [
    "from sklearn.metrics import confusion_matrix\n",
    "import seaborn as sns\n",
    "y_pred = ### predict on the test set ### \n",
    "conf = ### create the confusion matrix ### \n",
    "fig, ax = plt.subplots(figsize=(10, 10))\n",
    "sns.heatmap(conf, annot=True, fmt='d',\n",
    "            xticklabels=###products names from the dictionary ###,\n",
    "            yticklabels=### products names from the dictionary###)\n",
    "plt.ylabel('True Label')\n",
    "plt.xlabel('Predicted Label')\n",
    "plt.show()\n"
   ]
  },
  {
   "cell_type": "markdown",
   "metadata": {},
   "source": [
    "The majority of the predictions end up on the diagonal (predicted label = actual label). The diagonal shows the correct classified classes. However, there are several misclassifications, specifically `Checking or savings account` is often confused with `Bank account or service`. Let's take a look at why this happens. For this, we look at 5 misclassified examples."
   ]
  },
  {
   "cell_type": "code",
   "execution_count": null,
   "metadata": {},
   "outputs": [],
   "source": [
    "actual = 'Bank account or service'\n",
    "predicted = 'Checking or savings account'\n",
    "### print only the top 5 \n",
    "df###choose the ones that have an actual label of Bank account or service and the predicted label of Checking or savings account ###)\n"
   ]
  },
  {
   "cell_type": "markdown",
   "metadata": {},
   "source": [
    "As you can see, some of the misclassified complaints are complaints that are not easy to distinguish. "
   ]
  },
  {
   "attachments": {},
   "cell_type": "markdown",
   "metadata": {},
   "source": [
    "## Task 3: Auto-Complete (2 + 5 + 4 = 11 points)\n",
    "Let's get even more practical! In this problem set, you will build your own auto-completion system that you see every day while using search engines.\n",
    "\n",
    "[google]: https://www.thedad.com/wp-content/uploads/2018/05/screen-shot-2018-05-12-at-2-01-56-pm.png \"google auto complete\"\n",
    "\n",
    "![google]\n",
    "\n",
    "By the end of this assignment, you will develop a simple prototype of such a system using n-gram language models. At the heart of the system is a language model that assigns the probability to a sequence of words. We take advantage of this probability calculation to predict the next word. \n",
    "\n",
    "The problem set contains 3 main parts:\n",
    "\n",
    "1. Load and preprocess data (tokenize and split into train and test)\n",
    "2. Develop n-gram based language models by estimating the conditional probability of the next word.\n",
    "3. Evaluate the model by computing the perplexity score.\n"
   ]
  },
  {
   "cell_type": "markdown",
   "metadata": {},
   "source": [
    "### Sub Task 1: Load and Preprocess Data \n",
    "We use a subset of English tweets to train our model. Run the cell below to load the data and observe a few lines of it. Notice that tweets are saved in a text file, where tweets are separated by `\\n`"
   ]
  },
  {
   "cell_type": "code",
   "execution_count": null,
   "metadata": {},
   "outputs": [],
   "source": [
    "import math\n",
    "import random\n",
    "import numpy as np\n",
    "import spacy\n",
    "nlp = spacy.load(\"en_core_web_sm\", disable=[\"tagger\", \"parser\", \"ner\"])\n",
    "\n",
    "\n",
    "with open(\"data/twitter.txt\", \"r\") as f:\n",
    "    data = f.read()\n",
    "print(\"First 500 characters of the data:\")\n",
    "display(data[0:500])\n",
    "print(\"-------\")\n"
   ]
  },
  {
   "attachments": {},
   "cell_type": "markdown",
   "metadata": {},
   "source": [
    "Now we need to separate the tweets and split them into train and test set. Apply the following pre-processing steps:\n",
    "\n",
    "1. Split data into sentences using \"\\n\" as the delimiter and remove the leading and trailing spaces (drop empty sentences)\n",
    "2. Tokenize the sentences into words using SpaCy and lowercase them. (notice that we do not remove stop words or punctuations.) \n",
    "3. Divide the sentences into 80 percent training and 20 percent test set. No validation set is required, although in a real-world application it is best to set aside part of the data for hyperparameter tuning.\n",
    "4. To limit the vocabulary and remove potential spelling mistakes, make a vocabulary of the words that appear at least 2 times. The rest of the words will be replaced by the `<unk>` symbol. This is a crucial step since if your model encounters a word that it never saw during training, it won't have an input word that helps determining the next word for suggestion. We use the `<unk>` word for **out of Vocabulary (OOV)** words. Keep in mind that we built the vocabulary on the training data only."
   ]
  },
  {
   "cell_type": "code",
   "execution_count": null,
   "metadata": {},
   "outputs": [],
   "source": [
    "sentences = #split\n",
    "sentences = #remove spaces and drop empty sentences \n"
   ]
  },
  {
   "cell_type": "code",
   "execution_count": null,
   "metadata": {},
   "outputs": [],
   "source": [
    "tokenized_corpus = [] # list of list of the tokens in a sentence \n",
    "##Your Code###   \n"
   ]
  },
  {
   "cell_type": "code",
   "execution_count": null,
   "metadata": {},
   "outputs": [],
   "source": [
    "from random import Random\n",
    "Random(4).shuffle(tokenized_corpus)\n",
    "\n",
    "train = ##Your Code###\n",
    "test = ##Your Code###\n"
   ]
  },
  {
   "cell_type": "code",
   "execution_count": null,
   "metadata": {},
   "outputs": [],
   "source": [
    "from collections import Counter\n",
    "flatten_corpus = ### Flatten the train corpus ### \n",
    "word_counts = ### count the number of each token ### \n",
    "vocab = []\n",
    "\n",
    "### keep only the ones with frequency bigger than 2 ### \n",
    "print(len(vocab)) ### should be 14930 ### \n",
    "train_replaced = []\n",
    "test_replaced = []\n",
    "for sentence in train:\n",
    "    ### adjust the sentence to contain the word in the vocabulary and <unk> for the rest #### \n",
    "for sentence in test:\n",
    "    ### adjust the sentence to contain the word in the vocabulary and <unk> for the rest #### \n"
   ]
  },
  {
   "cell_type": "markdown",
   "metadata": {},
   "source": [
    "### Sub Task 2: N-gram Based Language Model: \n",
    "In this section, you will develop the n-grams language model. We assume that the probability of the next word depends only on the previous n-gram or previous n words. We compute this probability by counting the occurrences in the corpus.\n",
    "The conditional probability for the word at position 't' in the sentence, given that the words preceding it are $w_{t-1}, w_{t-2} \\cdots w_{t-n}$ can be estimated as follows:\n",
    "\n",
    "$$ \\hat{P}(w_t | w_{t-1}\\dots w_{t-n}) = \\frac{C(w_{t-1}\\dots w_{t-n}, w_t)}{C(w_{t-1}\\dots w_{t-n})}  $$\n",
    "\n",
    "The numerator is the number of times word 't' appears after the n-gram, and the denominator is the number of times the n-gram occurs in the corpus, where $C(\\cdots)$ is a count function. Later, we add k-smoothing to avoid errors when any counts are zero."
   ]
  },
  {
   "cell_type": "markdown",
   "metadata": {},
   "source": [
    "To tackle the problem of probability estimation we divide the problem into 3 parts. In the following you will: \n",
    "1. Implement a function that computes the counts of n-grams for an arbitrary number n.\n",
    "2. Estimate the probability of a word given the prior n-words using the n-gram counts.\n",
    "3. Calculate probabilities for all possible words.\n",
    "The steps are detailed below. "
   ]
  },
  {
   "attachments": {},
   "cell_type": "markdown",
   "metadata": {},
   "source": [
    "Let's start by implementing a function that computes the counts of n-grams for an arbitrary number n.\n",
    "- Prepend necessary starting markers `<s>` to indicate the beginning of the sentence. In the case of a bi-gram model, you need to prepend two start tokens `<s><s>` to be able to predict the first word. \"hello world\"-> \"`<s><s>`hello world\".\n",
    "- Append an end token `<e>` so that the model can predict when to finish a sentence.\n",
    "- Create a dictionary to store all the n-gram counts (called n_gram in the code)."
   ]
  },
  {
   "cell_type": "code",
   "execution_count": null,
   "metadata": {},
   "outputs": [],
   "source": [
    "from collections import defaultdict\n",
    "\n",
    "\n",
    "def n_grams_counts(corpus, n):\n",
    "    \"\"\"\n",
    "    Count all n-grams in the corpus given the parameter n \n",
    "    \n",
    "    data: List of lists of words (your tokenized corpus)\n",
    "    n: n in the n-gram\n",
    "    \n",
    "    Returns: A dictionary that maps a tuple of n words to its frequency\n",
    "    \"\"\"\n",
    "    start_token='<s>'\n",
    "    end_token = '<e>'\n",
    "    n_grams = defaultdict(int)\n",
    "    for sentence in corpus: \n",
    "        sentence = ### add start and end token ###\n",
    "        # convert list to tuple so it can be used a the key in the dictionary \n",
    "        sentence = tuple(sentence)\n",
    "        \n",
    "        ###iterate over the n-grams in the sentence, you can use the range() function, and increament the counts in the\n",
    "        ## n_grams dictionary, where the key is the n_gram and the value is count \n",
    "    return n_grams"
   ]
  },
  {
   "cell_type": "markdown",
   "metadata": {},
   "source": [
    "The next step is to estimate the probability of a word given the prior n words using the n-gram counts, based on the formula given at the beginning of this task. To deal with the problem of zero division we add k-smoothing. K-smoothing adds a positive constant $k$ to each numerator and $k \\times |vocabulary size|$ in the denominator. Below we will define a function that takes in a dictionary `n_gram_cnt`, where the key is the n-gram, and the value is the count of that n-gram, plus a dictionary for `plus_current_gram_cnt`, which you'll use to find the count for the previous n-gram plus the current word. Notice that these dictionaries are computed using the previous function `n_grams_counts`.\n"
   ]
  },
  {
   "cell_type": "code",
   "execution_count": null,
   "metadata": {},
   "outputs": [],
   "source": [
    "def probability(word, prev_n_gram, \n",
    "                         n_gram_cnts, n_plus1_gram_cnts, vocab_size):\n",
    "    \"\"\"\n",
    "    Estimate the probabilities of a next word using the n-gram counts with k-smoothing\n",
    "    word: next word\n",
    "    prev_n_gram: previous n gram\n",
    "    n_gram_cnts: dictionary of counts of n-grams\n",
    "    plus_current_gram_cnts: dictionary of counts of (n+1)-grams -> current word+ n-gram = (n+1)-gram\n",
    "    vocab_size: number of words in the vocabulary\n",
    "    \n",
    "    Returns: A probability\n",
    "    \"\"\"\n",
    "    k=1.0\n",
    "    prev_n_gram = tuple(prev_n_gram)\n",
    "    \n",
    "    prev_n_gram_cnt =  # get the previous n-gram count from the dictionary \n",
    "    denominator = # denominator with the previous n-gram count and k-smoothing\n",
    "    n_plus1_gram =  # add the current word to the n-gram \n",
    "    n_plus1_gram_cnt =  # get the current n-gram count using the dictionary\n",
    "    numerator = #calculate the numerator with k-smoothing\n",
    "    prob =\n",
    "    \n",
    "    return prob\n"
   ]
  },
  {
   "cell_type": "markdown",
   "metadata": {},
   "source": [
    "Let's use the functions we have defined to calculate probabilities for all possible words.\n"
   ]
  },
  {
   "cell_type": "code",
   "execution_count": null,
   "metadata": {},
   "outputs": [],
   "source": [
    "def probabilities(prev_n_gram, n_gram_cnts, plus_current_gram_cnts, vocab):\n",
    "    \"\"\"\n",
    "    Estimate the probabilities for all the words in the vocabulary given the previous n-gram \n",
    "    prev_n_gram: previous n-gram\n",
    "    n_gram_cnts: dictionary of counts of n-grams\n",
    "    plus_current_gram_cntsplus_current_gram_cnt: dictionary of counts of (n+1)-grams -> current word+ n-gram = (n+1)-gram\n",
    "    vocab: List of words\n",
    "    \n",
    "    Returns: A dictionary mapping from next words to the probability.\n",
    "    \"\"\"\n",
    "    prev_n_gram = tuple(prev_n_gram)\n",
    "    \n",
    "    vocab =  # add <e> <unk> to the vocabulary\n",
    "    vocabulary_size = #compute the size \n",
    "    \n",
    "    probabilities = {}\n",
    "    for word in vocab:\n",
    "        ### compute the probability \n",
    "    return probabilities\n"
   ]
  },
  {
   "cell_type": "code",
   "execution_count": null,
   "metadata": {},
   "outputs": [],
   "source": [
    " # Predict the probability of the all possible words after the unigram \"the\"\n",
    "sentences = [['the', 'moon', 'and', 'stars', 'are','shining','bright'],\n",
    "             ['the', 'moon', 'is', 'shinnig','tonight'],\n",
    "             ['mars','and' ,'moon', 'are', 'plants'],\n",
    "             ['the' ,'moon', 'is','a', 'plant']]\n",
    "unique_words = list(set(sentences[0] + sentences[1] + sentences[2]+ sentences[3]))\n",
    "unigram_counts = n_grams_counts(sentences, 1)\n",
    "bigram_counts = n_grams_counts(sentences, 2)\n",
    "print(\"The word 'moon' should have the highest probability, if it is not the case, re-visit your previous functions.\")\n",
    "probabilities([\"the\"], unigram_counts, bigram_counts, unique_words)\n"
   ]
  },
  {
   "attachments": {},
   "cell_type": "markdown",
   "metadata": {},
   "source": [
    "### Sub Task 3: Evaluation "
   ]
  },
  {
   "attachments": {},
   "cell_type": "markdown",
   "metadata": {},
   "source": [
    "In this part we use the perplexity score to evaluate your model on the test set.\n",
    "The perplexity score of the test set on an n-gram model is defined as follows: \n",
    "\n",
    "$$ PP(W) =\\sqrt[N]{ \\prod_{t=n}^{N-1} \\frac{1}{P(w_t | w_{t-n} \\cdots w_{t-1})} } $$\n",
    "- where $N$ is the length of the sentence. ($N-1$ is used because in the code we start from the index 0).\n",
    "- $n$ is the number of words in the n-gram.\n",
    "\n",
    "Notice that we have already computed this probability. \n",
    "\n",
    "The higher the probabilities are, the lower the perplexity will be. "
   ]
  },
  {
   "cell_type": "code",
   "execution_count": null,
   "metadata": {},
   "outputs": [],
   "source": [
    "def perplexity(sentence, n_gram_cnts, plus_current_gram_cnts, vocab_size, k=1.0):\n",
    "    \"\"\"\n",
    "    Calculate perplexity for a list of sentences\n",
    "    sentence: List of strings\n",
    "    n_gram_cnts: dictionary of counts of n-grams\n",
    "    plus_current_gram_cnts: dictionary of counts of (n+1)-grams -> current word+ n-gram = (n+1)-gram\n",
    "    vocab_size: number of unique words in the vocabulary\n",
    "    k: positive smoothing constant\n",
    "    \n",
    "    Returns: Perplexity score for a single sentence \n",
    "    \"\"\"\n",
    "    \n",
    "    n =  # get the number 'n' in  n-gram  from n_gram_cnts  \n",
    "    \n",
    "    sentence =  # prepend <s> and append <e>\n",
    "    sentence = tuple(sentence)\n",
    "    N =# length of sentence \n",
    "    \n",
    "   \n",
    "    product_pi = 1.0 \n",
    "    \n",
    "    ### Compute the product of probabilites ###\n",
    "    \n",
    "    for t in range(n, N): \n",
    "        n_gram =# get the n-gram before the predicted word (n-gram before t )\n",
    "        word =  # get the word to be predicted (position t)\n",
    "        prob = probability(\n",
    "        product_pi *= # Update the product of the probabilities\n",
    "    \n",
    "    perplexity = product_pi**(1/float(N)) # Take the Nth root of the product\n",
    "    return perplexity\n"
   ]
  },
  {
   "cell_type": "markdown",
   "metadata": {},
   "source": [
    "Use the function to find the perplexity of a bi-gram model on the first instance of training and test set."
   ]
  },
  {
   "cell_type": "code",
   "execution_count": null,
   "metadata": {},
   "outputs": [],
   "source": [
    "bigram_counts = ### your code ###\n",
    "trigram_counts = ### your code ###\n",
    "\n",
    "perplexity_train = perplexity(train_replaced[0],bigram_counts, trigram_counts,len(vocab))\n",
    "print(f\"Perplexity for first train sample: {perplexity_train:.4f}\")\n",
    "\n",
    "perplexity_test = perplexity(test_replaced[0],bigram_counts, trigram_counts,len(vocab))\n",
    "print(f\"Perplexity for test sample: {perplexity_test:.4f}\")# the preprexity for the train sample should be much lower\n"
   ]
  },
  {
   "cell_type": "markdown",
   "metadata": {},
   "source": [
    "Finally, let's use the model we created to generate an auto-complete system that makes suggestions."
   ]
  },
  {
   "cell_type": "code",
   "execution_count": null,
   "metadata": {},
   "outputs": [],
   "source": [
    "def suggest_a_word(up_to_here, n_gram_cnts, plus_current_gram_cnts, vocab , start_with=None):\n",
    "    \"\"\"\n",
    "    Get suggestion for the next word\n",
    "    up_to_here: the sentence so far, must have length > n \n",
    "    n_gram_cnts: dictionary of counts of n-grams\n",
    "    plus_current_gram_cnts: dictionary of counts of (n+1)-grams -> current word+ n-gram = (n+1)-gram\n",
    "    vocab: List of words\n",
    "    start_with: If not None, specifies the first few letters of the next word\n",
    "        \n",
    "    Returns: (most likely next word,  probability) \n",
    "    \"\"\"    \n",
    "    n = len(list(n_gram_cnts.keys())[0]) # get the number 'n' in  n-gram  from n_gram_cnts     \n",
    "    previous_n_gram = previous_tokens[-n:] # get the last 'n' words as the previous n-gram from the input sentence\n",
    "\n",
    "    \n",
    "    probabs = # Estimate the probabilities for each word in the vocabulary\n",
    "    \n",
    "    probabs = \n",
    "    ### sort the probability for higher to lower and return the highest probability word,probability tuple\n",
    "    #if start_with is specified then return the highest probability word that starts with that specific character \n"
   ]
  },
  {
   "cell_type": "markdown",
   "metadata": {},
   "source": [
    "Test your model based on the bi-gram model created on the training corpus."
   ]
  },
  {
   "cell_type": "code",
   "execution_count": null,
   "metadata": {},
   "outputs": [],
   "source": [
    "previous_tokens = ['i', 'like']\n",
    "start_with = 'g'\n",
    "suggestion = suggest_a_word(previous_tokens, bigram_counts,\n",
    "                            trigram_counts, list(vocab), start_with=start_with)\n",
    "suggestion\n"
   ]
  },
  {
   "cell_type": "code",
   "execution_count": null,
   "metadata": {},
   "outputs": [],
   "source": [
    "previous_tokens = ['i', 'like', 'to']\n",
    "start_with = None\n",
    "suggestion = suggest_a_word(previous_tokens, bigram_counts,\n",
    "                            trigram_counts, list(vocab), start_with=start_with)\n",
    "suggestion\n"
   ]
  },
  {
   "cell_type": "code",
   "execution_count": null,
   "metadata": {},
   "outputs": [],
   "source": [
    "previous_tokens = [\"hello\", \"my\", \"name\", \"is\"]\n",
    "start_with = None\n",
    "suggestion = suggest_a_word(previous_tokens, bigram_counts,\n",
    "                            trigram_counts, list(vocab), start_with=start_with)\n",
    "suggestion\n"
   ]
  },
  {
   "cell_type": "code",
   "execution_count": null,
   "metadata": {},
   "outputs": [],
   "source": [
    "previous_tokens = [\"hello\", \"my\", \"name\", \"is\"]\n",
    "start_with = 'sa'\n",
    "suggestion = suggest_a_word(previous_tokens, bigram_counts,\n",
    "                            trigram_counts, list(vocab), start_with=start_with)\n",
    "suggestion\n"
   ]
  },
  {
   "cell_type": "markdown",
   "metadata": {},
   "source": [
    "Decaying learning has the advantage that at the beginning of training where the model weights are usually\n",
    "chosen at random, the algorithm can fastly converge towards a minimum. After more and more steps, it can be\n",
    "assumed that the solution is near such a minimum, and only smaller steps are taken, such that the algorithm can \n",
    "now \"fine-tune\" model parameters, instead of altering weights massively, potentially stepping over the optimal\n",
    "the solution again and again."
   ]
  },
  {
   "attachments": {},
   "cell_type": "markdown",
   "metadata": {},
   "source": [
    "## Task 4: Model Evaluation & Comparison (1 + 2 + 2 + 2 = 7 points)"
   ]
  },
  {
   "attachments": {},
   "cell_type": "markdown",
   "metadata": {},
   "source": [
    "In this task we want to evaluate and compare the performance of three different imaginary spam mail classifiers. The file `spam_ham_dataset_predictions.csv` consists of a dataset of e-mails with the labels `ham (0)` and `spam (1)` which was taken over from [Kaggle](https://www.kaggle.com/code/syamkakarla/spam-mail-classifier/data). Additionally, predictions from three different models (A, B and C) were added to the dataset."
   ]
  },
  {
   "attachments": {},
   "cell_type": "markdown",
   "metadata": {},
   "source": [
    "### Subtask 1: Class Distribution"
   ]
  },
  {
   "attachments": {},
   "cell_type": "markdown",
   "metadata": {},
   "source": [
    "We start by loading the data and looking at it first. Since we want to evaluate the performance of the given classifiers, one of the important aspects to know is how the classes are distributed within the dataset. Therefore, we extract the true distribution of classes from the gold labels as well as the predicted distributions of classes from the predicted labels of the models."
   ]
  },
  {
   "cell_type": "code",
   "execution_count": null,
   "metadata": {},
   "outputs": [],
   "source": [
    "df = pd.read_csv(\"data/spam_ham_dataset_predictions.csv\", index_col=0)\n",
    "df"
   ]
  },
  {
   "cell_type": "code",
   "execution_count": null,
   "metadata": {},
   "outputs": [],
   "source": [
    "class_distribution = df[[### your code ###\n",
    "\n",
    "# renaming the rows for a nicer table and plot\n",
    "class_distribution = class_distribution.rename(index={\n",
    "    \"label_num\": \"Gold Labels\",\n",
    "    \"prediction_model_A\": \"Model A\",\n",
    "    \"prediction_model_B\": \"Model B\",\n",
    "    \"prediction_model_C\": \"Model C\"\n",
    "})\n",
    "\n",
    "# display the class distribution table\n",
    "class_distribution\n"
   ]
  },
  {
   "cell_type": "code",
   "execution_count": null,
   "metadata": {},
   "outputs": [],
   "source": [
    "%matplotlib inline\n",
    "import matplotlib.pyplot as plt\n",
    "\n",
    "fig = plt.figure(figsize=(10, 8))\n",
    "class_distribution ### your code ###\n",
    "plt.show()"
   ]
  },
  {
   "attachments": {},
   "cell_type": "markdown",
   "metadata": {},
   "source": [
    "You should see that the distribution of classes in the dataset is very unbalanced. There are far more \"ham\" mails than spam mails in the dataset. Model A comes closest to the real distribution, while Model B predicts even fewer spam mails than actually exist. An extreme case is Model C, which classifies all mails as unproblematic \"ham\" mails and assumes no spam mails in the data set.\n",
    "\n",
    "Obviously, based on the predicted distributions, we cannot yet estimate how many labels were actually predicted correctly. Therefore, we calculate this in the next step."
   ]
  },
  {
   "attachments": {},
   "cell_type": "markdown",
   "metadata": {},
   "source": [
    "### Sub Task 2: Accuracy"
   ]
  },
  {
   "attachments": {},
   "cell_type": "markdown",
   "metadata": {},
   "source": [
    "To see which model made the most correct predictions, we want to calculate the accuracy in the next step. In general, the metric of the accuracy is defined as follows:\n",
    "$$\n",
    "\\text{Accuracy} = \\frac{\\text{correct classifications}}{\\text{all classifications}}\\\\\n",
    "$$.\n",
    "\n",
    "In the case of binary classification, the accuracy can be calculated as follows:\n",
    "$$\n",
    "\\begin{align*}\n",
    "\\text{Accuracy} &= \\frac{\\text{TP} + \\text{TN}}{\\text{TP} + \\text{FP} + \\text{TN} + \\text{FN}}\\\\\n",
    "\\text{Accuracy} &= \\frac{\\text{true positives} + \\text{true negatives}}{\\text{true positives} + \\text{false positives} + \\text{true negatives} + \\text{false negatives}}\\\\\n",
    "\\end{align*}\n",
    "$$"
   ]
  },
  {
   "attachments": {},
   "cell_type": "markdown",
   "metadata": {},
   "source": [
    "First, define methods that return TP, TN, FP and FN for a given model from the DataFrame."
   ]
  },
  {
   "cell_type": "code",
   "execution_count": null,
   "metadata": {},
   "outputs": [],
   "source": [
    "def true_positives(df: pd.DataFrame, prediction_column: str, gold_label_column: str = \"label_num\") -> int:\n",
    "    return ### your code ###\n",
    "\n",
    "def true_negatives(df: pd.DataFrame, prediction_column: str, gold_label_column: str = \"label_num\") -> int:\n",
    "    return ### your code ###\n",
    "\n",
    "def false_positives(df: pd.DataFrame, prediction_column: str, gold_label_column: str = \"label_num\") -> int:\n",
    "    return ### your code ###\n",
    "\n",
    "def false_negatives(df: pd.DataFrame, prediction_column: str, gold_label_column: str = \"label_num\") -> int:\n",
    "    return ### your code ###"
   ]
  },
  {
   "attachments": {},
   "cell_type": "markdown",
   "metadata": {},
   "source": [
    "Now define the method for calculating the accuracy using parameters for the values for TP, TN, FP and FN."
   ]
  },
  {
   "cell_type": "code",
   "execution_count": null,
   "metadata": {},
   "outputs": [],
   "source": [
    "def accuracy(### your code ###) -> float:\n",
    "    return ### your code ###"
   ]
  },
  {
   "attachments": {},
   "cell_type": "markdown",
   "metadata": {},
   "source": [
    "After having defined the methods, we can now calculate the accuracy for each model. To be able to reuse the calculated values and additionally depict them in a DataFrame, we store the results in a dictionary. "
   ]
  },
  {
   "cell_type": "code",
   "execution_count": null,
   "metadata": {},
   "outputs": [],
   "source": [
    "# dictionary for storing all results\n",
    "evaluation_results = {}\n",
    "\n",
    "for model in [\"A\", \"B\", \"C\"]:\n",
    "    # column with the predicted labels from the model in the df\n",
    "    prediction_column = f\"prediction_model_{model}\"\n",
    "\n",
    "    # save TP, FP, TN and FN for this model\n",
    "    evaluation_results[model] = {\n",
    "        ### your code ###\n",
    "    }\n",
    "\n",
    "    # save accuracy for this model\n",
    "    evaluation_results[model][\"accuracy\"] = ### your code ###\n",
    "\n",
    "# create a temporary DataFrame for displaying the results in a table\n",
    "pd.DataFrame(evaluation_results)\n"
   ]
  },
  {
   "attachments": {},
   "cell_type": "markdown",
   "metadata": {},
   "source": [
    "You should see that all models have a very high accuracy. This can be explained by the uneven distribution of the data, which is roughly reflected by all models.\n",
    "\n",
    "We also see that Model C has the highest accuracy and is therefore the best classifier according to this metric. However, since Model C does not recognize spam mails at all, but classifies all mails as \"ham\", this model will not add any value in practice. The use of the model would have no effect.\n",
    "\n",
    "Therefore, in the next step we want to look at other metrics with which we can compare the classifiers."
   ]
  },
  {
   "cell_type": "markdown",
   "metadata": {},
   "source": [
    "### Sub Task 3: Precision, Recall, F-measure"
   ]
  },
  {
   "attachments": {},
   "cell_type": "markdown",
   "metadata": {},
   "source": [
    "Two very commonly used metrics for evaluating classifiers are precision and recall. \n",
    "\n",
    "Precision measures the percentage of the items that the classifier detected as positive that are actually positive according to the gold labels. Precision is defined as follows:\n",
    "$$\n",
    "\\text{Precision (\\textit{P})} = \\frac{\\text{TP}}{\\text{TP} + \\text{FP}}\n",
    "$$\n",
    "\n",
    "Recall measures the percentage of positive items that the classifier was able to detect as positive. Recall is defined as follows:\n",
    "$$\n",
    "\\text{Recall (\\textit{R})} = \\frac{\\text{TP}}{\\text{TP} + \\text{FN}}\n",
    "$$\n"
   ]
  },
  {
   "attachments": {},
   "cell_type": "markdown",
   "metadata": {},
   "source": [
    "First we will define methods to calculate precision and recall based on the required parameters."
   ]
  },
  {
   "cell_type": "code",
   "execution_count": null,
   "metadata": {},
   "outputs": [],
   "source": [
    "def precision(### your code ###) -> float:\n",
    "    return ### your code ###"
   ]
  },
  {
   "cell_type": "code",
   "execution_count": null,
   "metadata": {},
   "outputs": [],
   "source": [
    "def recall(### your code ###) -> float:\n",
    "    return ### your code ###"
   ]
  },
  {
   "attachments": {},
   "cell_type": "markdown",
   "metadata": {},
   "source": [
    "Now we can calculate precision and recall for the classifiers to see which classifier performs better overall.\n",
    "\n",
    "*Note*: Since we know that Model C does not generate true positives, both recall and precision will be 0. Besides, we already determined that the model is unsuitable for application. Therefore, we can exclude the model from the following calculations."
   ]
  },
  {
   "cell_type": "code",
   "execution_count": null,
   "metadata": {},
   "outputs": [],
   "source": [
    "# exclude Model C from the following calculations\n",
    "evaluation_results.pop(\"C\", None)\n",
    "\n",
    "for model in evaluation_results:\n",
    "    # save precision and recall for this model\n",
    "    evaluation_results[model][\"precision\"] = ### your code ###\n",
    "    evaluation_results[model][\"recall\"] = ### your code ###\n",
    "\n",
    "pd.DataFrame(evaluation_results)\n"
   ]
  },
  {
   "attachments": {},
   "cell_type": "markdown",
   "metadata": {},
   "source": [
    "The calculations should show that Model B has a significantly higher precision than Model A. However, Model A has a higher recall. Thus, we cannot easily decide which model is better. Therefore, we want to combine the two metrics in order to be able to compare the classifiers on the basis of a single value."
   ]
  },
  {
   "attachments": {},
   "cell_type": "markdown",
   "metadata": {},
   "source": [
    "One frequently used combination of precision and recall is the F-score. The F-Score is defined as follows:\n",
    "$$\n",
    "F_\\beta = \\frac{(\\beta^2 + 1) P R}{\\beta^2 P + R}\n",
    "$$\n",
    "The $\\beta$ parameter in the formula can be used to weight the importance between precision and recall.\n",
    "\n",
    "The most commonly used value for $\\beta$ is $1$. The resulting metric is called $F_1$ score.\n",
    "$$\n",
    "F_1 = \\frac{2 P R}{P + R}\n",
    "$$"
   ]
  },
  {
   "attachments": {},
   "cell_type": "markdown",
   "metadata": {},
   "source": [
    "Let us define a method to calculate the F-score based on the required parameters at first."
   ]
  },
  {
   "cell_type": "code",
   "execution_count": null,
   "metadata": {},
   "outputs": [],
   "source": [
    "def f_beta(### your code ###) -> float:\n",
    "    return ### your code ###"
   ]
  },
  {
   "attachments": {},
   "cell_type": "markdown",
   "metadata": {},
   "source": [
    "Now we want to calculate the $F_1$ score for the classifiers to see which one performs better overall. "
   ]
  },
  {
   "cell_type": "code",
   "execution_count": null,
   "metadata": {},
   "outputs": [],
   "source": [
    "for model in evaluation_results:\n",
    "    # save the F_1 score for this model\n",
    "    evaluation_results[model][\"F_1\"] = ### your code ###\n",
    "\n",
    "pd.DataFrame(evaluation_results)\n"
   ]
  },
  {
   "attachments": {},
   "cell_type": "markdown",
   "metadata": {},
   "source": [
    "After correct calculation you should see that the $F_1$ score of Model A is higher than that of Model B. Accordingly, Model A is the better classifier if we want to weight precision and recall equally."
   ]
  },
  {
   "attachments": {},
   "cell_type": "markdown",
   "metadata": {},
   "source": [
    "### Sub Task 4: Adapting the metric to the use case"
   ]
  },
  {
   "attachments": {},
   "cell_type": "markdown",
   "metadata": {},
   "source": [
    "Let's not stop at that point. Is Model A really better for spam detection than Model B?\n",
    "\n",
    "Consider why Model B might be better than Model A for the spam detection use case in practice. Consider how the metric could be easily adapted for the purpose of spam detection. \n",
    "\n",
    "Calculate an adjusted metric for the models and briefly explain the adjustment and the result."
   ]
  },
  {
   "cell_type": "code",
   "execution_count": null,
   "metadata": {},
   "outputs": [],
   "source": [
    "for model in evaluation_results:\n",
    "    evaluation_results[model][### metric name ###] = ### your code ###\n",
    "\n",
    "pd.DataFrame(evaluation_results)\n"
   ]
  },
  {
   "attachments": {},
   "cell_type": "markdown",
   "metadata": {},
   "source": [
    "**Your brief explanation:** \n"
   ]
  }
 ],
 "metadata": {
  "kernelspec": {
   "display_name": "Python 3",
   "language": "python",
   "name": "python3"
  },
  "language_info": {
   "codemirror_mode": {
    "name": "ipython",
    "version": 3
   },
   "file_extension": ".py",
   "mimetype": "text/x-python",
   "name": "python",
   "nbconvert_exporter": "python",
   "pygments_lexer": "ipython3",
   "version": "3.7.15 (default, Dec 15 2022, 11:01:15) \n[GCC 10.2.1 20210110]"
  },
  "orig_nbformat": 4,
  "vscode": {
   "interpreter": {
    "hash": "24718a67937ac51649ca846e9997fcf6346cd3985a4748f7376ae3b9e665de0b"
   }
  }
 },
 "nbformat": 4,
 "nbformat_minor": 2
}
