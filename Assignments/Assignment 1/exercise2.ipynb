{
 "cells": [
  {
   "cell_type": "code",
   "execution_count": 159,
   "id": "881dbe3d",
   "metadata": {},
   "outputs": [
    {
     "data": {
      "text/plain": [
       "True"
      ]
     },
     "execution_count": 159,
     "metadata": {},
     "output_type": "execute_result"
    }
   ],
   "source": [
    "def verify_regex(expression: str) -> bool:\n",
    "    left = []\n",
    "    right = []\n",
    "    another = False\n",
    "    bad = False\n",
    "    for a in txt :\n",
    "        if ord(a) >= 0 and ord(a) <= 127 or a == 'ä' or a == 'Ä' or a == 'ö' or a == 'Ö' or a == \"ü\" or a == \"Ü\" or a == \"ß\":\n",
    "            if a == '(':\n",
    "                left.append(a)\n",
    "            if a == ')':\n",
    "                right.append(a)\n",
    "            if (a == '^' or a == '|' or a == '*' or a == '+' or a == '?'):\n",
    "                if another == True:\n",
    "                    print('illegal sequence of two symbols after another')\n",
    "                    return False\n",
    "                else:\n",
    "                    another = True\n",
    "            else:\n",
    "                another = False\n",
    "        else:\n",
    "            print('bad character', a, 'detected')\n",
    "            break\n",
    "    if (len(left + right)) % 2 == 0 :\n",
    "        return True\n",
    "    else:\n",
    "        return False\n",
    "    \n",
    "txt = \"\"\n",
    "verify_regex(txt)"
   ]
  },
  {
   "cell_type": "code",
   "execution_count": 167,
   "id": "7971b887",
   "metadata": {},
   "outputs": [
    {
     "name": "stdout",
     "output_type": "stream",
     "text": [
      "turned on : ^\n",
      "turned on : ^\n",
      "turned on : ^\n",
      "turned on : ^\n",
      "turned on : ^\n"
     ]
    },
    {
     "data": {
      "text/plain": [
       "True"
      ]
     },
     "execution_count": 167,
     "metadata": {},
     "output_type": "execute_result"
    }
   ],
   "source": [
    "# txt = \"!^^@#$%#^$&%$*^^(FGSHRJKJAEWR(W)TA@$%^@()#@A$%T()$%())\"\n",
    "txt = \"!^@#$%#^$&%$B^A^(FGSHRJKJAEWR(W)TA@$%^@()#@A$%T()$%())\"\n",
    "verify_regex(txt)"
   ]
  },
  {
   "cell_type": "code",
   "execution_count": null,
   "id": "063fb9f1",
   "metadata": {},
   "outputs": [],
   "source": []
  }
 ],
 "metadata": {
  "kernelspec": {
   "display_name": "Python 3 (ipykernel)",
   "language": "python",
   "name": "python3"
  },
  "language_info": {
   "codemirror_mode": {
    "name": "ipython",
    "version": 3
   },
   "file_extension": ".py",
   "mimetype": "text/x-python",
   "name": "python",
   "nbconvert_exporter": "python",
   "pygments_lexer": "ipython3",
   "version": "3.10.0"
  }
 },
 "nbformat": 4,
 "nbformat_minor": 5
}
