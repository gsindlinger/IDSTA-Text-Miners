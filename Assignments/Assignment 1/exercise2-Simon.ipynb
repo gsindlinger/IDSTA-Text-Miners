{
 "cells": [
  {
   "cell_type": "markdown",
   "metadata": {},
   "source": [
    "# Exercise 2\n",
    "## 1."
   ]
  },
  {
   "cell_type": "code",
   "execution_count": 2,
   "metadata": {},
   "outputs": [],
   "source": [
    "def varify_regex(expression: str) -> bool:\n",
    "    parentheses_counter = 0\n",
    "    special_character_flag = False\n",
    "    special_characters = set('^|*+?')\n",
    "    extra_characters = set('ÄÖÜßäöü')\n",
    "    for i in expression:\n",
    "        # check for accaptable character\n",
    "        if (ord(i) <= 127) or (i in extra_characters):  \n",
    "            if i in special_characters:           \n",
    "                # if the last character was a special_character aswell\n",
    "                if special_character_flag:             \n",
    "                    return False\n",
    "                else:\n",
    "                    special_character_flag = True       \n",
    "            else:\n",
    "                special_character_flag = False  \n",
    "                # count up for opening parentheses\n",
    "                if i == '(':\n",
    "                    parentheses_counter += 1            \n",
    "                # count down for closing parentheses\n",
    "                elif i == ')':\n",
    "                    parentheses_counter -= 1            \n",
    "        else:\n",
    "            return False\n",
    "    # if the amount of opening parentheses is the same as the amount of closing parentheses\n",
    "    if parentheses_counter == 0:                      \n",
    "        return True\n",
    "    else:\n",
    "        return False"
   ]
  },
  {
   "cell_type": "code",
   "execution_count": 9,
   "metadata": {},
   "outputs": [
    {
     "data": {
      "text/plain": [
       "True"
      ]
     },
     "execution_count": 9,
     "metadata": {},
     "output_type": "execute_result"
    }
   ],
   "source": [
    "varify_regex(\"\")"
   ]
  },
  {
   "cell_type": "markdown",
   "metadata": {},
   "source": [
    "## 2.\n",
    "\n",
    "No i would not use regex to parse HTML content, because the start of tags can be broken up into several lines. Also tags can contain themselves, which can not be handled by regex. While regex can only handle regular languages, HTML is a context free language, so in essence you can not rely on the data you would get out of an HTML file using regex."
   ]
  }
 ],
 "metadata": {
  "kernelspec": {
   "display_name": "Python 3.7.8 64-bit",
   "language": "python",
   "name": "python3"
  },
  "language_info": {
   "codemirror_mode": {
    "name": "ipython",
    "version": 3
   },
   "file_extension": ".py",
   "mimetype": "text/x-python",
   "name": "python",
   "nbconvert_exporter": "python",
   "pygments_lexer": "ipython3",
   "version": "3.7.8"
  },
  "orig_nbformat": 4,
  "vscode": {
   "interpreter": {
    "hash": "0a54084e6b208ee8d1ce3989ffc20924477a5f55f5a43e22e699a6741623861e"
   }
  }
 },
 "nbformat": 4,
 "nbformat_minor": 2
}
