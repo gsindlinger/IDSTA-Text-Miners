{
 "cells": [
  {
   "cell_type": "markdown",
   "metadata": {},
   "source": [
    "# Assignment 2: Elasticsearch and Text Mining\n",
    "\n",
    "Due: Monday, December 12, 2022, at 2pm via Moodle\n",
    "\n",
    "**Team Members**\n",
    "- Gal Lebel\n",
    "- Simon Körner\n",
    "- Johannes Gabriel Sindlinger\n",
    "\n",
    "**Former Team Member**\n",
    "- Mara-Eliana Popescu: She quit the course a few weeks ago, so we're only three guys left. Maybe if there are some other people also loosing members of their groups and want to join, this could be an option."
   ]
  },
  {
   "cell_type": "markdown",
   "metadata": {},
   "source": [
    "### Submission Guidelines\n",
    "\n",
    "- Solutions need to be uploaded as a single Jupyter notebook. You will find this notebook contains some pre-filled cells that you should complete for the individual tasks.\n",
    "- For answers requiring written solutions, use Markdown cells (in combination with Jupyter LaTeX support) **inside this notebook**. Do *not* hand in any separate files, simply re-upload the `.ipynb` file.\n",
    "- Download the .zip file containing the dataset but do *not* upload it with your solution.\n",
    "- Make sure that the names of all team members are present in the solution."
   ]
  },
  {
   "cell_type": "markdown",
   "metadata": {},
   "source": [
    "\n",
    "## Question 2-1: \"The Simpsons\" Dataset (1 + 4 + 3 + 2 + 6 + 5 = 21 points)"
   ],
   "execution_count": 1
  },
  {
   "cell_type": "markdown",
   "metadata": {},
   "source": [
    "\"The Simpsons\" is the world’s longest-running animated sitcom. The show revolves around the lives of the Simpson family, which consists of Homer, Marge, Bart, Lisa, and the little Maggi.\n",
    "For this exercise, you will work with the dataset that contains characters, locations, episode details, and script lines for approximately 600 Simpsons episodes, dating back to 1989.\n",
    "We will explore the data and use visualizations to gain some insight into the show. The Zip file alongside this notebook should contain the following files:\n",
    "\n",
    "` simpsons_characters.csv, simpsons_locations.csv, simpsons_script_lines.csv, simpsons_episodes.csv`\n",
    "\n",
    "Take some time and familiarize yourself with the data. `simpsons_characters.csv` contains the character-names and their gender.\n",
    "`simpsons_locations.csv` contains information about locations in the shows, and `simpsons_episodes.csv` has information about each episode including their title, rating, and views.\n",
    "Finally, `simpsons_script_lines.csv` lists all the lines in the show, who said the line and where it was said. Be aware that this data set is not cleaned and, hence, includes faulty data as well as inconsistent data types."
   ],
   "outputs": [
    {
     "ename": "KeyboardInterrupt",
     "evalue": "",
     "output_type": "error",
     "traceback": [
      "\u001B[1;31m---------------------------------------------------------------------------\u001B[0m",
      "\u001B[1;31mKeyboardInterrupt\u001B[0m                         Traceback (most recent call last)",
      "Cell \u001B[1;32mIn[2], line 1\u001B[0m\n\u001B[1;32m----> 1\u001B[0m \u001B[43mget_ipython\u001B[49m\u001B[43m(\u001B[49m\u001B[43m)\u001B[49m\u001B[38;5;241;43m.\u001B[39;49m\u001B[43mrun_cell_magic\u001B[49m\u001B[43m(\u001B[49m\u001B[38;5;124;43m'\u001B[39;49m\u001B[38;5;124;43mbash\u001B[39;49m\u001B[38;5;124;43m'\u001B[39;49m\u001B[43m,\u001B[49m\u001B[43m \u001B[49m\u001B[38;5;124;43m'\u001B[39;49m\u001B[38;5;124;43m'\u001B[39;49m\u001B[43m,\u001B[49m\u001B[43m \u001B[49m\u001B[38;5;124;43m'\u001B[39;49m\u001B[38;5;124;43m./ ~/.bashrc\u001B[39;49m\u001B[38;5;130;43;01m\\n\u001B[39;49;00m\u001B[38;5;124;43mpython3 -m spacy download en_core_web_sm\u001B[39;49m\u001B[38;5;130;43;01m\\n\u001B[39;49;00m\u001B[38;5;124;43m# Install required language model for spaCy\u001B[39;49m\u001B[38;5;130;43;01m\\n\u001B[39;49;00m\u001B[38;5;124;43m'\u001B[39;49m\u001B[43m)\u001B[49m\n",
      "File \u001B[1;32m~\\Documents\\Uni\\Data Science for Text Analysis\\venv\\lib\\site-packages\\IPython\\core\\interactiveshell.py:2417\u001B[0m, in \u001B[0;36mInteractiveShell.run_cell_magic\u001B[1;34m(self, magic_name, line, cell)\u001B[0m\n\u001B[0;32m   2415\u001B[0m \u001B[38;5;28;01mwith\u001B[39;00m \u001B[38;5;28mself\u001B[39m\u001B[38;5;241m.\u001B[39mbuiltin_trap:\n\u001B[0;32m   2416\u001B[0m     args \u001B[38;5;241m=\u001B[39m (magic_arg_s, cell)\n\u001B[1;32m-> 2417\u001B[0m     result \u001B[38;5;241m=\u001B[39m fn(\u001B[38;5;241m*\u001B[39margs, \u001B[38;5;241m*\u001B[39m\u001B[38;5;241m*\u001B[39mkwargs)\n\u001B[0;32m   2418\u001B[0m \u001B[38;5;28;01mreturn\u001B[39;00m result\n",
      "File \u001B[1;32m~\\Documents\\Uni\\Data Science for Text Analysis\\venv\\lib\\site-packages\\IPython\\core\\magics\\script.py:153\u001B[0m, in \u001B[0;36mScriptMagics._make_script_magic.<locals>.named_script_magic\u001B[1;34m(line, cell)\u001B[0m\n\u001B[0;32m    151\u001B[0m \u001B[38;5;28;01melse\u001B[39;00m:\n\u001B[0;32m    152\u001B[0m     line \u001B[38;5;241m=\u001B[39m script\n\u001B[1;32m--> 153\u001B[0m \u001B[38;5;28;01mreturn\u001B[39;00m \u001B[38;5;28;43mself\u001B[39;49m\u001B[38;5;241;43m.\u001B[39;49m\u001B[43mshebang\u001B[49m\u001B[43m(\u001B[49m\u001B[43mline\u001B[49m\u001B[43m,\u001B[49m\u001B[43m \u001B[49m\u001B[43mcell\u001B[49m\u001B[43m)\u001B[49m\n",
      "File \u001B[1;32m~\\Documents\\Uni\\Data Science for Text Analysis\\venv\\lib\\site-packages\\IPython\\core\\magics\\script.py:238\u001B[0m, in \u001B[0;36mScriptMagics.shebang\u001B[1;34m(self, line, cell)\u001B[0m\n\u001B[0;32m    235\u001B[0m args, cmd \u001B[38;5;241m=\u001B[39m \u001B[38;5;28mself\u001B[39m\u001B[38;5;241m.\u001B[39mshebang\u001B[38;5;241m.\u001B[39mparser\u001B[38;5;241m.\u001B[39mparse_known_args(argv)\n\u001B[0;32m    237\u001B[0m \u001B[38;5;28;01mtry\u001B[39;00m:\n\u001B[1;32m--> 238\u001B[0m     p \u001B[38;5;241m=\u001B[39m \u001B[43min_thread\u001B[49m\u001B[43m(\u001B[49m\n\u001B[0;32m    239\u001B[0m \u001B[43m        \u001B[49m\u001B[43masyncio\u001B[49m\u001B[38;5;241;43m.\u001B[39;49m\u001B[43mcreate_subprocess_exec\u001B[49m\u001B[43m(\u001B[49m\n\u001B[0;32m    240\u001B[0m \u001B[43m            \u001B[49m\u001B[38;5;241;43m*\u001B[39;49m\u001B[43mcmd\u001B[49m\u001B[43m,\u001B[49m\n\u001B[0;32m    241\u001B[0m \u001B[43m            \u001B[49m\u001B[43mstdout\u001B[49m\u001B[38;5;241;43m=\u001B[39;49m\u001B[43masyncio\u001B[49m\u001B[38;5;241;43m.\u001B[39;49m\u001B[43msubprocess\u001B[49m\u001B[38;5;241;43m.\u001B[39;49m\u001B[43mPIPE\u001B[49m\u001B[43m,\u001B[49m\n\u001B[0;32m    242\u001B[0m \u001B[43m            \u001B[49m\u001B[43mstderr\u001B[49m\u001B[38;5;241;43m=\u001B[39;49m\u001B[43masyncio\u001B[49m\u001B[38;5;241;43m.\u001B[39;49m\u001B[43msubprocess\u001B[49m\u001B[38;5;241;43m.\u001B[39;49m\u001B[43mPIPE\u001B[49m\u001B[43m,\u001B[49m\n\u001B[0;32m    243\u001B[0m \u001B[43m            \u001B[49m\u001B[43mstdin\u001B[49m\u001B[38;5;241;43m=\u001B[39;49m\u001B[43masyncio\u001B[49m\u001B[38;5;241;43m.\u001B[39;49m\u001B[43msubprocess\u001B[49m\u001B[38;5;241;43m.\u001B[39;49m\u001B[43mPIPE\u001B[49m\u001B[43m,\u001B[49m\n\u001B[0;32m    244\u001B[0m \u001B[43m        \u001B[49m\u001B[43m)\u001B[49m\n\u001B[0;32m    245\u001B[0m \u001B[43m    \u001B[49m\u001B[43m)\u001B[49m\n\u001B[0;32m    246\u001B[0m \u001B[38;5;28;01mexcept\u001B[39;00m \u001B[38;5;167;01mOSError\u001B[39;00m \u001B[38;5;28;01mas\u001B[39;00m e:\n\u001B[0;32m    247\u001B[0m     \u001B[38;5;28;01mif\u001B[39;00m e\u001B[38;5;241m.\u001B[39merrno \u001B[38;5;241m==\u001B[39m errno\u001B[38;5;241m.\u001B[39mENOENT:\n",
      "File \u001B[1;32m~\\Documents\\Uni\\Data Science for Text Analysis\\venv\\lib\\site-packages\\IPython\\core\\magics\\script.py:209\u001B[0m, in \u001B[0;36mScriptMagics.shebang.<locals>.in_thread\u001B[1;34m(coro)\u001B[0m\n\u001B[0;32m    207\u001B[0m \u001B[38;5;28;01mdef\u001B[39;00m \u001B[38;5;21min_thread\u001B[39m(coro):\n\u001B[0;32m    208\u001B[0m     \u001B[38;5;124;03m\"\"\"Call a coroutine on the asyncio thread\"\"\"\u001B[39;00m\n\u001B[1;32m--> 209\u001B[0m     \u001B[38;5;28;01mreturn\u001B[39;00m \u001B[43masyncio\u001B[49m\u001B[38;5;241;43m.\u001B[39;49m\u001B[43mrun_coroutine_threadsafe\u001B[49m\u001B[43m(\u001B[49m\u001B[43mcoro\u001B[49m\u001B[43m,\u001B[49m\u001B[43m \u001B[49m\u001B[43mevent_loop\u001B[49m\u001B[43m)\u001B[49m\u001B[38;5;241;43m.\u001B[39;49m\u001B[43mresult\u001B[49m\u001B[43m(\u001B[49m\u001B[43m)\u001B[49m\n",
      "File \u001B[1;32mC:\\Python310\\lib\\concurrent\\futures\\_base.py:441\u001B[0m, in \u001B[0;36mFuture.result\u001B[1;34m(self, timeout)\u001B[0m\n\u001B[0;32m    438\u001B[0m \u001B[38;5;28;01melif\u001B[39;00m \u001B[38;5;28mself\u001B[39m\u001B[38;5;241m.\u001B[39m_state \u001B[38;5;241m==\u001B[39m FINISHED:\n\u001B[0;32m    439\u001B[0m     \u001B[38;5;28;01mreturn\u001B[39;00m \u001B[38;5;28mself\u001B[39m\u001B[38;5;241m.\u001B[39m__get_result()\n\u001B[1;32m--> 441\u001B[0m \u001B[38;5;28;43mself\u001B[39;49m\u001B[38;5;241;43m.\u001B[39;49m\u001B[43m_condition\u001B[49m\u001B[38;5;241;43m.\u001B[39;49m\u001B[43mwait\u001B[49m\u001B[43m(\u001B[49m\u001B[43mtimeout\u001B[49m\u001B[43m)\u001B[49m\n\u001B[0;32m    443\u001B[0m \u001B[38;5;28;01mif\u001B[39;00m \u001B[38;5;28mself\u001B[39m\u001B[38;5;241m.\u001B[39m_state \u001B[38;5;129;01min\u001B[39;00m [CANCELLED, CANCELLED_AND_NOTIFIED]:\n\u001B[0;32m    444\u001B[0m     \u001B[38;5;28;01mraise\u001B[39;00m CancelledError()\n",
      "File \u001B[1;32mC:\\Python310\\lib\\threading.py:320\u001B[0m, in \u001B[0;36mCondition.wait\u001B[1;34m(self, timeout)\u001B[0m\n\u001B[0;32m    318\u001B[0m \u001B[38;5;28;01mtry\u001B[39;00m:    \u001B[38;5;66;03m# restore state no matter what (e.g., KeyboardInterrupt)\u001B[39;00m\n\u001B[0;32m    319\u001B[0m     \u001B[38;5;28;01mif\u001B[39;00m timeout \u001B[38;5;129;01mis\u001B[39;00m \u001B[38;5;28;01mNone\u001B[39;00m:\n\u001B[1;32m--> 320\u001B[0m         \u001B[43mwaiter\u001B[49m\u001B[38;5;241;43m.\u001B[39;49m\u001B[43macquire\u001B[49m\u001B[43m(\u001B[49m\u001B[43m)\u001B[49m\n\u001B[0;32m    321\u001B[0m         gotit \u001B[38;5;241m=\u001B[39m \u001B[38;5;28;01mTrue\u001B[39;00m\n\u001B[0;32m    322\u001B[0m     \u001B[38;5;28;01melse\u001B[39;00m:\n",
      "\u001B[1;31mKeyboardInterrupt\u001B[0m: "
     ]
    }
   ],
   "execution_count": 2
  },
  {
   "cell_type": "code",
   "execution_count": 1,
   "metadata": {},
   "outputs": [
    {
     "name": "stdout",
     "output_type": "stream",
     "text": [
      "C:\\Users\\gsindlinger\\Documents\\Uni\\Data Science for Text Analysis\\Assignments\\Assignment 2\n"
     ]
    }
   ],
   "source": [
    "# General imports\n",
    "import os\n",
    "\n",
    "import pandas as pd\n",
    "import numpy as np\n",
    "import spacy\n",
    "import matplotlib\n",
    "from wordcloud import WordCloud\n",
    "from matplotlib import pyplot as plt\n",
    "\n",
    "# Ensure matplotlib works correctly with Jupyter\n",
    "%matplotlib inline\n",
    "cwd = os.getcwd()\n",
    "print(cwd)"
   ]
  },
  {
   "cell_type": "markdown",
   "metadata": {},
   "source": [
    "### 1. Data Loading (1 point)\n",
    "Load the four datasets in the respective variables using pandas, and make sure to set the type of the `character_id` to integer."
   ]
  },
  {
   "cell_type": "code",
   "execution_count": 2,
   "metadata": {},
   "outputs": [
    {
     "name": "stderr",
     "output_type": "stream",
     "text": [
      "C:\\Users\\gsindlinger\\AppData\\Local\\Temp\\ipykernel_13900\\2377826163.py:3: DtypeWarning: Columns (4,5,6) have mixed types. Specify dtype option on import or set low_memory=False.\n",
      "  df_script = pd.read_csv(\"data\\simpsons_script_lines.csv\")\n"
     ]
    }
   ],
   "source": [
    "df_characters = pd.read_csv(\"data\\simpsons_characters.csv\")\n",
    "df_locations = pd.read_csv(\"data\\simpsons_locations.csv\")\n",
    "df_script = pd.read_csv(\"data\\simpsons_script_lines.csv\")\n",
    "df_episodes = pd.read_csv(\"data\\simpsons_episodes.csv\")"
   ]
  },
  {
   "cell_type": "markdown",
   "metadata": {},
   "source": [
    "Drop all lines associated with the (non-numeric) character ID `142024`."
   ]
  },
  {
   "cell_type": "code",
   "execution_count": 3,
   "metadata": {
    "tags": []
   },
   "outputs": [],
   "source": [
    "df_script.iloc[142024]\n",
    "## We can see there's a non-numeric character_id at index 142024\n",
    "df_script = df_script.drop(142024)"
   ]
  },
  {
   "cell_type": "code",
   "execution_count": 4,
   "metadata": {},
   "outputs": [
    {
     "data": {
      "text/plain": "            id  episode_id  number  \\\n131073  141375         505      58   \n131074  141376         505      59   \n131075  141377         505      60   \n131076  141378         505      61   \n131077  141379         505      62   \n...        ...         ...     ...   \n158266    9544          32     204   \n158267    9545          32     205   \n158268    9546          32     206   \n158269    9547          32     207   \n158270    9548          32     208   \n\n                                                 raw_text timestamp_in_ms  \\\n131073  Check-in Agent: Oh, I'm sorry, sir, but your c...               0   \n131074                               Bart Simpson: What?!               0   \n131075  Bart Simpson: I can offer you a cabin on our s...               0   \n131076  Tough Announcer: Welcome to eight days and sev...               0   \n131077                 Lisa Simpson: (DISAPPOINTED MOANS)               0   \n...                                                   ...             ...   \n158266       Miss Hoover: (OFF LISA'S REACTION) I'm back.          831000   \n158267  Miss Hoover: You see, class, my Lyme disease t...          839000   \n158268                    Miss Hoover: Psy-cho-so-ma-tic.          842000   \n158269       Ralph Wiggum: Does that mean you were crazy?          844000   \n158270           JANEY: No, that means she was faking it.          845000   \n\n       speaking_line character_id  location_id raw_character_text  \\\n131073          true         6085       4065.0     Check-in Agent   \n131074          true            8       4065.0       Bart Simpson   \n131075          true            8       4065.0       Bart Simpson   \n131076          true         6086       4065.0    Tough Announcer   \n131077         false            9       4065.0       Lisa Simpson   \n...              ...          ...          ...                ...   \n158266          true          464          3.0        Miss Hoover   \n158267          true          464          3.0        Miss Hoover   \n158268          true          464          3.0        Miss Hoover   \n158269          true          119          3.0       Ralph Wiggum   \n158270          true            4          3.0              JANEY   \n\n                    raw_location_text  \\\n131073           CRUISE CHECK-IN AREA   \n131074           CRUISE CHECK-IN AREA   \n131075           CRUISE CHECK-IN AREA   \n131076           CRUISE CHECK-IN AREA   \n131077           CRUISE CHECK-IN AREA   \n...                               ...   \n158266  Springfield Elementary School   \n158267  Springfield Elementary School   \n158268  Springfield Elementary School   \n158269  Springfield Elementary School   \n158270  Springfield Elementary School   \n\n                                             spoken_words  \\\n131073  Oh, I'm sorry, sir, but your cruise is over-bo...   \n131074                                             What?!   \n131075  I can offer you a cabin on our sugar-free fitn...   \n131076  Welcome to eight days and seven nights of push...   \n131077                                                NaN   \n...                                                   ...   \n158266                                          I'm back.   \n158267  You see, class, my Lyme disease turned out to ...   \n158268                                 Psy-cho-so-ma-tic.   \n158269                     Does that mean you were crazy?   \n158270                  No, that means she was faking it.   \n\n                                          normalized_text word_count  \n131073     oh im sorry sir but your cruise is over-booked          9  \n131074                                               what          1  \n131075  i can offer you a cabin on our sugar-free fitn...         11  \n131076  welcome to eight days and seven nights of push...         11  \n131077                                                NaN        NaN  \n...                                                   ...        ...  \n158266                                            im back          2  \n158267     you see class my lyme disease turned out to be         10  \n158268                                  psy-cho-so-ma-tic          1  \n158269                      does that mean you were crazy          6  \n158270                    no that means she was faking it          7  \n\n[24349 rows x 13 columns]",
      "text/html": "<div>\n<style scoped>\n    .dataframe tbody tr th:only-of-type {\n        vertical-align: middle;\n    }\n\n    .dataframe tbody tr th {\n        vertical-align: top;\n    }\n\n    .dataframe thead th {\n        text-align: right;\n    }\n</style>\n<table border=\"1\" class=\"dataframe\">\n  <thead>\n    <tr style=\"text-align: right;\">\n      <th></th>\n      <th>id</th>\n      <th>episode_id</th>\n      <th>number</th>\n      <th>raw_text</th>\n      <th>timestamp_in_ms</th>\n      <th>speaking_line</th>\n      <th>character_id</th>\n      <th>location_id</th>\n      <th>raw_character_text</th>\n      <th>raw_location_text</th>\n      <th>spoken_words</th>\n      <th>normalized_text</th>\n      <th>word_count</th>\n    </tr>\n  </thead>\n  <tbody>\n    <tr>\n      <th>131073</th>\n      <td>141375</td>\n      <td>505</td>\n      <td>58</td>\n      <td>Check-in Agent: Oh, I'm sorry, sir, but your c...</td>\n      <td>0</td>\n      <td>true</td>\n      <td>6085</td>\n      <td>4065.0</td>\n      <td>Check-in Agent</td>\n      <td>CRUISE CHECK-IN AREA</td>\n      <td>Oh, I'm sorry, sir, but your cruise is over-bo...</td>\n      <td>oh im sorry sir but your cruise is over-booked</td>\n      <td>9</td>\n    </tr>\n    <tr>\n      <th>131074</th>\n      <td>141376</td>\n      <td>505</td>\n      <td>59</td>\n      <td>Bart Simpson: What?!</td>\n      <td>0</td>\n      <td>true</td>\n      <td>8</td>\n      <td>4065.0</td>\n      <td>Bart Simpson</td>\n      <td>CRUISE CHECK-IN AREA</td>\n      <td>What?!</td>\n      <td>what</td>\n      <td>1</td>\n    </tr>\n    <tr>\n      <th>131075</th>\n      <td>141377</td>\n      <td>505</td>\n      <td>60</td>\n      <td>Bart Simpson: I can offer you a cabin on our s...</td>\n      <td>0</td>\n      <td>true</td>\n      <td>8</td>\n      <td>4065.0</td>\n      <td>Bart Simpson</td>\n      <td>CRUISE CHECK-IN AREA</td>\n      <td>I can offer you a cabin on our sugar-free fitn...</td>\n      <td>i can offer you a cabin on our sugar-free fitn...</td>\n      <td>11</td>\n    </tr>\n    <tr>\n      <th>131076</th>\n      <td>141378</td>\n      <td>505</td>\n      <td>61</td>\n      <td>Tough Announcer: Welcome to eight days and sev...</td>\n      <td>0</td>\n      <td>true</td>\n      <td>6086</td>\n      <td>4065.0</td>\n      <td>Tough Announcer</td>\n      <td>CRUISE CHECK-IN AREA</td>\n      <td>Welcome to eight days and seven nights of push...</td>\n      <td>welcome to eight days and seven nights of push...</td>\n      <td>11</td>\n    </tr>\n    <tr>\n      <th>131077</th>\n      <td>141379</td>\n      <td>505</td>\n      <td>62</td>\n      <td>Lisa Simpson: (DISAPPOINTED MOANS)</td>\n      <td>0</td>\n      <td>false</td>\n      <td>9</td>\n      <td>4065.0</td>\n      <td>Lisa Simpson</td>\n      <td>CRUISE CHECK-IN AREA</td>\n      <td>NaN</td>\n      <td>NaN</td>\n      <td>NaN</td>\n    </tr>\n    <tr>\n      <th>...</th>\n      <td>...</td>\n      <td>...</td>\n      <td>...</td>\n      <td>...</td>\n      <td>...</td>\n      <td>...</td>\n      <td>...</td>\n      <td>...</td>\n      <td>...</td>\n      <td>...</td>\n      <td>...</td>\n      <td>...</td>\n      <td>...</td>\n    </tr>\n    <tr>\n      <th>158266</th>\n      <td>9544</td>\n      <td>32</td>\n      <td>204</td>\n      <td>Miss Hoover: (OFF LISA'S REACTION) I'm back.</td>\n      <td>831000</td>\n      <td>true</td>\n      <td>464</td>\n      <td>3.0</td>\n      <td>Miss Hoover</td>\n      <td>Springfield Elementary School</td>\n      <td>I'm back.</td>\n      <td>im back</td>\n      <td>2</td>\n    </tr>\n    <tr>\n      <th>158267</th>\n      <td>9545</td>\n      <td>32</td>\n      <td>205</td>\n      <td>Miss Hoover: You see, class, my Lyme disease t...</td>\n      <td>839000</td>\n      <td>true</td>\n      <td>464</td>\n      <td>3.0</td>\n      <td>Miss Hoover</td>\n      <td>Springfield Elementary School</td>\n      <td>You see, class, my Lyme disease turned out to ...</td>\n      <td>you see class my lyme disease turned out to be</td>\n      <td>10</td>\n    </tr>\n    <tr>\n      <th>158268</th>\n      <td>9546</td>\n      <td>32</td>\n      <td>206</td>\n      <td>Miss Hoover: Psy-cho-so-ma-tic.</td>\n      <td>842000</td>\n      <td>true</td>\n      <td>464</td>\n      <td>3.0</td>\n      <td>Miss Hoover</td>\n      <td>Springfield Elementary School</td>\n      <td>Psy-cho-so-ma-tic.</td>\n      <td>psy-cho-so-ma-tic</td>\n      <td>1</td>\n    </tr>\n    <tr>\n      <th>158269</th>\n      <td>9547</td>\n      <td>32</td>\n      <td>207</td>\n      <td>Ralph Wiggum: Does that mean you were crazy?</td>\n      <td>844000</td>\n      <td>true</td>\n      <td>119</td>\n      <td>3.0</td>\n      <td>Ralph Wiggum</td>\n      <td>Springfield Elementary School</td>\n      <td>Does that mean you were crazy?</td>\n      <td>does that mean you were crazy</td>\n      <td>6</td>\n    </tr>\n    <tr>\n      <th>158270</th>\n      <td>9548</td>\n      <td>32</td>\n      <td>208</td>\n      <td>JANEY: No, that means she was faking it.</td>\n      <td>845000</td>\n      <td>true</td>\n      <td>4</td>\n      <td>3.0</td>\n      <td>JANEY</td>\n      <td>Springfield Elementary School</td>\n      <td>No, that means she was faking it.</td>\n      <td>no that means she was faking it</td>\n      <td>7</td>\n    </tr>\n  </tbody>\n</table>\n<p>24349 rows × 13 columns</p>\n</div>"
     },
     "execution_count": 4,
     "metadata": {},
     "output_type": "execute_result"
    }
   ],
   "source": [
    "## try to see if there are other stuff like this\n",
    "mask = df_script['character_id'].str.contains('[a-zA-Z]')\n",
    "mask = mask.notnull()\n",
    "df_script[mask]\n",
    "## we see there are more but we do not touch that as of now since it was not asked."
   ]
  },
  {
   "cell_type": "markdown",
   "metadata": {},
   "source": [
    "Next, use panda's `.head()` function to inspect the top rows of each dataframe."
   ]
  },
  {
   "cell_type": "code",
   "execution_count": 5,
   "metadata": {
    "collapsed": true,
    "jupyter": {
     "outputs_hidden": true
    },
    "tags": []
   },
   "outputs": [
    {
     "data": {
      "text/plain": "   id              name   normalized_name gender\n0   7          Children          children    NaN\n1  12  Mechanical Santa  mechanical santa    NaN\n2  13        Tattoo Man        tattoo man    NaN\n3  16  DOCTOR ZITSOFSKY  doctor zitsofsky    NaN\n4  20          Students          students    NaN",
      "text/html": "<div>\n<style scoped>\n    .dataframe tbody tr th:only-of-type {\n        vertical-align: middle;\n    }\n\n    .dataframe tbody tr th {\n        vertical-align: top;\n    }\n\n    .dataframe thead th {\n        text-align: right;\n    }\n</style>\n<table border=\"1\" class=\"dataframe\">\n  <thead>\n    <tr style=\"text-align: right;\">\n      <th></th>\n      <th>id</th>\n      <th>name</th>\n      <th>normalized_name</th>\n      <th>gender</th>\n    </tr>\n  </thead>\n  <tbody>\n    <tr>\n      <th>0</th>\n      <td>7</td>\n      <td>Children</td>\n      <td>children</td>\n      <td>NaN</td>\n    </tr>\n    <tr>\n      <th>1</th>\n      <td>12</td>\n      <td>Mechanical Santa</td>\n      <td>mechanical santa</td>\n      <td>NaN</td>\n    </tr>\n    <tr>\n      <th>2</th>\n      <td>13</td>\n      <td>Tattoo Man</td>\n      <td>tattoo man</td>\n      <td>NaN</td>\n    </tr>\n    <tr>\n      <th>3</th>\n      <td>16</td>\n      <td>DOCTOR ZITSOFSKY</td>\n      <td>doctor zitsofsky</td>\n      <td>NaN</td>\n    </tr>\n    <tr>\n      <th>4</th>\n      <td>20</td>\n      <td>Students</td>\n      <td>students</td>\n      <td>NaN</td>\n    </tr>\n  </tbody>\n</table>\n</div>"
     },
     "execution_count": 5,
     "metadata": {},
     "output_type": "execute_result"
    }
   ],
   "source": [
    "### Your code\n",
    "df_characters.head()"
   ]
  },
  {
   "cell_type": "code",
   "execution_count": 6,
   "metadata": {
    "collapsed": true,
    "jupyter": {
     "outputs_hidden": true
    },
    "tags": []
   },
   "outputs": [
    {
     "data": {
      "text/plain": "   id                           name                normalized_name\n0   1                         Street                         street\n1   2                            Car                            car\n2   3  Springfield Elementary School  springfield elementary school\n3   4                     Auditorium                     auditorium\n4   5                   Simpson Home                   simpson home",
      "text/html": "<div>\n<style scoped>\n    .dataframe tbody tr th:only-of-type {\n        vertical-align: middle;\n    }\n\n    .dataframe tbody tr th {\n        vertical-align: top;\n    }\n\n    .dataframe thead th {\n        text-align: right;\n    }\n</style>\n<table border=\"1\" class=\"dataframe\">\n  <thead>\n    <tr style=\"text-align: right;\">\n      <th></th>\n      <th>id</th>\n      <th>name</th>\n      <th>normalized_name</th>\n    </tr>\n  </thead>\n  <tbody>\n    <tr>\n      <th>0</th>\n      <td>1</td>\n      <td>Street</td>\n      <td>street</td>\n    </tr>\n    <tr>\n      <th>1</th>\n      <td>2</td>\n      <td>Car</td>\n      <td>car</td>\n    </tr>\n    <tr>\n      <th>2</th>\n      <td>3</td>\n      <td>Springfield Elementary School</td>\n      <td>springfield elementary school</td>\n    </tr>\n    <tr>\n      <th>3</th>\n      <td>4</td>\n      <td>Auditorium</td>\n      <td>auditorium</td>\n    </tr>\n    <tr>\n      <th>4</th>\n      <td>5</td>\n      <td>Simpson Home</td>\n      <td>simpson home</td>\n    </tr>\n  </tbody>\n</table>\n</div>"
     },
     "execution_count": 6,
     "metadata": {},
     "output_type": "execute_result"
    }
   ],
   "source": [
    "df_locations.head()"
   ]
  },
  {
   "cell_type": "code",
   "execution_count": 7,
   "metadata": {
    "collapsed": true,
    "jupyter": {
     "outputs_hidden": true
    },
    "tags": []
   },
   "outputs": [
    {
     "data": {
      "text/plain": "     id  episode_id  number  \\\n0  9549          32     209   \n1  9550          32     210   \n2  9551          32     211   \n3  9552          32     212   \n4  9553          32     213   \n\n                                            raw_text timestamp_in_ms  \\\n0  Miss Hoover: No, actually, it was a little of ...          848000   \n1  Lisa Simpson: (NEAR TEARS) Where's Mr. Bergstrom?          856000   \n2  Miss Hoover: I don't know. Although I'd sure l...          856000   \n3           Lisa Simpson: That life is worth living.          864000   \n4  Edna Krabappel-Flanders: The polls will be ope...          864000   \n\n  speaking_line character_id  location_id       raw_character_text  \\\n0          True        464.0          3.0              Miss Hoover   \n1          True          9.0          3.0             Lisa Simpson   \n2          True        464.0          3.0              Miss Hoover   \n3          True          9.0          3.0             Lisa Simpson   \n4          True         40.0          3.0  Edna Krabappel-Flanders   \n\n               raw_location_text  \\\n0  Springfield Elementary School   \n1  Springfield Elementary School   \n2  Springfield Elementary School   \n3  Springfield Elementary School   \n4  Springfield Elementary School   \n\n                                        spoken_words  \\\n0  No, actually, it was a little of both. Sometim...   \n1                             Where's Mr. Bergstrom?   \n2  I don't know. Although I'd sure like to talk t...   \n3                         That life is worth living.   \n4  The polls will be open from now until the end ...   \n\n                                     normalized_text word_count  \n0  no actually it was a little of both sometimes ...         31  \n1                                wheres mr bergstrom          3  \n2  i dont know although id sure like to talk to h...         22  \n3                          that life is worth living          5  \n4  the polls will be open from now until the end ...         33  ",
      "text/html": "<div>\n<style scoped>\n    .dataframe tbody tr th:only-of-type {\n        vertical-align: middle;\n    }\n\n    .dataframe tbody tr th {\n        vertical-align: top;\n    }\n\n    .dataframe thead th {\n        text-align: right;\n    }\n</style>\n<table border=\"1\" class=\"dataframe\">\n  <thead>\n    <tr style=\"text-align: right;\">\n      <th></th>\n      <th>id</th>\n      <th>episode_id</th>\n      <th>number</th>\n      <th>raw_text</th>\n      <th>timestamp_in_ms</th>\n      <th>speaking_line</th>\n      <th>character_id</th>\n      <th>location_id</th>\n      <th>raw_character_text</th>\n      <th>raw_location_text</th>\n      <th>spoken_words</th>\n      <th>normalized_text</th>\n      <th>word_count</th>\n    </tr>\n  </thead>\n  <tbody>\n    <tr>\n      <th>0</th>\n      <td>9549</td>\n      <td>32</td>\n      <td>209</td>\n      <td>Miss Hoover: No, actually, it was a little of ...</td>\n      <td>848000</td>\n      <td>True</td>\n      <td>464.0</td>\n      <td>3.0</td>\n      <td>Miss Hoover</td>\n      <td>Springfield Elementary School</td>\n      <td>No, actually, it was a little of both. Sometim...</td>\n      <td>no actually it was a little of both sometimes ...</td>\n      <td>31</td>\n    </tr>\n    <tr>\n      <th>1</th>\n      <td>9550</td>\n      <td>32</td>\n      <td>210</td>\n      <td>Lisa Simpson: (NEAR TEARS) Where's Mr. Bergstrom?</td>\n      <td>856000</td>\n      <td>True</td>\n      <td>9.0</td>\n      <td>3.0</td>\n      <td>Lisa Simpson</td>\n      <td>Springfield Elementary School</td>\n      <td>Where's Mr. Bergstrom?</td>\n      <td>wheres mr bergstrom</td>\n      <td>3</td>\n    </tr>\n    <tr>\n      <th>2</th>\n      <td>9551</td>\n      <td>32</td>\n      <td>211</td>\n      <td>Miss Hoover: I don't know. Although I'd sure l...</td>\n      <td>856000</td>\n      <td>True</td>\n      <td>464.0</td>\n      <td>3.0</td>\n      <td>Miss Hoover</td>\n      <td>Springfield Elementary School</td>\n      <td>I don't know. Although I'd sure like to talk t...</td>\n      <td>i dont know although id sure like to talk to h...</td>\n      <td>22</td>\n    </tr>\n    <tr>\n      <th>3</th>\n      <td>9552</td>\n      <td>32</td>\n      <td>212</td>\n      <td>Lisa Simpson: That life is worth living.</td>\n      <td>864000</td>\n      <td>True</td>\n      <td>9.0</td>\n      <td>3.0</td>\n      <td>Lisa Simpson</td>\n      <td>Springfield Elementary School</td>\n      <td>That life is worth living.</td>\n      <td>that life is worth living</td>\n      <td>5</td>\n    </tr>\n    <tr>\n      <th>4</th>\n      <td>9553</td>\n      <td>32</td>\n      <td>213</td>\n      <td>Edna Krabappel-Flanders: The polls will be ope...</td>\n      <td>864000</td>\n      <td>True</td>\n      <td>40.0</td>\n      <td>3.0</td>\n      <td>Edna Krabappel-Flanders</td>\n      <td>Springfield Elementary School</td>\n      <td>The polls will be open from now until the end ...</td>\n      <td>the polls will be open from now until the end ...</td>\n      <td>33</td>\n    </tr>\n  </tbody>\n</table>\n</div>"
     },
     "execution_count": 7,
     "metadata": {},
     "output_type": "execute_result"
    }
   ],
   "source": [
    " df_script.head()"
   ]
  },
  {
   "cell_type": "code",
   "execution_count": 8,
   "metadata": {
    "collapsed": true,
    "jupyter": {
     "outputs_hidden": true
    },
    "tags": []
   },
   "outputs": [
    {
     "data": {
      "text/plain": "   id                                          image_url  imdb_rating  \\\n0  10  http://static-media.fxx.com/img/FX_Networks_-_...          7.4   \n1  12  http://static-media.fxx.com/img/FX_Networks_-_...          8.3   \n2  14  http://static-media.fxx.com/img/FX_Networks_-_...          8.2   \n3  17  http://static-media.fxx.com/img/FX_Networks_-_...          8.1   \n4  19  http://static-media.fxx.com/img/FX_Networks_-_...          8.0   \n\n   imdb_votes  number_in_season  number_in_series original_air_date  \\\n0      1511.0                10                10        1990-03-25   \n1      1716.0                12                12        1990-04-29   \n2      1638.0                 1                14        1990-10-11   \n3      1457.0                 4                17        1990-11-01   \n4      1366.0                 6                19        1990-11-15   \n\n   original_air_year production_code  season  \\\n0               1990            7G10       1   \n1               1990            7G12       1   \n2               1990            7F03       2   \n3               1990            7F01       2   \n4               1990            7F08       2   \n\n                                               title  us_viewers_in_millions  \\\n0                                  Homer's Night Out                    30.3   \n1                                 Krusty Gets Busted                    30.4   \n2                                   Bart Gets an \"F\"                    33.6   \n3  Two Cars in Every Garage and Three Eyes on Eve...                    26.1   \n4                               Dead Putting Society                    25.4   \n\n                                         video_url    views  \n0  http://www.simpsonsworld.com/video/275197507879  50816.0  \n1  http://www.simpsonsworld.com/video/288019523914  62561.0  \n2  http://www.simpsonsworld.com/video/260539459671  59575.0  \n3  http://www.simpsonsworld.com/video/260537411822  64959.0  \n4  http://www.simpsonsworld.com/video/260539459670  50691.0  ",
      "text/html": "<div>\n<style scoped>\n    .dataframe tbody tr th:only-of-type {\n        vertical-align: middle;\n    }\n\n    .dataframe tbody tr th {\n        vertical-align: top;\n    }\n\n    .dataframe thead th {\n        text-align: right;\n    }\n</style>\n<table border=\"1\" class=\"dataframe\">\n  <thead>\n    <tr style=\"text-align: right;\">\n      <th></th>\n      <th>id</th>\n      <th>image_url</th>\n      <th>imdb_rating</th>\n      <th>imdb_votes</th>\n      <th>number_in_season</th>\n      <th>number_in_series</th>\n      <th>original_air_date</th>\n      <th>original_air_year</th>\n      <th>production_code</th>\n      <th>season</th>\n      <th>title</th>\n      <th>us_viewers_in_millions</th>\n      <th>video_url</th>\n      <th>views</th>\n    </tr>\n  </thead>\n  <tbody>\n    <tr>\n      <th>0</th>\n      <td>10</td>\n      <td>http://static-media.fxx.com/img/FX_Networks_-_...</td>\n      <td>7.4</td>\n      <td>1511.0</td>\n      <td>10</td>\n      <td>10</td>\n      <td>1990-03-25</td>\n      <td>1990</td>\n      <td>7G10</td>\n      <td>1</td>\n      <td>Homer's Night Out</td>\n      <td>30.3</td>\n      <td>http://www.simpsonsworld.com/video/275197507879</td>\n      <td>50816.0</td>\n    </tr>\n    <tr>\n      <th>1</th>\n      <td>12</td>\n      <td>http://static-media.fxx.com/img/FX_Networks_-_...</td>\n      <td>8.3</td>\n      <td>1716.0</td>\n      <td>12</td>\n      <td>12</td>\n      <td>1990-04-29</td>\n      <td>1990</td>\n      <td>7G12</td>\n      <td>1</td>\n      <td>Krusty Gets Busted</td>\n      <td>30.4</td>\n      <td>http://www.simpsonsworld.com/video/288019523914</td>\n      <td>62561.0</td>\n    </tr>\n    <tr>\n      <th>2</th>\n      <td>14</td>\n      <td>http://static-media.fxx.com/img/FX_Networks_-_...</td>\n      <td>8.2</td>\n      <td>1638.0</td>\n      <td>1</td>\n      <td>14</td>\n      <td>1990-10-11</td>\n      <td>1990</td>\n      <td>7F03</td>\n      <td>2</td>\n      <td>Bart Gets an \"F\"</td>\n      <td>33.6</td>\n      <td>http://www.simpsonsworld.com/video/260539459671</td>\n      <td>59575.0</td>\n    </tr>\n    <tr>\n      <th>3</th>\n      <td>17</td>\n      <td>http://static-media.fxx.com/img/FX_Networks_-_...</td>\n      <td>8.1</td>\n      <td>1457.0</td>\n      <td>4</td>\n      <td>17</td>\n      <td>1990-11-01</td>\n      <td>1990</td>\n      <td>7F01</td>\n      <td>2</td>\n      <td>Two Cars in Every Garage and Three Eyes on Eve...</td>\n      <td>26.1</td>\n      <td>http://www.simpsonsworld.com/video/260537411822</td>\n      <td>64959.0</td>\n    </tr>\n    <tr>\n      <th>4</th>\n      <td>19</td>\n      <td>http://static-media.fxx.com/img/FX_Networks_-_...</td>\n      <td>8.0</td>\n      <td>1366.0</td>\n      <td>6</td>\n      <td>19</td>\n      <td>1990-11-15</td>\n      <td>1990</td>\n      <td>7F08</td>\n      <td>2</td>\n      <td>Dead Putting Society</td>\n      <td>25.4</td>\n      <td>http://www.simpsonsworld.com/video/260539459670</td>\n      <td>50691.0</td>\n    </tr>\n  </tbody>\n</table>\n</div>"
     },
     "execution_count": 8,
     "metadata": {},
     "output_type": "execute_result"
    }
   ],
   "source": [
    "df_episodes.head()"
   ]
  },
  {
   "cell_type": "markdown",
   "metadata": {},
   "source": [
    "### 2. Prominent Characters (4 points)\n",
    "\n",
    "Let us now take a look at the most important characters of the show. To start, retrieve the most prominent characters by the number of spoken words/lines throughout the show. \n",
    "\n",
    "Extract the top 10 characters based on the number of spoken words (word count), as well as the 10 most prominent characters regarding their sum total number of lines.\n",
    "\n",
    "You might notice that there is a column with `word_count` in the `df_scripts` data frame, but cleaning it up might be tricky. To find the sum of all values, first remove the `nan` entries and any other string characters in that column. You can use the provided `conv` function for this."
   ]
  },
  {
   "cell_type": "code",
   "execution_count": 9,
   "metadata": {},
   "outputs": [],
   "source": [
    "def conv(row):\n",
    "    try:\n",
    "        return int(row)\n",
    "    except:\n",
    "        return np.nan\n",
    "# First apply the conv() filtering on the word count\n",
    "df_script[\"word_count\"] = df_script[\"word_count\"].apply(lambda x:conv(x)) ## using lambda for every x in the column 'word_count' and applying conv to it\n",
    "df_script['character_id'] = df_script['character_id'].apply(lambda x:conv(x)) ## same for the 'character_id' column, since it is an ID column but holds strings O_O\n",
    "# And then drop all `nan` values in \"word_count\"\n",
    "# Hint: Make sure the operation is done in-place.\n",
    "df_script.dropna(subset=[\"word_count\"], inplace=True) ## dropna to word_count, inplace"
   ]
  },
  {
   "cell_type": "code",
   "execution_count": 10,
   "metadata": {},
   "outputs": [
    {
     "data": {
      "text/plain": "Empty DataFrame\nColumns: [id, episode_id, number, raw_text, timestamp_in_ms, speaking_line, character_id, location_id, raw_character_text, raw_location_text, spoken_words, normalized_text, word_count]\nIndex: []",
      "text/html": "<div>\n<style scoped>\n    .dataframe tbody tr th:only-of-type {\n        vertical-align: middle;\n    }\n\n    .dataframe tbody tr th {\n        vertical-align: top;\n    }\n\n    .dataframe thead th {\n        text-align: right;\n    }\n</style>\n<table border=\"1\" class=\"dataframe\">\n  <thead>\n    <tr style=\"text-align: right;\">\n      <th></th>\n      <th>id</th>\n      <th>episode_id</th>\n      <th>number</th>\n      <th>raw_text</th>\n      <th>timestamp_in_ms</th>\n      <th>speaking_line</th>\n      <th>character_id</th>\n      <th>location_id</th>\n      <th>raw_character_text</th>\n      <th>raw_location_text</th>\n      <th>spoken_words</th>\n      <th>normalized_text</th>\n      <th>word_count</th>\n    </tr>\n  </thead>\n  <tbody>\n  </tbody>\n</table>\n</div>"
     },
     "execution_count": 10,
     "metadata": {},
     "output_type": "execute_result"
    }
   ],
   "source": [
    "df_script[df_script[\"character_id\"] == '6083'] ## noice"
   ]
  },
  {
   "cell_type": "code",
   "execution_count": 11,
   "metadata": {
    "tags": []
   },
   "outputs": [],
   "source": [
    "# Now aggregate the top characters by words:\n",
    "top_characters_by_words = df_script[\n",
    "    [\"character_id\", \"raw_character_text\", \"word_count\"]].groupby(\n",
    "    [\"character_id\", 'raw_character_text']).sum('word_count').sort_values('word_count', ascending=False).reset_index()   #[]\n",
    "## ^^ grouping by character_id and raw_character_text so we can later have the character's name as well as the id and summing the word_count for each character.\n",
    "## reset_index() is extremely important here, because otherwise we would have the columns we used the groupby as the index\n",
    "\n",
    "## we assumed here, that each row is a line of a character.\n",
    "df_script['lines_count'] = 1 ## creating a temp column and set it for all entries as 1, so we can later sum up the number of lines for each character\n",
    "top_characters_by_lines = df_script[['character_id', 'raw_character_text', 'lines_count']].groupby(['character_id', 'raw_character_text']).sum('lines_count').sort_values('lines_count', ascending=False).reset_index()\n",
    "df_script = df_script.drop('lines_count', axis = 1)\n",
    "\n"
   ]
  },
  {
   "cell_type": "code",
   "execution_count": 12,
   "metadata": {},
   "outputs": [
    {
     "data": {
      "text/plain": "      character_id   raw_character_text  lines_count\n0              2.0        Homer Simpson        27910\n1              1.0        Marge Simpson        13192\n2              8.0         Bart Simpson        13013\n3              9.0         Lisa Simpson        10769\n4             15.0  C. Montgomery Burns         3087\n...            ...                  ...          ...\n6274        1043.0           Parent One            1\n6275        2150.0               Yakuza            1\n6276        4111.0              Greeter            1\n6277        4112.0       Store Employee            1\n6278        4575.0        Bart-waitress            1\n\n[6279 rows x 3 columns]",
      "text/html": "<div>\n<style scoped>\n    .dataframe tbody tr th:only-of-type {\n        vertical-align: middle;\n    }\n\n    .dataframe tbody tr th {\n        vertical-align: top;\n    }\n\n    .dataframe thead th {\n        text-align: right;\n    }\n</style>\n<table border=\"1\" class=\"dataframe\">\n  <thead>\n    <tr style=\"text-align: right;\">\n      <th></th>\n      <th>character_id</th>\n      <th>raw_character_text</th>\n      <th>lines_count</th>\n    </tr>\n  </thead>\n  <tbody>\n    <tr>\n      <th>0</th>\n      <td>2.0</td>\n      <td>Homer Simpson</td>\n      <td>27910</td>\n    </tr>\n    <tr>\n      <th>1</th>\n      <td>1.0</td>\n      <td>Marge Simpson</td>\n      <td>13192</td>\n    </tr>\n    <tr>\n      <th>2</th>\n      <td>8.0</td>\n      <td>Bart Simpson</td>\n      <td>13013</td>\n    </tr>\n    <tr>\n      <th>3</th>\n      <td>9.0</td>\n      <td>Lisa Simpson</td>\n      <td>10769</td>\n    </tr>\n    <tr>\n      <th>4</th>\n      <td>15.0</td>\n      <td>C. Montgomery Burns</td>\n      <td>3087</td>\n    </tr>\n    <tr>\n      <th>...</th>\n      <td>...</td>\n      <td>...</td>\n      <td>...</td>\n    </tr>\n    <tr>\n      <th>6274</th>\n      <td>1043.0</td>\n      <td>Parent One</td>\n      <td>1</td>\n    </tr>\n    <tr>\n      <th>6275</th>\n      <td>2150.0</td>\n      <td>Yakuza</td>\n      <td>1</td>\n    </tr>\n    <tr>\n      <th>6276</th>\n      <td>4111.0</td>\n      <td>Greeter</td>\n      <td>1</td>\n    </tr>\n    <tr>\n      <th>6277</th>\n      <td>4112.0</td>\n      <td>Store Employee</td>\n      <td>1</td>\n    </tr>\n    <tr>\n      <th>6278</th>\n      <td>4575.0</td>\n      <td>Bart-waitress</td>\n      <td>1</td>\n    </tr>\n  </tbody>\n</table>\n<p>6279 rows × 3 columns</p>\n</div>"
     },
     "execution_count": 12,
     "metadata": {},
     "output_type": "execute_result"
    }
   ],
   "source": [
    "top_characters_by_lines"
   ]
  },
  {
   "cell_type": "markdown",
   "metadata": {},
   "source": [
    "\n",
    "Compare both results by drawing two bar plots: For the first plot, the x-axis should show the name of the top 10 characters with regard to the word count and the y-axis should display the number of spoken words.\n",
    "\n",
    "In the second plot, you should do the same, but this time considering the number of lines (not words) for each character. Note that the characters shown in the two plots might differ.\n"
   ]
  },
  {
   "cell_type": "code",
   "execution_count": 13,
   "metadata": {},
   "outputs": [
    {
     "data": {
      "text/plain": "<Figure size 640x480 with 1 Axes>",
      "image/png": "[encoded data removed]"
     },
     "metadata": {},
     "output_type": "display_data"
    }
   ],
   "source": [
    "# First plot: Top 10 characters by word count\n",
    "# Hint: Try to use the integration of matplotlib and pandas to directly plot from a dataframe.\n",
    "fig = plt.figure()\n",
    "ax = fig.add_axes([0,0,2,2])\n",
    "top_10_words = top_characters_by_words[:10]\n",
    "top_10_lines = top_characters_by_words[:10]\n",
    "names = top_10_words['raw_character_text']\n",
    "words = top_10_words['word_count']\n",
    "ax.bar(names, words)\n",
    "plt.show()"
   ]
  },
  {
   "cell_type": "code",
   "execution_count": 14,
   "metadata": {},
   "outputs": [
    {
     "data": {
      "text/plain": "<Figure size 640x480 with 1 Axes>",
      "image/png": "[encoded data removed]"
     },
     "metadata": {},
     "output_type": "display_data"
    }
   ],
   "source": [
    "# Second plot: Top 10 characters by lines\n",
    "# First plot: Top 10 characters by word count\n",
    "# Hint: Try to use the integration of matplotlib and pandas to directly plot from a dataframe.\n",
    "fig = plt.figure()\n",
    "ax = fig.add_axes([0,0,2,2])\n",
    "top_10_words = top_characters_by_lines[:10]\n",
    "top_10_lines = top_characters_by_lines[:10]\n",
    "names = top_10_words['raw_character_text']\n",
    "words = top_10_words['lines_count']\n",
    "ax.bar(names, words)\n",
    "plt.show()"
   ]
  },
  {
   "cell_type": "markdown",
   "metadata": {},
   "source": [
    "Compare the results of the two plots: What do you notice? Do the results look correct to you?\n",
    "\n",
    "The number of lines is not an indicator to who has spoken the most words. \n",
    "The same applies the other way around. We have, for some reason, a character named 'Entire town', which has a single line, yet has spoken 1154000 words, so it is possible that many characters who just show up once and are very random were all summed up into one entry in the script dataframe."
   ]
  },
  {
   "cell_type": "markdown",
   "metadata": {},
   "source": [
    "### 3. Common Words (3 points)\n",
    "\n",
    "We continue by examining the dialogues in more detail, by looking at the top 20 most commonly appearing words (tokens).\n",
    "\n",
    "To generate a meaningful output, use the following pre-processing pipeline, parts of which were explained in more detail during the tutorials and the lecture:\n",
    "- Use spaCy (`en_core_web_sm`) to process all text.\n",
    "- Instead of considering the raw text, use the lemmatized token provided by spaCy. use lemmatization all bz spacz\n",
    "- Additionally, ignore any token that is classified as punctuation by spaCy.  remove puntucations \n",
    "- Also skip any token which is classified as a stop word by spaCy.  remove stopword"
   ]
  },
  {
   "cell_type": "code",
   "execution_count": null,
   "metadata": {
    "tags": []
   },
   "outputs": [],
   "source": [
    "from collections import Counter\n",
    "\n",
    "# Load the spacy model specified above. Make sure to disable the \"ner\" component for more speed.\n",
    "nlp = spacy.load(\"en_core_web_sm\", exclude=[\"ner\"])\n",
    "\n",
    "sentence_list = df_script['spoken_words'].values\n",
    "        \n",
    "# Iterate over the spoken words (Hint: df_script) and append the lemmatized tokens as detailed above\n",
    "stopwords = spacy.lang.en.stop_words.STOP_WORDS\n",
    "word_list = []\n",
    "for sentence in sentence_list:\n",
    "    for word in nlp(str(sentence)):\n",
    "        if not word.lemma_ in stopwords:\n",
    "            if not word.is_punct:\n",
    "                word_list.append(word.lemma_)\n",
    "\n",
    "word_counter = Counter(word_list)\n",
    "word_counter.most_common(20)"
   ]
  },
  {
   "cell_type": "markdown",
   "metadata": {},
   "source": [
    "Now plot a graph with the top 20 words on the x-axis and their respective frequencies on the y-axis, similar to the previous question."
   ]
  },
  {
   "cell_type": "code",
   "execution_count": null,
   "metadata": {},
   "outputs": [],
   "source": [
    "# Provide a plot of the frequencies of the most common 20 words.\n",
    "words_to_plot = word_counter.most_common(20)\n",
    "fig = plt.figure()\n",
    "ax = fig.add_axes([0,0,2,2])\n",
    "words_to = [word[0] for word in words_to_plot]\n",
    "occurance = [word[1] for word in words_to_plot]\n",
    "ax.bar(words_to, occurance)\n",
    "plt.show()"
   ]
  },
  {
   "cell_type": "markdown",
   "metadata": {},
   "source": [
    "### 4. Named Entity Wordcloud (2 points)\n",
    "\n",
    "Apply named entity recognition (NER) using SpaCy and generate a word cloud of the most commonly appearing 50\n",
    "named entities that have the type `PERSON`. Visualize the resulting entities in a word cloud.\n",
    "Take into account that you cannot simply use the \n",
    "output of the previous task, since NER was explicitly disabled.\n",
    " Since the named entity recognition takes quite some time, use only the first `10000` scripts."
   ]
  },
  {
   "cell_type": "code",
   "execution_count": null,
   "metadata": {},
   "outputs": [
    {
     "ename": "KeyboardInterrupt",
     "evalue": "",
     "output_type": "error",
     "traceback": [
      "\u001B[1;31m---------------------------------------------------------------------------\u001B[0m",
      "\u001B[1;31mKeyboardInterrupt\u001B[0m                         Traceback (most recent call last)",
      "Cell \u001B[1;32mIn[16], line 8\u001B[0m\n\u001B[0;32m      6\u001B[0m \u001B[38;5;28;01mfor\u001B[39;00m script \u001B[38;5;129;01min\u001B[39;00m df_script\u001B[38;5;241m.\u001B[39mspoken_words\u001B[38;5;241m.\u001B[39mtolist()[:\u001B[38;5;241m10000\u001B[39m]:\n\u001B[0;32m      7\u001B[0m     script_nlp \u001B[38;5;241m=\u001B[39m nlp(script)\n\u001B[1;32m----> 8\u001B[0m     \u001B[38;5;28;01mfor\u001B[39;00m entity \u001B[38;5;129;01min\u001B[39;00m script_nlp\u001B[38;5;241m.\u001B[39ments:\n\u001B[0;32m      9\u001B[0m         \u001B[38;5;28;01mif\u001B[39;00m entity\u001B[38;5;241m.\u001B[39mlabel_ \u001B[38;5;241m==\u001B[39m \u001B[38;5;124m'\u001B[39m\u001B[38;5;124mPERSON\u001B[39m\u001B[38;5;124m'\u001B[39m:\n\u001B[0;32m     10\u001B[0m             word_entity_list\u001B[38;5;241m.\u001B[39mappend(entity\u001B[38;5;241m.\u001B[39mtext)\n",
      "Cell \u001B[1;32mIn[16], line 8\u001B[0m\n\u001B[0;32m      6\u001B[0m \u001B[38;5;28;01mfor\u001B[39;00m script \u001B[38;5;129;01min\u001B[39;00m df_script\u001B[38;5;241m.\u001B[39mspoken_words\u001B[38;5;241m.\u001B[39mtolist()[:\u001B[38;5;241m10000\u001B[39m]:\n\u001B[0;32m      7\u001B[0m     script_nlp \u001B[38;5;241m=\u001B[39m nlp(script)\n\u001B[1;32m----> 8\u001B[0m     \u001B[38;5;28;01mfor\u001B[39;00m entity \u001B[38;5;129;01min\u001B[39;00m script_nlp\u001B[38;5;241m.\u001B[39ments:\n\u001B[0;32m      9\u001B[0m         \u001B[38;5;28;01mif\u001B[39;00m entity\u001B[38;5;241m.\u001B[39mlabel_ \u001B[38;5;241m==\u001B[39m \u001B[38;5;124m'\u001B[39m\u001B[38;5;124mPERSON\u001B[39m\u001B[38;5;124m'\u001B[39m:\n\u001B[0;32m     10\u001B[0m             word_entity_list\u001B[38;5;241m.\u001B[39mappend(entity\u001B[38;5;241m.\u001B[39mtext)\n",
      "File \u001B[1;32m_pydevd_bundle\\pydevd_cython_win32_310_64.pyx:1179\u001B[0m, in \u001B[0;36m_pydevd_bundle.pydevd_cython_win32_310_64.SafeCallWrapper.__call__\u001B[1;34m()\u001B[0m\n",
      "File \u001B[1;32m_pydevd_bundle\\pydevd_cython_win32_310_64.pyx:620\u001B[0m, in \u001B[0;36m_pydevd_bundle.pydevd_cython_win32_310_64.PyDBFrame.trace_dispatch\u001B[1;34m()\u001B[0m\n",
      "File \u001B[1;32m_pydevd_bundle\\pydevd_cython_win32_310_64.pyx:1095\u001B[0m, in \u001B[0;36m_pydevd_bundle.pydevd_cython_win32_310_64.PyDBFrame.trace_dispatch\u001B[1;34m()\u001B[0m\n",
      "File \u001B[1;32m_pydevd_bundle\\pydevd_cython_win32_310_64.pyx:1053\u001B[0m, in \u001B[0;36m_pydevd_bundle.pydevd_cython_win32_310_64.PyDBFrame.trace_dispatch\u001B[1;34m()\u001B[0m\n",
      "File \u001B[1;32mC:\\Program Files\\JetBrains\\PyCharm 2022.2.3\\plugins\\python\\helpers-pro\\jupyter_debug\\pydev_jupyter_plugin.py:169\u001B[0m, in \u001B[0;36mstop\u001B[1;34m(plugin, pydb, frame, event, args, stop_info, arg, step_cmd)\u001B[0m\n\u001B[0;32m    167\u001B[0m     frame \u001B[38;5;241m=\u001B[39m suspend_jupyter(main_debugger, thread, frame, step_cmd)\n\u001B[0;32m    168\u001B[0m     \u001B[38;5;28;01mif\u001B[39;00m frame:\n\u001B[1;32m--> 169\u001B[0m         \u001B[43mmain_debugger\u001B[49m\u001B[38;5;241;43m.\u001B[39;49m\u001B[43mdo_wait_suspend\u001B[49m\u001B[43m(\u001B[49m\u001B[43mthread\u001B[49m\u001B[43m,\u001B[49m\u001B[43m \u001B[49m\u001B[43mframe\u001B[49m\u001B[43m,\u001B[49m\u001B[43m \u001B[49m\u001B[43mevent\u001B[49m\u001B[43m,\u001B[49m\u001B[43m \u001B[49m\u001B[43marg\u001B[49m\u001B[43m)\u001B[49m\n\u001B[0;32m    170\u001B[0m         \u001B[38;5;28;01mreturn\u001B[39;00m \u001B[38;5;28;01mTrue\u001B[39;00m\n\u001B[0;32m    171\u001B[0m \u001B[38;5;28;01mreturn\u001B[39;00m \u001B[38;5;28;01mFalse\u001B[39;00m\n",
      "File \u001B[1;32mC:\\Program Files\\JetBrains\\PyCharm 2022.2.3\\plugins\\python\\helpers\\pydev\\pydevd.py:1160\u001B[0m, in \u001B[0;36mPyDB.do_wait_suspend\u001B[1;34m(self, thread, frame, event, arg, send_suspend_message, is_unhandled_exception)\u001B[0m\n\u001B[0;32m   1157\u001B[0m         from_this_thread\u001B[38;5;241m.\u001B[39mappend(frame_id)\n\u001B[0;32m   1159\u001B[0m \u001B[38;5;28;01mwith\u001B[39;00m \u001B[38;5;28mself\u001B[39m\u001B[38;5;241m.\u001B[39m_threads_suspended_single_notification\u001B[38;5;241m.\u001B[39mnotify_thread_suspended(thread_id, stop_reason):\n\u001B[1;32m-> 1160\u001B[0m     \u001B[38;5;28;43mself\u001B[39;49m\u001B[38;5;241;43m.\u001B[39;49m\u001B[43m_do_wait_suspend\u001B[49m\u001B[43m(\u001B[49m\u001B[43mthread\u001B[49m\u001B[43m,\u001B[49m\u001B[43m \u001B[49m\u001B[43mframe\u001B[49m\u001B[43m,\u001B[49m\u001B[43m \u001B[49m\u001B[43mevent\u001B[49m\u001B[43m,\u001B[49m\u001B[43m \u001B[49m\u001B[43marg\u001B[49m\u001B[43m,\u001B[49m\u001B[43m \u001B[49m\u001B[43msuspend_type\u001B[49m\u001B[43m,\u001B[49m\u001B[43m \u001B[49m\u001B[43mfrom_this_thread\u001B[49m\u001B[43m)\u001B[49m\n",
      "File \u001B[1;32mC:\\Program Files\\JetBrains\\PyCharm 2022.2.3\\plugins\\python\\helpers\\pydev\\pydevd.py:1175\u001B[0m, in \u001B[0;36mPyDB._do_wait_suspend\u001B[1;34m(self, thread, frame, event, arg, suspend_type, from_this_thread)\u001B[0m\n\u001B[0;32m   1172\u001B[0m             \u001B[38;5;28mself\u001B[39m\u001B[38;5;241m.\u001B[39m_call_mpl_hook()\n\u001B[0;32m   1174\u001B[0m         \u001B[38;5;28mself\u001B[39m\u001B[38;5;241m.\u001B[39mprocess_internal_commands()\n\u001B[1;32m-> 1175\u001B[0m         \u001B[43mtime\u001B[49m\u001B[38;5;241;43m.\u001B[39;49m\u001B[43msleep\u001B[49m\u001B[43m(\u001B[49m\u001B[38;5;241;43m0.01\u001B[39;49m\u001B[43m)\u001B[49m\n\u001B[0;32m   1177\u001B[0m \u001B[38;5;28mself\u001B[39m\u001B[38;5;241m.\u001B[39mcancel_async_evaluation(get_current_thread_id(thread), \u001B[38;5;28mstr\u001B[39m(\u001B[38;5;28mid\u001B[39m(frame)))\n\u001B[0;32m   1179\u001B[0m \u001B[38;5;66;03m# process any stepping instructions\u001B[39;00m\n",
      "\u001B[1;31mKeyboardInterrupt\u001B[0m: "
     ]
    }
   ],
   "source": [
    "# Load the English spacy model again, but this time do not disable the NER module.\n",
    "nlp = spacy.load(\"en_core_web_sm\") ### Your code\n",
    "\n",
    "# Extract named entities of the type \"PERSON\" from each script.\n",
    "word_entity_list = []\n",
    "for script in df_script.spoken_words.tolist()[:10000]:\n",
    "    script_nlp = nlp(script)\n",
    "    for entity in script_nlp.ents:\n",
    "        if entity.label_ == 'PERSON':\n",
    "            word_entity_list.append(entity.text)"
   ]
  },
  {
   "cell_type": "code",
   "execution_count": null,
   "metadata": {},
   "outputs": [],
   "source": [
    "## Get the 50 most common named entities\n",
    "word_entity_counter = Counter(word_entity_list)\n",
    "top_50_named_entities = word_entity_counter.most_common(50)\n",
    "top_50_dict = {}\n",
    "for item in top_50_named_entities:\n",
    "    top_50_dict.update({item[0] : item[1]})\n",
    "print(top_50_dict)"
   ]
  },
  {
   "cell_type": "markdown",
   "metadata": {},
   "source": [
    "To visualize the word cloud, you may use the `wordcloud` package, which works in combination with `matplotlib`. Make sure to limit the number of visible words to 50, and the maximum font size to 60."
   ]
  },
  {
   "cell_type": "code",
   "execution_count": null,
   "metadata": {},
   "outputs": [],
   "source": [
    "# Create matplotlib skeleton for word cloud figure\n",
    "fig = plt.figure(1, figsize=(12,12))\n",
    "x, y = np.ogrid[:300, :300]\n",
    "# plt.axes(\"off\")\n",
    "mask = (x - 150) ** 2 + (y - 150) ** 2 > 130 ** 2\n",
    "mask = 255 * mask.astype(int)\n",
    "cloud = WordCloud(background_color=\"white\", repeat=True, mask=mask)\n",
    "cloud.generate_from_frequencies(top_50_dict)\n",
    "plt.imshow(cloud, interpolation=\"bilinear\")"
   ]
  },
  {
   "cell_type": "markdown",
   "metadata": {},
   "source": [
    "### 5. Normalized Word Importance with TF-IDF (6 points)\n",
    "\n",
    "The top words so far seem not too informative. We wish to find out the importance of particular words for specific characters, by looking at normalized frequency counts.\n",
    "As an example, we expect the younger Simpson family members to exhibit a disproportionate frequency for the word \"mom\" or \"dad\", compared to other characters.\n",
    "\n",
    "We looked at the normalization through Term Frequency - Inverse Document Frequency (TF-IDF) in the lecture, which we will use here to investigate lines by `Lisa Simpson` and `Bart Simpson`.\n",
    "\n",
    "In this case, each script line is a document for a certain character who spoke the words.\n",
    "Use `CountVectorizer` and `TfidfTransformers` from the `scikit-learn` library. In addition, filter out stop words and words with a frequency of less than 5 occurrences from the analysis. Then plot the TF-IDF values for the top 10 words for Lisa and Bart as bar plots."
   ]
  },
  {
   "cell_type": "code",
   "execution_count": null,
   "metadata": {},
   "outputs": [],
   "source": [
    "## not necessary since we retrieve the common words by from the tfidf processing\n",
    "\n",
    "from sklearn.feature_extraction.text import CountVectorizer\n",
    "from sklearn.feature_extraction.text import TfidfTransformer\n",
    "from collections import Counter\n",
    "\n",
    "def process_and_spl(script):\n",
    "    stopwords = spacy.lang.en.stop_words.STOP_WORDS\n",
    "    nlp = spacy.load(\"en_core_web_sm\", exclude=[\"ner\"])\n",
    "    top_list = []\n",
    "    for sentence in script.spoken_words.tolist():\n",
    "        for word in nlp(sentence):\n",
    "            if not word.lemma_ in stopwords:\n",
    "                if not word.is_punct:\n",
    "                    top_list.append(word.lemma_)\n",
    "    top_10 = Counter(top_list)\n",
    "    return top_10.most_common(10)\n",
    "\n",
    "lisa_scripts = df_script.loc[df_script['raw_character_text'] == 'Lisa Simpson']\n",
    "bart_scripts = df_script.loc[df_script['raw_character_text'] == 'Bart Simpson']   \n",
    "top_10_lisa = get_10_most_freq(lisa_scripts)\n",
    "top_10_bart = get_10_most_freq(bart_scripts)\n",
    "### Your code"
   ]
  },
  {
   "cell_type": "code",
   "execution_count": null,
   "metadata": {},
   "outputs": [],
   "source": [
    "# Plot the top 10 occurrences, weighted by TF-IDF.\n",
    "def plot_top_10(top_10_tfidf_lisa, top_10_tfidf_bart):\n",
    "    words1 = top_10_tfidf_lisa.index\n",
    "    tfidf1 = top_10_tfidf_lisa.values\n",
    "    words2 = top_10_tfidf_bart.index\n",
    "    tfidf2 = top_10_tfidf_bart.values\n",
    "    plt.bar(words1, tfidf1)\n",
    "    plt.title(\"total TF-IDF Weights for top 10 Words said by Lisa\")\n",
    "    plt.xlabel(\"Word\")\n",
    "    plt.ylabel(\"TF-IDF Weight\")\n",
    "    plt.show()\n",
    "    plt.bar(words2, tfidf2)\n",
    "    plt.title(\"total TF-IDF Weights for top 10 Words said by Bart\")\n",
    "    plt.xlabel(\"Word\")\n",
    "    plt.ylabel(\"TF-IDF Weight\")\n",
    "    plt.show()\n",
    "\n",
    "def process_corpus(corpus: list):\n",
    "    ##First we will preprocess the corpus for stopwords\n",
    "    nlp = spacy.load(\"en_core_web_sm\")\n",
    "    stopwords = spacy.lang.en.stop_words.STOP_WORDS\n",
    "    processed_corpus = []\n",
    "    for sentence in corpus:\n",
    "        doc = nlp(sentence)\n",
    "        processed_corpus.append(\" \".join([token.lemma_ for token in doc if not token.is_stop and not token.is_punct]))\n",
    "    return(processed_corpus)\n",
    "\n",
    "def find_top_10_tfidf(corpus: list):\n",
    "    ##Initializing and fitting the CountVectorizer to our corpus\n",
    "    count_vec = CountVectorizer(min_df=5)\n",
    "    word_count_vec = count_vec.fit_transform(corpus) ## fits to corpus and learns the term frequencies\n",
    "    ##Turn into DataFrame\n",
    "    counts = pd.DataFrame(word_count_vec.toarray(), index = [i for i, doc in enumerate(corpus)], columns = count_vec.get_feature_names_out())\n",
    "    \n",
    "    ## dropping terms that don't show up more than 5 times across all lines ------------ sadly not needed since min_df does that.\n",
    "    ## Since each row of a column has either 0's or 1's (not in document or in document), we can sum the values of all columns\n",
    "    ## and remove those who have less than 5\n",
    "    # counts_sum = counts.sum(axis=0)\n",
    "    # counts.drop([word for word in counts_sum.index if counts_sum[word] <= 5], axis = 1, inplace=True)\n",
    "    # print(\"shape\", counts.shape)\n",
    "\n",
    "\n",
    "    ## fitting the TfidfTransformer to our count vector\n",
    "    tf_transformer = TfidfTransformer(use_idf = True).fit(word_count_vec) ## learn the idf weights from\n",
    "    word_count_vec_tf = tf_transformer.transform(word_count_vec) ## Transform a count matrix to a tf or tf-idf representation.\n",
    "    ## Turn into DataFrame\n",
    "    tfidf_counts = pd.DataFrame(word_count_vec_tf.toarray(), index = [i for i, doc in enumerate(corpus)], columns = count_vec.get_feature_names_out())\n",
    "    tfidf_counts\n",
    "    \n",
    "    ## We now have a DataFrame where each index represents a document (line) and each column represents a word out of the entire\n",
    "    ## dictionary. (total words in all lines).\n",
    "    ## We can sum up an entire column to get the total tf-idf weight for a word across all documents\n",
    "    ## and just pick the top 10.\n",
    "    ##Summing up the scores and find the top 10 ones\n",
    "    ## change to mean if tutor says it should be normalized\n",
    "    sum_of_columns = tfidf_counts.sum(axis=0) #axis=0 for columns, axis=1 for rows\n",
    "    sum_of_columns.sort_values(ascending = False, inplace=True)\n",
    "    print(sum_of_columns[:10])\n",
    "    return sum_of_columns[:10]\n",
    "\n",
    "lisa_scripts = df_script.loc[df_script['raw_character_text'] == 'Lisa Simpson']\n",
    "bart_scripts = df_script.loc[df_script['raw_character_text'] == 'Bart Simpson']\n",
    "processed_lisa = process_corpus(lisa_scripts.spoken_words.tolist())\n",
    "processed_bart = process_corpus(bart_scripts.spoken_words.tolist())\n",
    "top_10_tfidf_lisa = find_top_10_tfidf(processed_lisa)\n",
    "top_10_tfidf_bart = find_top_10_tfidf(processed_bart)\n",
    "plot_top_10(top_10_tfidf_lisa, top_10_tfidf_bart)"
   ]
  },
  {
   "cell_type": "markdown",
   "metadata": {},
   "source": [
    "Do your results look correct?"
   ]
  },
  {
   "cell_type": "markdown",
   "metadata": {},
   "source": [
    "### Our results have given us a very high tf-idf weight for words like dad & mom which both appear in the top 10 for both Lisa and Bart.\n",
    "### We can also try and see what we get when we just extract the top 10 frequent words without giving the tf-idf weight an importance.\n",
    "### which can be found in the following code block:"
   ]
  },
  {
   "cell_type": "code",
   "execution_count": null,
   "metadata": {},
   "outputs": [],
   "source": [
    "def sentences_to_words_list(sentences):\n",
    "    words = []\n",
    "    # Loop through each sentence in the list.\n",
    "    for sentence in sentences:\n",
    "        # Use the split() method to split the sentence into a list of words.\n",
    "        sentence_words = sentence.split()\n",
    "        # Use the extend() method to add the list of words from the sentence to the list of words.\n",
    "        words.extend(sentence_words)\n",
    "    return words\n",
    "\n",
    "\n",
    "bart_words = sentences_to_words_list(processed_bart)\n",
    "lisa_words = sentences_to_words_list(processed_lisa)\n",
    "top_10 = Counter(bart_words)\n",
    "print(top_10.most_common(10))\n",
    "top_10 = Counter(lisa_words)\n",
    "print(top_10.most_common(10))"
   ]
  },
  {
   "cell_type": "markdown",
   "metadata": {},
   "source": [
    "."
   ]
  },
  {
   "cell_type": "markdown",
   "metadata": {},
   "source": [
    "By using `CountVectorizer` over the concatenation of all character-specific lines, we can then also compute a (non-normalized) document similarity between the lines of Lisa and Bart. Use cosine similarity over the two document vectors to compare the similarity.\n",
    "\n",
    "For the `CountVectorizer`, use the same arguments as before (minimum 5 occurrences and no stop words)."
   ]
  },
  {
   "cell_type": "code",
   "execution_count": null,
   "metadata": {
    "tags": []
   },
   "outputs": [],
   "source": [
    "from sklearn.metrics.pairwise import cosine_similarity\n",
    "\n",
    "##We have ignored the instruction to filter words with less than 5 occurences\n",
    "##since it is not possible to use the min_df argument when we actually have less than 5 documents.\n",
    "##Concatenate all character-specific lines for Bart and Lisa.\n",
    "##We will use the same processed lists from earlier\n",
    "bart_strings = \" \".join(processed_bart)\n",
    "lisa_strings = \" \".join(processed_lisa)\n",
    "\n",
    "# Fit the CountVectorizer to both bart's & lisa's lines \n",
    "count_vec = CountVectorizer()\n",
    "# count_vec.fit_transform([bart_strings, lisa_strings])\n",
    "word_count_vec = count_vec.fit_transform([bart_strings, lisa_strings])\n",
    "print(\"Similarity is:\")\n",
    "cosine_similarity(word_count_vec[0], word_count_vec[1], dense_output=True)"
   ]
  },
  {
   "cell_type": "markdown",
   "metadata": {
    "tags": []
   },
   "source": [
    "### 6. NNMF Topics (5 points)\n",
    "\n",
    "Uncover interesting topics by using non-negative matrix factorization (NNMF or NMF).\n",
    "\n",
    "Use the `NMF` implementation from `sklearn` to detect the topics in the scripts, and use text cleaning steps similar to the first task. However, this time perform no lemmatization:\n",
    "- Use spaCy (`en_core_web_sm`) to process all text.\n",
    "- Additionally, ignore any token that is classified as punctuation by spaCy.\n",
    "- Also skip any token which is classified as a stop word by spaCy.\n",
    "\n",
    "Set the `max_features` of `CountVectorizer` to 10,000 and `random_state` of the `NMF` to 42, and `n_components=10`."
   ]
  },
  {
   "cell_type": "code",
   "execution_count": null,
   "metadata": {},
   "outputs": [],
   "source": [
    "from sklearn.decomposition import NMF \n",
    "from spacy.tokenizer import Tokenizer"
   ]
  },
  {
   "cell_type": "code",
   "execution_count": null,
   "metadata": {},
   "outputs": [],
   "source": [
    "# load 'en_core_web_sm' and exclude the NER.\n",
    "nlp = spacy.load('en_core_web_sm', exclude=[\"ner\"])\n",
    "stopwords = stopwords = spacy.lang.en.stop_words.STOP_WORDS\n",
    "scripts = df_script['spoken_words'].values\n",
    "# We have chosen to extract only 10000 lines since it would take forever to do it for all the lines\n",
    "sentence_list = scripts[:10000]\n",
    "word_list = []\n",
    "for sentence in sentence_list:\n",
    "    for word in nlp(str(sentence)):\n",
    "        if not word.lemma_ in stopwords:\n",
    "            if not word.is_punct:\n",
    "                word_list.append(word)"
   ]
  },
  {
   "cell_type": "code",
   "execution_count": null,
   "metadata": {},
   "outputs": [],
   "source": []
  },
  {
   "cell_type": "code",
   "execution_count": null,
   "metadata": {},
   "outputs": [],
   "source": [
    "# Apply NNMF to our filtered list\n",
    "str_list = [str(word) for word in word_list]\n",
    "cv = CountVectorizer(max_features=10000)\n",
    "cv_fitted = cv.fit_transform(str_list)\n",
    "nmf = NMF(n_components=20 ,random_state=42)\n",
    "# assign W & H to be the features matrix & the vocabulary matrix\n",
    "W = nmf.fit_transform(cv_fitted)\n",
    "H = nmf.components_"
   ]
  },
  {
   "cell_type": "code",
   "execution_count": null,
   "metadata": {},
   "outputs": [],
   "source": [
    "def show_topics(components,num_top_words,vocab):\n",
    "    #for each component or topic sorts the row values from large to small and \n",
    "    # returns the top words as the representation of the topic.\n",
    "    top_words = lambda t: [vocab[i] for i in np.argsort(t)[:-num_top_words-1:-1]]\n",
    "    topic_words = ([top_words(t) for t in components])\n",
    "    return [' '.join(t) for t in topic_words]"
   ]
  },
  {
   "cell_type": "markdown",
   "metadata": {},
   "source": [
    "Use the `show_topics` method to show the top-20 words for the top 2 topics."
   ]
  },
  {
   "cell_type": "code",
   "execution_count": null,
   "metadata": {
    "tags": []
   },
   "outputs": [],
   "source": [
    "### Your code\n",
    "show_topics(H, 20, str_list)"
   ]
  },
  {
   "cell_type": "markdown",
   "metadata": {},
   "source": [
    "## Question 2-2: Boosting results in Elasticsearch (1 + 9 + 2 = 12 points)\n",
    "\n",
    "Before you start, make sure to download the file `test_data.json`, available on [Moodle](https://moodle.uni-heidelberg.de/pluginfile.php/1006481/mod_label/intro/test-data.json). This question assumes you have a running installation of Elasticsearch 7.X on your machine. If not, make sure to follow the steps detailed in the first tutorial to set up an instance. To complete the following questions, you will have to adjust the given URLs with your own settings. Look out for mentions of `<login>`, `<password>` and `<port>` and replace them accordingly."
   ]
  },
  {
   "cell_type": "markdown",
   "source": [],
   "metadata": {
    "collapsed": false
   }
  },
  {
   "cell_type": "markdown",
   "source": [],
   "metadata": {
    "collapsed": false
   }
  },
  {
   "cell_type": "markdown",
   "metadata": {},
   "source": [
    "Bulk load the content of `test_data.json` into an index called `dishes`. You may use the following shell command:\n",
    "\n",
    "```bash\n",
    "curl -u <login>:<password> -H \"Content-Type:application/x-ndjson\" -XPOST http://localhost:<port>/dishes/_bulk --data-binary \"@test_data.json\"\n",
    "```\n",
    "\n",
    "For our specific setup (using docker-compose.yml):\n",
    "```bash\n",
    "curl -u elastic:T1234 -H \"Content-Type:application/x-ndjson\" -XPOST http://localhost:9200/dishes/_bulk --data-binary \"@test-data.json\"\n",
    "```\n",
    "\n",
    "All solutions were elaborated using Kibana console. The respective results of the JSON object (like hits, values, etc.) could be extracted as described in the specific Python-Elasticsearch-Tutorial.\n",
    "\n",
    "1. Provide a command to extract the dynamic mapping that is created in this scenario. Make sure that the output mapping is included in your solution (potentially pasting it into another cell or execute through the )."
   ]
  },
  {
   "cell_type": "markdown",
   "metadata": {},
   "source": [
    "**Command**\n",
    "\n",
    "```http request\n",
    "GET dishes/_mapping?pretty\n",
    "```"
   ]
  },
  {
   "cell_type": "markdown",
   "source": [
    "**Output**\n",
    "\n",
    "```JSON\n",
    "{\n",
    "  \"dishes\" : {\n",
    "    \"mappings\" : {\n",
    "      \"properties\" : {\n",
    "        \"created\" : {\n",
    "          \"type\" : \"date\",\n",
    "          \"format\" : \"yyyy/MM/dd HH:mm:ss||yyyy/MM/dd||epoch_millis\"\n",
    "        },\n",
    "        \"description\" : {\n",
    "          \"type\" : \"text\",\n",
    "          \"fields\" : {\n",
    "            \"keyword\" : {\n",
    "              \"type\" : \"keyword\",\n",
    "              \"ignore_above\" : 256\n",
    "            }\n",
    "          }\n",
    "        },\n",
    "        \"ingredients\" : {\n",
    "          \"properties\" : {\n",
    "            \"name\" : {\n",
    "              \"type\" : \"text\",\n",
    "              \"fields\" : {\n",
    "                \"keyword\" : {\n",
    "                  \"type\" : \"keyword\",\n",
    "                  \"ignore_above\" : 256\n",
    "                }\n",
    "              }\n",
    "            },\n",
    "            \"quantity\" : {\n",
    "              \"type\" : \"text\",\n",
    "              \"fields\" : {\n",
    "                \"keyword\" : {\n",
    "                  \"type\" : \"keyword\",\n",
    "                  \"ignore_above\" : 256\n",
    "                }\n",
    "              }\n",
    "            }\n",
    "          }\n",
    "        },\n",
    "        \"preparation_time_minutes\" : {\n",
    "          \"type\" : \"long\"\n",
    "        },\n",
    "        \"query\" : {\n",
    "          \"properties\" : {\n",
    "            \"match_all\" : {\n",
    "              \"type\" : \"object\"\n",
    "            }\n",
    "          }\n",
    "        },\n",
    "        \"ratings\" : {\n",
    "          \"type\" : \"float\"\n",
    "        },\n",
    "        \"servings\" : {\n",
    "          \"properties\" : {\n",
    "            \"max\" : {\n",
    "              \"type\" : \"long\"\n",
    "            },\n",
    "            \"min\" : {\n",
    "              \"type\" : \"long\"\n",
    "            }\n",
    "          }\n",
    "        },\n",
    "        \"steps\" : {\n",
    "          \"type\" : \"text\",\n",
    "          \"fields\" : {\n",
    "            \"keyword\" : {\n",
    "              \"type\" : \"keyword\",\n",
    "              \"ignore_above\" : 256\n",
    "            }\n",
    "          }\n",
    "        },\n",
    "        \"title\" : {\n",
    "          \"type\" : \"text\",\n",
    "          \"fields\" : {\n",
    "            \"keyword\" : {\n",
    "              \"type\" : \"keyword\",\n",
    "              \"ignore_above\" : 256\n",
    "            }\n",
    "          }\n",
    "        }\n",
    "      }\n",
    "    }\n",
    "  }\n",
    "}\n",
    "```\n"
   ],
   "metadata": {
    "collapsed": false
   }
  },
  {
   "cell_type": "markdown",
   "metadata": {},
   "source": [
    "2. Write queries to the `dishes` index given the specified criteria. The matching documents should be included in your solution, including their respective scores."
   ]
  },
  {
   "cell_type": "markdown",
   "metadata": {},
   "source": [
    "a) Return all dishes that have a preparation time of less than 15 minutes"
   ]
  },
  {
   "cell_type": "markdown",
   "source": [],
   "metadata": {
    "collapsed": false
   }
  },
  {
   "cell_type": "markdown",
   "metadata": {},
   "source": [
    "**Command**\n",
    "\n",
    "```\n",
    "GET dishes/_search\n",
    "{\n",
    "  \"query\": {\n",
    "    \"range\": {\n",
    "      \"preparation_time_minutes\": {\n",
    "        \"lt\": 15\n",
    "      }\n",
    "    }\n",
    "  }\n",
    "}\n",
    "```\n",
    "\n",
    "**Solution (Pattern: Score / Title)**\n",
    "\n",
    "- 1.0: \"Fast and Easy Pasta With Blistered Cherry Tomato Sauce\"\n",
    "- 1.0: \"Stovetop Macaroni and Cheese\"\n",
    "- 1.0: \"Spaghetti Aglio e Olio Recipe\"\n"
   ]
  },
  {
   "cell_type": "markdown",
   "metadata": {},
   "source": [
    "b) All dishes that contain `spaghetti` in the title."
   ]
  },
  {
   "cell_type": "markdown",
   "metadata": {},
   "source": [
    "Assuming that lower case matches should be considered as well as upper case matches.\n",
    "\n",
    "For this task one have to distinguish between filter and matching queries. Filters won't determine a score and return a simple yes/no result. Matching queries, in contrast, would return the best possible solution based on analyzer which is in this case the default text analyzer of elastisearch. Since we should add scores to our solution we solved this task by using matching queries.\n",
    "\n",
    "**Command**\n",
    "\n",
    "```\n",
    "GET dishes/_search\n",
    "{\n",
    "  \"query\": {\n",
    "    \"bool\": {\n",
    "      \"must\":  [\n",
    "        {\n",
    "          \"match\": {\n",
    "            \"title\": \"spaghetti\"\n",
    "          }\n",
    "        }\n",
    "      ]\n",
    "    }\n",
    "  }\n",
    "}\n",
    "```\n",
    "\n",
    "Or equivally\n",
    "\n",
    "```\n",
    "GET dishes/_search\n",
    "{\n",
    "  \"query\": {\n",
    "    \"match\": {\n",
    "      \"title\": \"spaghetti\"\n",
    "    }\n",
    "  }\n",
    "}\n",
    "```\n",
    "\n",
    "**Solution (Pattern: Score / Title)**\n",
    "\n",
    "- 1.9130536: \"Spaghetti Puttanesca (Pasta or Spaghetti With Capers, Olives, and Anchovies)\"\n",
    "- 1.7677585: \"Spaghetti Aglio e Olio Recipe\"\n",
    "- 1.4669425: \"Shrimp Fra Diavolo (Spaghetti With Spicy Tomato Sauce)\"\n",
    "- 1.3174803: \"Cacio e Pepe (Spaghetti With Black Pepper and Pecorino Romano)\"\n",
    "\n"
   ]
  },
  {
   "cell_type": "markdown",
   "metadata": {},
   "source": [
    "c) All dishes that received at least one 5-star rating and were created after 2016."
   ]
  },
  {
   "cell_type": "markdown",
   "metadata": {},
   "source": [
    "Creation after 2016 is interpreted as each dish which was created from 2017-01-01 on until today.\n",
    "\n",
    "**Command**\n",
    "\n",
    "```\n",
    "GET dishes/_search\n",
    "{\n",
    "  \"query\": {\n",
    "    \"bool\": {\n",
    "      \"must\": [\n",
    "        {\n",
    "          \"range\": {\n",
    "            \"created\": {\n",
    "              \"gt\": \"2017/01/01\"\n",
    "            }\n",
    "          }\n",
    "        },\n",
    "        {\n",
    "          \"term\": {\n",
    "            \"ratings\": 5\n",
    "          }\n",
    "        }\n",
    "      ]\n",
    "    }\n",
    "  }\n",
    "}\n",
    "```\n",
    "**Results**\n",
    "\n",
    "- 2.0: \"Fast and Easy Pasta With Blistered Cherry Tomato Sauce\" (created : \"2017/03/29\", ratings : 4.5, 5.0, 3.0, 4.5)\n",
    "- 2.0: \"Penne With Hot-As-You-Dare Arrabbiata Sauce\" (created : \"2017/04/27\", ratings : 1.5, 2.0, 4.0, 3.5, 3.0, 5.0, 1.5)\n",
    "\n",
    "**Output skipped from now (only necessary attributes are shown in results section**\n"
   ]
  },
  {
   "cell_type": "markdown",
   "metadata": {},
   "source": [
    "d) Dishes that serve between 6 to 8 people."
   ]
  },
  {
   "cell_type": "markdown",
   "metadata": {},
   "source": [
    "**Command**\n",
    "\n",
    "```\n",
    "GET dishes/_search\n",
    "{\n",
    "  \"query\": {\n",
    "    \"bool\": {\n",
    "      \"must\": [\n",
    "        {\n",
    "          \"range\": {\n",
    "            \"servings.min\": {\n",
    "              \"gte\": 6\n",
    "            }\n",
    "          }\n",
    "        },\n",
    "        {\n",
    "          \"range\": {\n",
    "            \"servings.max\": {\n",
    "              \"lte\": 8\n",
    "            }\n",
    "          }\n",
    "        }\n",
    "      ]\n",
    "    }\n",
    "  }\n",
    "}\n",
    "```\n",
    "\n",
    "**Solution**\n",
    "- 2.0: \"Easy Skillet Baked Ziti With Sausage and Ricotta\" (\"servings\" : {\"min\" : 6, \"max\" : 8})"
   ]
  },
  {
   "cell_type": "markdown",
   "metadata": {},
   "source": [
    "e) Dishes that mention both of the phrases \"pasta\" and \"parmigiano\" in the instructions."
   ]
  },
  {
   "cell_type": "markdown",
   "metadata": {},
   "source": [
    "**Command**\n",
    "\n",
    "```\n",
    "GET dishes/_search\n",
    "{\n",
    "  \"query\": {\n",
    "    \"match\": {\n",
    "      \"steps\": {\n",
    "        \"query\" : \"pasta parmigiano\",\n",
    "        \"operator\": \"and\"\n",
    "      }\n",
    "    }\n",
    "  }\n",
    "}\n",
    "```\n",
    "\n",
    "**Solution**\n",
    "- 2.3426425: \"Pesto Pasta With Potatoes and Green Beans\"\n",
    "- 2.1880798: \"Easy Skillet Baked Ziti With Sausage and Ricotta\""
   ]
  },
  {
   "cell_type": "markdown",
   "metadata": {},
   "source": [
    "f) All recipes that require more than 10 ingredients"
   ]
  },
  {
   "cell_type": "markdown",
   "metadata": {},
   "source": [
    "Since the respective fields of ingredients (name, quantity) are textfields, the basic approach using script throws some error. To obtain some results using scripting we have to adapt the mapping of at least one of the fields. In this case we chose the name field, because the quantity field is sometimes missing.\n",
    "\n",
    "**Command**\n",
    "\n",
    "```\n",
    "GET dishes/_search?size=20\n",
    "{\n",
    "   \"query\": {\n",
    "      \"bool\": {\n",
    "        \"filter\": [\n",
    "          {\n",
    "            \"script\": {\n",
    "              \"script\": \"\"\"\n",
    "                def count = 0;\n",
    "                for(int i = 0; i < doc['ingredients.name.keyword'].length; i++) {\n",
    "                  count++;\n",
    "                }\n",
    "                return count > 10;\n",
    "                \"\"\"\n",
    "            }\n",
    "          }\n",
    "        ]\n",
    "      }\n",
    "   }\n",
    "}\n",
    "```\n",
    "\n",
    "**Solution**\n",
    "Score is 0, since the query is a filter query.\n",
    "\n",
    "- 0.0: \"Ricotta Gnocchi With Asparagus and Prosciutto\" (13 ingredients)\n",
    "- 0.0: \"Shrimp Fra Diavolo (Spaghetti With Spicy Tomato Sauce)\" (12)\n",
    "- 0.0: \"Vegan Carbonara Pasta\" (12)\n",
    "- 0.0: \"Spaghetti Puttanesca (Pasta or Spaghetti With Capers, Olives, and Anchovies)\" (13)\n",
    "- 0.0: \"Penne With Melted-Vegetable Sauce\" (12)\n",
    "- 0.0: \"Lighter Fettuccine Alfredo Recipe\" (12)\n",
    "- 0.0: \"Lighter Tuna Noodle Casserole\" (12)\n",
    "- 0.0: \"One-Skillet Orecchiette With Shrimp, Spinach, and Mushrooms\" (13)\n",
    "- 0.0: \"Skillet Pasta With Mushrooms, Pancetta, and Wilted Greens\" (12)\n",
    "- 0.0: \"Vegetarian Citrus Pasta With Swiss Chard\" (11)\n",
    "- 0.0: \"Pasta With Mushrooms, Brussels Sprouts, and Parmesan\" (13)\n",
    "- 0.0: \"Easy Skillet Baked Ziti With Sausage and Ricotta\" (16)\n",
    "- 0.0: \"Crispy Baked Pasta With Mushrooms, Sausage, and Parmesan Cream Sauce\" (18)\n"
   ]
  },
  {
   "cell_type": "markdown",
   "metadata": {},
   "source": [
    "g) Extend your query from b), such that it searches for `spaghetti` in both the title *and* description field. Occurrences in the title field should be boosted by a factor of 3.\n",
    "\n",
    "\n"
   ]
  },
  {
   "cell_type": "markdown",
   "metadata": {},
   "source": [
    "**Command**\n",
    "```\n",
    "GET dishes/_search\n",
    "{\n",
    "  \"query\": {\n",
    "    \"multi_match\": {\n",
    "      \"query\": \"spaghetti\",\n",
    "      \"fields\": [\"title^3\", \"description\"]\n",
    "    }\n",
    "  }\n",
    "}\n",
    "```\n",
    "\n",
    "**Solution:**\n",
    "- 5.7391615: \"Spaghetti Puttanesca (Pasta or Spaghetti With Capers, Olives, and Anchovies)\"\n",
    "- 5.303276: \"Spaghetti Aglio e Olio Recipe\"\n",
    "- 4.400828: \"Shrimp Fra Diavolo (Spaghetti With Spicy Tomato Sauce)\"\n",
    "- 3.9524412: \"Cacio e Pepe (Spaghetti With Black Pepper and Pecorino Romano)\""
   ]
  },
  {
   "cell_type": "markdown",
   "metadata": {},
   "source": [
    "3. The default analyzer might not be perfect for working with recipe data. Provide the definition of a custom analyzer which adheres to the following specifications:\n",
    "   \n",
    "   - It performs *no* stop word filtering.\n",
    "   - It applies stemming to all tokens.\n",
    "   - It does *not* lowercase tokens, but keeps the original case of letters."
   ]
  },
  {
   "cell_type": "markdown",
   "metadata": {},
   "source": [
    "**Solution**\n",
    "\n",
    "```\n",
    "PUT dishes\n",
    "{\n",
    "  \"settings\": {\n",
    "    \"analysis\": {\n",
    "      \"analyzer\": {\n",
    "        \"my_custom_analyzer\": {\n",
    "          \"type\": \"custom\",\n",
    "          \"tokenizer\": \"standard\",\n",
    "          \"filter\": [\n",
    "            \"stemmer\"\n",
    "          ]\n",
    "        }\n",
    "      }\n",
    "    }\n",
    "  }\n",
    "}\n",
    "```"
   ]
  },
  {
   "cell_type": "markdown",
   "metadata": {},
   "source": [
    "## Question 2-3: Document Representations (2 + 2 + 3 = 7 points)\n",
    "\n",
    "Please fill out the answers directly in the provided fields."
   ]
  },
  {
   "cell_type": "markdown",
   "metadata": {},
   "source": [
    "#### a) Why is it preferable to use cosine distance over Euclidean distance when computing document similarity?"
   ]
  },
  {
   "cell_type": "markdown",
   "metadata": {},
   "source": [
    "Answer:"
   ]
  },
  {
   "cell_type": "markdown",
   "metadata": {},
   "source": [
    "#### b) Identify two shortcomings of Bag-of-Word-based document representations"
   ]
  },
  {
   "cell_type": "markdown",
   "metadata": {},
   "source": [
    "Answer:"
   ]
  },
  {
   "cell_type": "markdown",
   "metadata": {},
   "source": [
    "#### c) Find the singular value decomposition of the following matrix:\n",
    "\n",
    "$A = \\left[ \\begin{matrix}1&-1\\\\ -2&2\\\\ 2&-2\\end{matrix} \\right]$.\n"
   ]
  },
  {
   "cell_type": "markdown",
   "metadata": {},
   "source": [
    "Answer:"
   ]
  },
  {
   "cell_type": "markdown",
   "metadata": {},
   "source": []
  }
 ],
 "metadata": {
  "kernelspec": {
   "display_name": "Python 3 (ipykernel)",
   "language": "python",
   "name": "python3"
  },
  "language_info": {
   "codemirror_mode": {
    "name": "ipython",
    "version": 3
   },
   "file_extension": ".py",
   "mimetype": "text/x-python",
   "name": "python",
   "nbconvert_exporter": "python",
   "pygments_lexer": "ipython3",
   "version": "3.10.0"
  },
  "vscode": {
   "interpreter": {
    "hash": "c2042d1922a07c71a3ec2c9c9cbb77e812df8ca713873bc0ea973593272381e2"
   }
  }
 },
 "nbformat": 4,
 "nbformat_minor": 4
}
