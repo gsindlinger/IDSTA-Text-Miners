{
 "cells": [
  {
   "attachments": {},
   "cell_type": "markdown",
   "metadata": {
    "id": "cUgbolxu5quo"
   },
   "source": [
    "# Assignment 4: Keyphrase Extraction, Named Entity Recognition & Neural Models\n",
    "\n",
    "Due: Monday, February 06, 2023, at 2pm via Moodle\n",
    "\n",
    "**Team Members** `<Fill out>`\n",
    "\n",
    "Please note that this assignment comes with quite a number of artifacts, totaling somewhere around 5 GB of necessary disk space. In case you are running into issues or do want to keep your environment \"clean\", we suggest the use of [Google Colab](https://colab.research.google.com/)."
   ]
  },
  {
   "cell_type": "code",
   "execution_count": 1,
   "metadata": {},
   "outputs": [],
   "source": [
    "%%bash\n",
    ". ~/.bashrc\n",
    "python3 -m pip install keybert\n",
    "python3 -m pip install git+https://github.com/LIAAD/yake\n",
    "python3 -m pip install transformers\n",
    "python3 -m pip install datasets\n",
    "python3 -m pip install nltk\n",
    "python3 -m pip install spacy\n",
    "python3 -m pip install torch\n",
    "# Install necessary packages for all questions"
   ]
  },
  {
   "attachments": {},
   "cell_type": "markdown",
   "metadata": {
    "id": "315kqIiW2Zhr"
   },
   "source": [
    "## Task 1: Keyphrase Extraction (5 + 3 + 3 + 5) = 16 Points\n",
    "\n",
    "In this task, we will implement our own unsupervised keyphrase extraction (KPE) module utilizing a simple grammatical ruling system, which we apply to a Sherlock Holmes novel.\n",
    "To generate TF-IDF-weighted phrases, we will be using the entire collection of Sir Arthur Donan Coyle novels to calculate document frequencies.\n",
    "\n",
    "Finally, we compare the results to general-purpose KPE libraries."
   ]
  },
  {
   "attachments": {},
   "cell_type": "markdown",
   "metadata": {
    "id": "joME4y0pC-bq"
   },
   "source": [
    "### Sub Task 1: Unsupervised Keyphrase Extraction System (5 Points)\n",
    "\n",
    "#### 1. Candidate Generation\n",
    "We will need to generate a set of suitable candidate phrases first, which can then be ranked as keyphrases later on. To do this, we will again be using spaCy's, this time its rule-based [`Matcher` class](https://spacy.io/api/matcher).\n",
    "\n",
    "The syntactic pattern of a keyphrase candidate should satisfy the following rules:\n",
    "\n",
    "1. An optional adjective, noun, proper noun\n",
    "2. An optional adjective, noun, proper noun\n",
    "3. A mandatory noun or proper noun.\n",
    "\n",
    "Add a second pattern, which recognizes the pattern\n",
    "\n",
    "1. A noun or proper noun\n",
    "2. An adposition\n",
    "3. Another noun or proper noun\n",
    "\n",
    "Note that the first condition will match any phrase of length between 1-3 tokens, which is a suitable approximation for our task at hand, whereas the second pattern is slightly more specific, always matching exactly three tokens.\n",
    "An example of a valid matched phrases for the first pattern would be \"Sherlock Holmes\" ([PROPN, PROPN]), and \"Hounds of Baskervilles\" ([NOUN, ADP, PROPN]) for the second pattern."
   ]
  },
  {
   "cell_type": "code",
   "execution_count": null,
   "metadata": {
    "id": "j7yKhziiDkzJ"
   },
   "outputs": [],
   "source": [
    "import spacy\n",
    "from spacy.matcher import Matcher"
   ]
  },
  {
   "cell_type": "code",
   "execution_count": null,
   "metadata": {
    "colab": {
     "base_uri": "https://localhost:8080/"
    },
    "id": "1cFJOPt3DlZu",
    "outputId": "a13cb7f2-71ea-49bc-b2cd-b1626cef4789"
   },
   "outputs": [],
   "source": [
    "# load language model\n",
    "nlp = spacy.load(\"en_core_web_sm\", disable=[\"ner\"])\n",
    "matcher = Matcher(nlp.vocab)\n",
    "\n",
    "# Define the above patterns\n",
    "pattern = ## YOUR CODE\n",
    "\n",
    "matcher.add( ## YOUR CODE"
   ]
  },
  {
   "attachments": {},
   "cell_type": "markdown",
   "metadata": {},
   "source": [
    "To verify whether your pattern is correct, use the below example.\n",
    "If you have done everything correctly, your matcher will identify **13 phrases**."
   ]
  },
  {
   "cell_type": "code",
   "execution_count": null,
   "metadata": {
    "colab": {
     "base_uri": "https://localhost:8080/"
    },
    "id": "71JZGbIlHfxx",
    "outputId": "7b650ae4-99bd-4226-ab95-fe0b8cc2b09e"
   },
   "outputs": [],
   "source": [
    "doc = nlp(\"This is a simple test. It should return 'simple', and 'test', among other phrases. Maybe we can also see if it can recognize the art of war. Would it recognize integer linear programming, too?\")\n",
    "matches = matcher(doc)\n",
    "\n",
    "print(len(matches))"
   ]
  },
  {
   "attachments": {},
   "cell_type": "markdown",
   "metadata": {
    "id": "3x2TRsI-GeLq"
   },
   "source": [
    "#### 2. Applying Your System\n",
    "\n",
    "Once you have matched the correct number of keyphrase candidates on the above example, apply your rule-based matcher to an actual data sample. We are going to use the Sherlock Holmes novel \"Hounds of Baskervilles\". You can find the raw text file at the following URL:\n",
    "\n",
    "https://sherlock-holm.es/stories/plain-text/houn.txt\n",
    "\n",
    "Download the text from this URL and apply your spaCy model and matcher on it.  \n",
    "**Hint:** Make sure you properly decode your input, since some libraries return binary strings."
   ]
  },
  {
   "cell_type": "code",
   "execution_count": null,
   "metadata": {
    "id": "cbDFj7DSLQ5v"
   },
   "outputs": [],
   "source": [
    "from urllib.request import urlopen\n",
    "def load_txt_from_url(url: str = \"https://sherlock-holm.es/stories/plain-text/houn.txt\") -> str:\n",
    "  ## YOUR CODE\n",
    "\n",
    "text = load_txt_from_url()\n",
    "\n",
    "# Apply the spacy model to the loaded text and extract the phrases with the Matcher\n",
    "doc = ## YOUR CODE\n",
    "matches = ## YOUR CODE"
   ]
  },
  {
   "attachments": {},
   "cell_type": "markdown",
   "metadata": {
    "id": "q4U96ELPKtIA"
   },
   "source": [
    "We will now investigate which phrase candidates are the most frequently appearing in this novel, simply based on the phrase frequency. Therefore, convert your abstract match objects into actual strings, lowercase them, and return the 20 most frequently occurring phrase candidates and their respective frequencies.  \n",
    "**Hint:** For counting occurrences, you may look at `collections.Counter`."
   ]
  },
  {
   "cell_type": "code",
   "execution_count": null,
   "metadata": {
    "colab": {
     "base_uri": "https://localhost:8080/"
    },
    "id": "_tGof05SIXES",
    "outputId": "a32bdb06-438d-4268-cdc6-07563c344aab"
   },
   "outputs": [],
   "source": [
    "candidates = []\n",
    "# Lowercase and add the extracted candidate matches to `candidates`\n",
    "## YOUR CODE\n",
    "\n",
    "# Count the number of occurrences of different candidate phrases\n",
    "candidate_phrases = ## YOUR CODE\n",
    "# Print the most frequently occurring phrases, together with the respective frequencies\n",
    "print( ## YOUR CODE"
   ]
  },
  {
   "attachments": {},
   "cell_type": "markdown",
   "metadata": {
    "id": "WYQt8278NA7v"
   },
   "source": [
    "#### 3. Briefly summarize the quality of your top 20 candidates:\n",
    "\n",
    "YOUR ANSWER"
   ]
  },
  {
   "attachments": {},
   "cell_type": "markdown",
   "metadata": {
    "id": "aucrN3TPJqw1"
   },
   "source": [
    "### Sub Task 2: Generating Document Frequency Values (3 Points)\n",
    "\n",
    "To compare the previously generated terms with a more refined model, we are going to extract document frequencies from the collection of all Sherlock Holmes works. Since the books are relatively long documents, we are instead going to split based on a simple heuristic in the input document, which should allow a decent approximation by taking into account individual chapters of each novel."
   ]
  },
  {
   "attachments": {},
   "cell_type": "markdown",
   "metadata": {
    "id": "mfp7rUN9N218"
   },
   "source": [
    "1. Start by loading the Sherlock Holmes canon from https://sherlock-holm.es/stories/plain-text/cnus.txt  \n",
    "Afterwards, split the full document into individual chapters. For this, use three consecutive line breaks `\\n\\n\\n` as a splitting condition to approximate the chapters."
   ]
  },
  {
   "cell_type": "code",
   "execution_count": null,
   "metadata": {
    "colab": {
     "base_uri": "https://localhost:8080/"
    },
    "id": "FJYRCDJyP-Xp",
    "outputId": "e1251116-c0a3-4697-9163-328b10891bf9"
   },
   "outputs": [],
   "source": [
    "df_texts = load_txt_from_url(\"https://sherlock-holm.es/stories/plain-text/cnus.txt\")\n",
    "\n",
    "split_df_texts = ## YOUR CODE\n",
    "\n",
    "print(len(split_df_texts))"
   ]
  },
  {
   "attachments": {},
   "cell_type": "markdown",
   "metadata": {
    "id": "oRcMyiKkRU7d"
   },
   "source": [
    "After splitting, you should have 353 individual \"documents\" to work with.\n",
    "\n",
    "2. Now, create a dictionary containing each phrase encountered in the larger corpus, and its associated document frequency. Again, ensure that phrase strings are lowercased for consistency with the previous transformation.  \n",
    "**Hint:** Since the processing of 353 documents might take a while, incorporate [`tqdm.tqdm`](https://tqdm.github.io/) to visualize progress on the task."
   ]
  },
  {
   "cell_type": "code",
   "execution_count": null,
   "metadata": {
    "colab": {
     "base_uri": "https://localhost:8080/"
    },
    "id": "JtXpYkWQQJi2",
    "outputId": "6d2f3743-c8bd-4e76-e676-fc53d1672189"
   },
   "outputs": [],
   "source": [
    "from tqdm import tqdm\n",
    "from typing import List\n",
    "\n",
    "def return_occurring_phrases(doc_text: str) -> List[str]:\n",
    "  # process text with spaCy and apply the Matcher\n",
    "  doc = ## YOUR CODE\n",
    "  matches = ## YOUR CODE\n",
    "\n",
    "  # Candidates can be a set, since we only care about the occurrence *once* for IDF values.\n",
    "  # Again, extract the lower-cased text of a matched span.\n",
    "  candidates = set()\n",
    "  for match_id, start, end in matches:\n",
    "    ## YOUR CODE\n",
    "\n",
    "  return list(candidates)\n",
    "\n",
    "all_document_phrases = []\n",
    "# Iterate through the individual documents and extract phrases for them. Use `tqdm` to visualize progress\n",
    "## YOUR CODE\n",
    "\n",
    "# Once again, count the frequency of term occurrences across all documents\n",
    "## YOUR CODE\n",
    "\n"
   ]
  },
  {
   "attachments": {},
   "cell_type": "markdown",
   "metadata": {},
   "source": [
    "3. Output the 20 most frequently appearing document phrases that your system detected:"
   ]
  },
  {
   "cell_type": "code",
   "execution_count": null,
   "metadata": {
    "colab": {
     "base_uri": "https://localhost:8080/"
    },
    "id": "7vDTmrTLSY2q",
    "outputId": "6f4b5c46-750f-44f0-b259-f2536034fc17"
   },
   "outputs": [],
   "source": [
    "print( ## YOUR CODE"
   ]
  },
  {
   "attachments": {},
   "cell_type": "markdown",
   "metadata": {
    "id": "vR9FmhTpS_TB"
   },
   "source": [
    "### Sub Task 3: Generating Weighted Keyphrases (3 Points)\n",
    "\n",
    "We can now incorporate the extracted keyphrases to calculate `tf-idf` scores, and return a hopefully improved version of our keyphrases for the original \"Hounds of Baskervilles\" document. \n",
    "\n",
    "1. Iterate over all phrases occurring in the novel \"Hounds of Baskervilles\", and re-score phrases according to the definition of TF-IDF. Use the smoothed definition of idf:\n",
    "\n",
    "$ idf(t, D) = \\log \\frac{|D|}{|\\{d \\in D : t \\in d\\}| + 1} + 1 $"
   ]
  },
  {
   "cell_type": "code",
   "execution_count": null,
   "metadata": {
    "id": "HDDoPiAATWat"
   },
   "outputs": [],
   "source": [
    "import math\n",
    "from typing import Dict\n",
    "\n",
    "def tf_idf(tf: int, df_count: int) -> float:\n",
    "  \"\"\"\n",
    "  Computes the TF-IDF scores according to the above-mentioned formula.\n",
    "  Note that you may use a constant for the number of documents (|D|).\n",
    "  \"\"\"\n",
    "  return ## YOUR CODE\n",
    "\n",
    "tf_idf_weighted_candidates = []\n",
    "\n",
    "# Iterate through all candidate phrase/frequency pairs and compute the TF-IDF scores for each phrase\n",
    "# Store the phrase together with its TF-IDF score in `tf_idf_weighted_candidates`\n",
    "for candidate, tf in candidate_phrases.items():\n",
    "  tf_idf_weighted_candidates.append( ## YOUR CODE"
   ]
  },
  {
   "attachments": {},
   "cell_type": "markdown",
   "metadata": {
    "id": "mSfTPsukVoEF"
   },
   "source": [
    "2. Now print the top 20 candidate phrases by TF-IDF weight, and compare the results to your previous output. "
   ]
  },
  {
   "cell_type": "code",
   "execution_count": null,
   "metadata": {
    "colab": {
     "base_uri": "https://localhost:8080/"
    },
    "id": "w8ulSamTUsGP",
    "outputId": "c02da910-d190-43f1-b7b7-6016e73da92a"
   },
   "outputs": [],
   "source": [
    "print(## YOUR CODE"
   ]
  },
  {
   "attachments": {},
   "cell_type": "markdown",
   "metadata": {
    "id": "kdmGgOThVmyz"
   },
   "source": [
    "3. Write your insights on the comparison of the results below. Try to theorize why some of the phrases still appear, or why other phrases are no longer present:"
   ]
  },
  {
   "attachments": {},
   "cell_type": "markdown",
   "metadata": {},
   "source": [
    "YOUR ANSWER HERE"
   ]
  },
  {
   "attachments": {},
   "cell_type": "markdown",
   "metadata": {
    "id": "2y8eaRPNWHut"
   },
   "source": [
    "4. Give two examples of how you could further improve the list of keyphrase values."
   ]
  },
  {
   "attachments": {},
   "cell_type": "markdown",
   "metadata": {
    "id": "1yfMZ0etWNj_"
   },
   "source": [
    "YOUR ANSWER HERE\n",
    "\n"
   ]
  },
  {
   "attachments": {},
   "cell_type": "markdown",
   "metadata": {},
   "source": [
    "### Sub Task 4: Apply off-the-shelf Keyphrase Extraction Tools (5 Points)\n",
    "\n",
    "To put the findings of your system into context, compare them with two popular open-source libraries, namely [YAKE!](https://github.com/LIAAD/yake) and [KeyBERT](https://github.com/MaartenGr/KeyBERT)."
   ]
  },
  {
   "attachments": {},
   "cell_type": "markdown",
   "metadata": {},
   "source": [
    "1. First, start by running the document with YAKE!; you may use the default parameters. Print the resulting keyphrases, which by default returns 20 phrases."
   ]
  },
  {
   "cell_type": "code",
   "execution_count": null,
   "metadata": {},
   "outputs": [],
   "source": [
    "from yake import KeywordExtractor\n",
    "\n",
    "extractor = ## YOUR CODE\n",
    "keywords = ## YOUR CODE\n",
    "\n",
    "# Print the top 20 keywords\n",
    "print(keywords)"
   ]
  },
  {
   "attachments": {},
   "cell_type": "markdown",
   "metadata": {},
   "source": [
    "2. Compare both runtime efficiency and the extracted phrases with your own system."
   ]
  },
  {
   "attachments": {},
   "cell_type": "markdown",
   "metadata": {},
   "source": [
    "YOUR ANSWER HERE"
   ]
  },
  {
   "attachments": {},
   "cell_type": "markdown",
   "metadata": {},
   "source": [
    "3. Now use the KeyBERT library to extract keyphrases. Importantly, you will need to split the document into separate paragraphs, as the underlying neural model will be unable to handle the complete document as input.  \n",
    "Use the pattern of `\\n\\n` to separate the text into smaller paragraphs, and filter out any empty lines after. An \"empty line\" also constitutes all inputs that only contain newline (`\\n`) or whitespace ` ` characters.\n"
   ]
  },
  {
   "cell_type": "code",
   "execution_count": null,
   "metadata": {},
   "outputs": [],
   "source": [
    "# Split the input text according to the specified criteria and filter empty lines out.\n",
    "split_text = ## YOUR CODE"
   ]
  },
  {
   "attachments": {},
   "cell_type": "markdown",
   "metadata": {},
   "source": [
    "4. To ensure consistency between the tools when extracting keyphrases, set the *n*-gram range to `(1,3)`.\n",
    "Otherwise, leave all parameters at the default value, and extract the keyphrases from each paragraph."
   ]
  },
  {
   "cell_type": "code",
   "execution_count": null,
   "metadata": {},
   "outputs": [],
   "source": [
    "from keybert import KeyBERT\n",
    "\n",
    "# This might take a while to install\n",
    "model = KeyBERT(\"all-MiniLM-L6-v2\")\n",
    "\n",
    "# Extract the keyphrases from each split, using the adjusted keyphrase ngram range\n",
    "# Hint: You may pass a list to the extraction function and KeyBERT will automatically handle iteration.\n",
    "extracted_phrases = ## YOUR CODE"
   ]
  },
  {
   "attachments": {},
   "cell_type": "markdown",
   "metadata": {},
   "source": [
    "5. Combine the predictions of all individual splits into a single list. For this, sum up the prediction scores across all splits.  \n",
    "**Hint:** `collections.defaultdict` makes aggregations like this much easier."
   ]
  },
  {
   "cell_type": "code",
   "execution_count": null,
   "metadata": {},
   "outputs": [],
   "source": [
    "from typing import List, Tuple\n",
    "from collections import defaultdict\n",
    "\n",
    "def merge_predictions(list_of_predictions: List[List[Tuple]]) -> List[Tuple]:\n",
    "    \"\"\"\n",
    "    Combines lists of predictions into a single list with added scores.\n",
    "    \"\"\"\n",
    "    phrase_dict = ## YOUR CODE\n",
    "\n",
    "    # Iterate through all the lists of predictions and add the scores to the correct dict entry\n",
    "    ## YOUR CODE\n",
    "\n",
    "    # Extract the 20 keyphrases with the highest weithgts from `phrase_dict`\n",
    "    phrase_list = ## YOUR CODE\n",
    "\n",
    "    return phrase_list"
   ]
  },
  {
   "cell_type": "code",
   "execution_count": null,
   "metadata": {},
   "outputs": [],
   "source": [
    "print(merge_predictions(extracted_phrases))"
   ]
  },
  {
   "attachments": {},
   "cell_type": "markdown",
   "metadata": {},
   "source": [
    "6. Again, evaluate the result and compare it to the other two approaches in terms of extraction quality and extraction speed."
   ]
  },
  {
   "attachments": {},
   "cell_type": "markdown",
   "metadata": {},
   "source": [
    "YOUR ANSWER HERE"
   ]
  },
  {
   "attachments": {},
   "cell_type": "markdown",
   "metadata": {},
   "source": [
    "## 2. Named Entity Recognition (4 + 5 + 5 = 14 Points)"
   ]
  },
  {
   "attachments": {},
   "cell_type": "markdown",
   "metadata": {},
   "source": [
    "Slightly different, but still operating on the sequence level, is the task of Named Entity Recognition (NER).\n",
    "In this task, we will evaluate the NER capabilities of some more open-source libraries.\n",
    "Particularly, we will also evaluate the utility of NER as a stand-in for Keyphrase Extraction."
   ]
  },
  {
   "attachments": {},
   "cell_type": "markdown",
   "metadata": {},
   "source": [
    "### Sub Task 1: Using spaCy NER (4 Points)\n",
    "\n",
    "So far, when using spaCy models, we have primarily disabled the NER component, as it requires significant extra compute.\n",
    "In this task, we will explicitly leave the component enabled, to see what results it can produce on the text from the previous question."
   ]
  },
  {
   "cell_type": "code",
   "execution_count": 61,
   "metadata": {},
   "outputs": [],
   "source": [
    "import spacy\n",
    "\n",
    "# Load the en_core_web_sm model, but with NER enabled.\n",
    "nlp = spacy.load(\"en_core_web_sm\")"
   ]
  },
  {
   "attachments": {},
   "cell_type": "markdown",
   "metadata": {},
   "source": [
    "1. Re-load the text for the \"Hounds of Baskervilles\" novel, and run it with the spacy model."
   ]
  },
  {
   "cell_type": "code",
   "execution_count": null,
   "metadata": {},
   "outputs": [],
   "source": [
    "# Re-use the function from the previous exercise.\n",
    "text = ## YOUR CODE\n",
    "\n",
    "doc = ## YOUR CODE"
   ]
  },
  {
   "attachments": {},
   "cell_type": "markdown",
   "metadata": {},
   "source": [
    "2. Similar to the previous exercise, count the number of occurrences, however, this time for the extracted entities instead of phrases. Print the top 20 most frequently occurring entities.  \n",
    "Make sure to lowercase the text again during your aggregation."
   ]
  },
  {
   "cell_type": "code",
   "execution_count": null,
   "metadata": {},
   "outputs": [],
   "source": [
    "# Count the number of occurrences of particular entities\n",
    "## YOUR CODE\n",
    "\n",
    "# Print the top 20 most frequently occurring entities.\n",
    "print( ## YOUR CODE"
   ]
  },
  {
   "attachments": {},
   "cell_type": "markdown",
   "metadata": {},
   "source": [
    "You might have noticed some unwanted results in the list, such as \"night\". Upon closer inspection, it turns out that the NER module further differentiates between different entity *categories*, such as PERSON (referencing, as expected, a physical person) or ORG (organizations, such as companies, NGOs, etc.), but also TIME (under which \"night\" falls). For reference, you can find the full list of supported NER labels by this particular model [here](https://spacy.io/models/en#en_core_web_sm-labels).\n",
    "\n",
    "3. Refine the list of most common entities by printing out the top three occurring entities in the category `PERSON`, `ORG` and `GPE` (physical locations) instead."
   ]
  },
  {
   "cell_type": "code",
   "execution_count": null,
   "metadata": {},
   "outputs": [],
   "source": [
    "def get_top_entities_by_class(doc: spacy.tokens.Doc, class_name: str, n: int = 3) -> List[Tuple[str, int]]:\n",
    "    \"\"\"\n",
    "    Returns the three most frequent entities (and their frequencies)\n",
    "    of entity type `class_name` from `doc`.\n",
    "    \"\"\"\n",
    "    # Extract phrase and frequency of a particular entity class\n",
    "    counter = ## YOUR CODE\n",
    "    # Return the top 3 entities and frequencies\n",
    "    return ## YOUR CODE\n",
    "\n",
    "# Print the results for \"PERSON\", \"ORG\" and \"GPE\"\n",
    "print( ## YOUR CODE\n",
    "print( ## YOUR CODE\n",
    "print( ## YOUR CODE"
   ]
  },
  {
   "attachments": {},
   "cell_type": "markdown",
   "metadata": {},
   "source": [
    "### Sub Task 2: Financial Bank Statements of Deutsche Bank (5 Points)\n",
    "\n",
    "Instead of using the Sherlock Holmes Novels, we will now compare the functionality of spaCy and NLTK's NER modules on the financial statements of Deutsche Bank from 2021. For this, see the file available on Moodle.\n",
    "\n",
    "1. Download it and convert the PDF document into text, by using the `pdftotext` command-line utility. In particular, run with the `-layout` option enabled."
   ]
  },
  {
   "cell_type": "code",
   "execution_count": 7,
   "metadata": {},
   "outputs": [],
   "source": [
    "%%bash\n",
    ". ~/.bashrc\n",
    "## YOUR SHELL COMMAND HERE\n",
    "# If you have to execute this command through your shell, still paste the command you ran in here.\n",
    "pdftotext -layout DB_annual_report.pdf"
   ]
  },
  {
   "attachments": {},
   "cell_type": "markdown",
   "metadata": {},
   "source": [
    "2. Given that the document is extremely long, split the inputs into chunks of 500.000 characters and process them separately."
   ]
  },
  {
   "cell_type": "code",
   "execution_count": 32,
   "metadata": {},
   "outputs": [],
   "source": [
    "\n",
    "def load_long_text_in_chunks(fp: str, chunk_size: int = 500_000) -> list[str]:\n",
    "    \"\"\"\n",
    "    Loads a text file (located at `fp`) and chunks it into chunks fo at most `chunk_size` characters.\n",
    "    Note that the last chunk might be significantly shorter.\n",
    "    \"\"\"\n",
    "    # Load the text file\n",
    "    with open(\"DB_annual_report.txt\", encoding=\"utf-8\") as f:\n",
    "        text = f.read()\n",
    "    # Split the text into segments of at most `chunk_size` characters\n",
    "    chunks = [text[i:i+chunk_size] for i in range(0, len(text), chunk_size)]\n",
    "    return chunks"
   ]
  },
  {
   "cell_type": "code",
   "execution_count": 34,
   "metadata": {},
   "outputs": [],
   "source": [
    "db_chunks = load_long_text_in_chunks(\"DB_annual_report.txt\")"
   ]
  },
  {
   "attachments": {},
   "cell_type": "markdown",
   "metadata": {},
   "source": [
    "3. Print the top 5 occurring `ORG` entities that are not referencing Deutsche Bank itself, both by using spaCy's NER module and the NER function of NLTK.  \n",
    "To exclude \"Deutsche Bank\" entities, filter out all entities that contain both \"deutsche\" and \"bank\" in their name, irrespective of the actual upper-/lowercasing.\n",
    "**Hint:** For more information on how to run NER with NLTK, see [here](https://nanonets.com/blog/named-entity-recognition-with-nltk-and-spacy/#performing-ner-with-nltk-and-spacy)"
   ]
  },
  {
   "cell_type": "code",
   "execution_count": null,
   "metadata": {},
   "outputs": [],
   "source": [
    "import nltk\n",
    "nltk.download('punkt')\n",
    "nltk.download('averaged_perceptron_tagger')\n",
    "nltk.download('maxent_ne_chunker')\n",
    "nltk.download('words')\n",
    "\n",
    "org_entities_spacy = []\n",
    "org_entities_nltk = []\n",
    "\n",
    "def is_deutsche_bank_entity(name: str) -> bool:\n",
    "    \"\"\"\n",
    "    Returns True if the entity name contains \"deutsche\" and \"bank\" in some upper-/lowercased version.\n",
    "    This means both \"Deutsche Bank\" and \"deutsche bank's\" should be recognized.\n",
    "    \"\"\"\n",
    "    name = name.lower().split(\" \")\n",
    "    return (\"deutsche\" in name[0] and \"bank\" in name[1])\n",
    "    \n",
    "\n",
    "for chunk in db_chunks:\n",
    "    # Process the chunk with spaCy\n",
    "    doc = ## YOUR CODE\n",
    "\n",
    "    # And also with NLTK\n",
    "    ## YOUR CODE\n",
    "    \n",
    "\n",
    "    # Add all the extracted \"ORG\" entities to `org_entities`, except those referencing Deutsche Bank\n",
    "    org_entities_spacy.extend( ## YOUR CODE\n",
    "    org_entities_nltk.extend( ## YOUR CODE\n",
    "    "
   ]
  },
  {
   "cell_type": "code",
   "execution_count": null,
   "metadata": {},
   "outputs": [],
   "source": [
    "# Return the top 5 entities by frequency\n",
    "\n",
    "entity_counts_spacy = ## YOUR CODE\n",
    "entity_counts_nltk = ## YOUR CODE\n",
    "\n",
    "print( ## YOUR CODE\n",
    "print( ## YOUR CODE"
   ]
  },
  {
   "attachments": {},
   "cell_type": "markdown",
   "metadata": {},
   "source": [
    "4. Compare and analyze the different results between the two methods."
   ]
  },
  {
   "attachments": {},
   "cell_type": "markdown",
   "metadata": {},
   "source": [
    "YOUR ANSWER HERE"
   ]
  },
  {
   "attachments": {},
   "cell_type": "markdown",
   "metadata": {},
   "source": [
    "### Sub Task 3: Co-Occurrence Counts of Entities (5 Points)\n",
    "\n",
    "As is becoming apparent, the *raw* occurrence counts of entities might not be meaningful on its own, especially if we are interested in less frequently occurring entities.\n",
    "\n",
    "Instead, we will \"investigate\" the entities that are most frequently mentioned in association with \"Deutsche Bank\". For this purpose, we will look at the textual co-occurrences of two named entities. The basic idea is that entities that frequently appear together are likely related.\n",
    "\n",
    "1. For each text chunk, extract all mentions of the entity `('Deutsche Bank', 'ORG')`, as well as all `PERSON` entity mentions in the text using spaCy. Store the respective entity name and the text position. Unlike the previous question, you do *not* need to check for different spelllings of the \"Deutsche Bank\" entity.  \n",
    "**Hint:** Entities are represented as a [`Span`](https://spacy.io/api/span) element in spaCy, which has access to text position.\n"
   ]
  },
  {
   "cell_type": "code",
   "execution_count": null,
   "metadata": {},
   "outputs": [],
   "source": [
    "entity_mentions_with_start_position = []\n",
    "\n",
    "for chunk in db_chunks:\n",
    "    chunk_mentions = []\n",
    "    # Process the doc with spaCy\n",
    "    doc = ## YOUR CODE\n",
    "    \n",
    "    # Extract only entity mentions of \"Deutsche Bank\" (ORG) or any PERSON mention.\n",
    "    # Append each mention, including the text and its starting position, to `chunk_mentions`\n",
    "    \n",
    "    # Append the chunk's entities to the aggregate list\n",
    "    entity_mentions_with_start_position.append(chunk_mentions)\n"
   ]
  },
  {
   "attachments": {},
   "cell_type": "markdown",
   "metadata": {},
   "source": [
    "2. Within each chunk, for each mention of `Deutsche Bank`, search for `PERSON` entities that have a starting position within 200 characters before/after the starting position of the `Deutsche Bank` mention. Count for each `PERSON` entity how many times it occurs nearby a mention of `Deutsche Bank`.  \n",
    "Aggregate the co-occurrences across all chunks. "
   ]
  },
  {
   "cell_type": "code",
   "execution_count": null,
   "metadata": {},
   "outputs": [],
   "source": [
    "co_occurrences = []\n",
    "\n",
    "for chunk_mentions in entity_mentions_with_start_position:\n",
    "    # Iterate through the entities. If the entity is a \"Deutsche Bank\" mention, extract nearby\n",
    "    # PERSON references (less than +/- 200 character difference in the starting position)\n",
    "\n",
    "    ## YOUR CODE"
   ]
  },
  {
   "attachments": {},
   "cell_type": "markdown",
   "metadata": {},
   "source": [
    "\n",
    "3. Return the number of co-occurrences and the name of the top 5 frequently occurring `PERSON` entities.\n"
   ]
  },
  {
   "cell_type": "code",
   "execution_count": null,
   "metadata": {},
   "outputs": [],
   "source": [
    "co_occurrence_counts = ## YOUR CODE\n",
    "\n",
    "print( ## YOUR CODE"
   ]
  },
  {
   "attachments": {},
   "cell_type": "markdown",
   "metadata": {},
   "source": [
    "4. Look back at the results of your previous task. Are the `PERSON` entities returned by your co-occurrence method the same ones that appear most frequently by raw counts?"
   ]
  },
  {
   "attachments": {},
   "cell_type": "markdown",
   "metadata": {},
   "source": [
    "YOUR ANSWER HERE"
   ]
  },
  {
   "attachments": {},
   "cell_type": "markdown",
   "metadata": {},
   "source": [
    "## 3. Neural Models with Huggingface (3 + 5 + 2 = 10 Points)\n",
    "\n",
    "For state-of-the-art performance, most text-related tasks nowadays use some variation of the Transformer architecture. The particular advantage is especiall the readily available weights for models that have been pre-trained on large general-purpose datasets, which reduces the amount of domain-specific labeled training data.\n",
    "\n",
    "In this task, we will explore the [Huggingface](https://hf.co/) ecosystem to see in which way Transformer models can be used.\n",
    "One of the central aspects of the Huggingface platform is the so-called [Model Hub](https://huggingface.co/models), where you can find many different models uploaded by community members for a variety of tasks.\n",
    "\n",
    "Because the neural models are generally very expensive to run, this exercise will be limited to  less data than in previous questions."
   ]
  },
  {
   "attachments": {},
   "cell_type": "markdown",
   "metadata": {},
   "source": [
    "### Sub Task 1: Loading Transformer Models (3 Points)\n",
    "\n",
    "1. Install the `transformers` library and load the model `cardiffnlp/twitter-roberta-base-sentiment-latest` to classify a sequence.\n",
    "2. Report the result of the prediction on the test sequence."
   ]
  },
  {
   "cell_type": "code",
   "execution_count": 35,
   "metadata": {},
   "outputs": [
    {
     "name": "stderr",
     "output_type": "stream",
     "text": [
      "Some weights of the model checkpoint at cardiffnlp/twitter-roberta-base-sentiment-latest were not used when initializing RobertaForSequenceClassification: ['roberta.pooler.dense.weight', 'roberta.pooler.dense.bias']\n",
      "- This IS expected if you are initializing RobertaForSequenceClassification from the checkpoint of a model trained on another task or with another architecture (e.g. initializing a BertForSequenceClassification model from a BertForPreTraining model).\n",
      "- This IS NOT expected if you are initializing RobertaForSequenceClassification from the checkpoint of a model that you expect to be exactly identical (initializing a BertForSequenceClassification model from a BertForSequenceClassification model).\n"
     ]
    },
    {
     "data": {
      "text/plain": [
       "[{'label': 'neutral', 'score': 0.7808092832565308}]"
      ]
     },
     "execution_count": 35,
     "metadata": {},
     "output_type": "execute_result"
    }
   ],
   "source": [
    "from transformers import AutoTokenizer, AutoModelForSequenceClassification, pipeline\n",
    "import ipywidgets\n",
    "\n",
    "MODEL = \"cardiffnlp/twitter-roberta-base-sentiment-latest\"\n",
    "tokenizer = AutoTokenizer.from_pretrained(MODEL)\n",
    "model = AutoModelForSequenceClassification.from_pretrained(MODEL)\n",
    "sentiment_task = pipeline(\"text-classification\", model=model, tokenizer=tokenizer)\n",
    "\n",
    "input_text = \"Das ist ein Test.\"\n",
    "\n",
    "prediction = sentiment_task(input_text)\n",
    "prediction"
   ]
  },
  {
   "attachments": {},
   "cell_type": "markdown",
   "metadata": {},
   "source": [
    "### Sub Task 2: Using Pipelines (5 Points)\n",
    "\n",
    "The most succinct way of using a Transformer model is the [`transformers.pipeline`](https://huggingface.co/docs/transformers/pipeline_tutorial). You can check out the linked tutorial for more information on the topic, but essentially, `pipeline` provides a light-weight wrapper around a number of different popular NLP tasks\n",
    "\n",
    "1. Instead of manually defining a pipeline, now load a model through a `\"text-classification\"` pipeline. Look up the neural model that is loaded by default, and post the link to its [model card](https://huggingface.co/docs/hub/model-cards) below.\n"
   ]
  },
  {
   "cell_type": "code",
   "execution_count": 4,
   "metadata": {},
   "outputs": [
    {
     "name": "stderr",
     "output_type": "stream",
     "text": [
      "No model was supplied, defaulted to distilbert-base-uncased-finetuned-sst-2-english and revision af0f99b (https://huggingface.co/distilbert-base-uncased-finetuned-sst-2-english).\n",
      "Using a pipeline without specifying a model name and revision in production is not recommended.\n"
     ]
    }
   ],
   "source": [
    "pipeline_temp = pipeline(\"text-classification\")\n",
    "\n",
    "# default text-classification\n",
    "# distilbert-base-uncased-finetuned-sst-2-english\n",
    "# https://huggingface.co/distilbert-base-uncased-finetuned-sst-2-english"
   ]
  },
  {
   "attachments": {},
   "cell_type": "markdown",
   "metadata": {},
   "source": [
    "2. Now, instead, load a pipeline for `\"text-classification\"`, but with a custom model and tokenizer. Use the Model Hub platform to find the most popular model for the German language (by number of downloads) and manually specify the usage of another model (and tokenizer) to the pipeline. Re-run the previous example, and report the prediction result.\n"
   ]
  },
  {
   "cell_type": "code",
   "execution_count": 5,
   "metadata": {},
   "outputs": [
    {
     "data": {
      "text/plain": [
       "[{'label': 'de', 'score': 0.9929131865501404}]"
      ]
     },
     "execution_count": 5,
     "metadata": {},
     "output_type": "execute_result"
    }
   ],
   "source": [
    "tokenizer = AutoTokenizer.from_pretrained(\"papluca/xlm-roberta-base-language-detection\")\n",
    "model = AutoModelForSequenceClassification.from_pretrained(\"papluca/xlm-roberta-base-language-detection\")\n",
    "\n",
    "# Instantiate the pipeline with custom components\n",
    "pipe = pipeline(\"sentiment-analysis\", model=model, tokenizer=tokenizer)\n",
    "\n",
    "input_text = \"Das ist ein Test.\"\n",
    "\n",
    "prediction = pipe(input_text)\n",
    "# Output the prediction by your pipe on the test sample.\n",
    "prediction"
   ]
  },
  {
   "attachments": {},
   "cell_type": "markdown",
   "metadata": {},
   "source": [
    "3. Keeping in line with the previous exercises, let us now try and actually predict something with the model. Re-load a pipeline, this time for Named Entity Recognition, using the default model."
   ]
  },
  {
   "cell_type": "code",
   "execution_count": 36,
   "metadata": {},
   "outputs": [
    {
     "name": "stderr",
     "output_type": "stream",
     "text": [
      "No model was supplied, defaulted to dbmdz/bert-large-cased-finetuned-conll03-english and revision f2482bf (https://huggingface.co/dbmdz/bert-large-cased-finetuned-conll03-english).\n",
      "Using a pipeline without specifying a model name and revision in production is not recommended.\n"
     ]
    }
   ],
   "source": [
    "pipeline_ner = pipeline(\"ner\")\n"
   ]
  },
  {
   "attachments": {},
   "cell_type": "markdown",
   "metadata": {},
   "source": [
    "4. Run the pipeline with the text from the Deutsche Bank report from Question 2 and output the results."
   ]
  },
  {
   "cell_type": "code",
   "execution_count": 41,
   "metadata": {},
   "outputs": [
    {
     "data": {
      "text/plain": [
       "[[{'entity': 'I-ORG',\n",
       "   'score': 0.99626464,\n",
       "   'index': 1,\n",
       "   'word': 'Deutsche',\n",
       "   'start': 0,\n",
       "   'end': 8},\n",
       "  {'entity': 'I-ORG',\n",
       "   'score': 0.9980811,\n",
       "   'index': 2,\n",
       "   'word': 'Bank',\n",
       "   'start': 9,\n",
       "   'end': 13},\n",
       "  {'entity': 'I-ORG',\n",
       "   'score': 0.9950453,\n",
       "   'index': 7,\n",
       "   'word': 'Deutsche',\n",
       "   'start': 38,\n",
       "   'end': 46},\n",
       "  {'entity': 'I-ORG',\n",
       "   'score': 0.997999,\n",
       "   'index': 8,\n",
       "   'word': 'Bank',\n",
       "   'start': 47,\n",
       "   'end': 51},\n",
       "  {'entity': 'I-ORG',\n",
       "   'score': 0.95706505,\n",
       "   'index': 9,\n",
       "   'word': 'Deutsche',\n",
       "   'start': 107,\n",
       "   'end': 115},\n",
       "  {'entity': 'I-ORG',\n",
       "   'score': 0.9976624,\n",
       "   'index': 10,\n",
       "   'word': 'Bank',\n",
       "   'start': 116,\n",
       "   'end': 120},\n",
       "  {'entity': 'I-ORG',\n",
       "   'score': 0.9963329,\n",
       "   'index': 15,\n",
       "   'word': 'Deutsche',\n",
       "   'start': 144,\n",
       "   'end': 152},\n",
       "  {'entity': 'I-ORG',\n",
       "   'score': 0.9973074,\n",
       "   'index': 16,\n",
       "   'word': 'Bank',\n",
       "   'start': 153,\n",
       "   'end': 157},\n",
       "  {'entity': 'I-ORG',\n",
       "   'score': 0.9989078,\n",
       "   'index': 213,\n",
       "   'word': 'Deutsche',\n",
       "   'start': 2172,\n",
       "   'end': 2180},\n",
       "  {'entity': 'I-ORG',\n",
       "   'score': 0.9987111,\n",
       "   'index': 214,\n",
       "   'word': 'Bank',\n",
       "   'start': 2181,\n",
       "   'end': 2185}],\n",
       " [{'entity': 'I-ORG',\n",
       "   'score': 0.99911076,\n",
       "   'index': 5,\n",
       "   'word': 'Model',\n",
       "   'start': 20,\n",
       "   'end': 25},\n",
       "  {'entity': 'I-ORG',\n",
       "   'score': 0.9987709,\n",
       "   'index': 6,\n",
       "   'word': 'Risk',\n",
       "   'start': 26,\n",
       "   'end': 30},\n",
       "  {'entity': 'I-ORG',\n",
       "   'score': 0.99835795,\n",
       "   'index': 7,\n",
       "   'word': 'Management',\n",
       "   'start': 31,\n",
       "   'end': 41},\n",
       "  {'entity': 'I-ORG',\n",
       "   'score': 0.99917346,\n",
       "   'index': 31,\n",
       "   'word': 'Reg',\n",
       "   'start': 162,\n",
       "   'end': 165},\n",
       "  {'entity': 'I-ORG',\n",
       "   'score': 0.99645436,\n",
       "   'index': 32,\n",
       "   'word': '##ulatory',\n",
       "   'start': 165,\n",
       "   'end': 172},\n",
       "  {'entity': 'I-ORG',\n",
       "   'score': 0.9977518,\n",
       "   'index': 33,\n",
       "   'word': 'Credit',\n",
       "   'start': 173,\n",
       "   'end': 179},\n",
       "  {'entity': 'I-ORG',\n",
       "   'score': 0.99755955,\n",
       "   'index': 34,\n",
       "   'word': 'Risk',\n",
       "   'start': 180,\n",
       "   'end': 184},\n",
       "  {'entity': 'I-ORG',\n",
       "   'score': 0.9975197,\n",
       "   'index': 35,\n",
       "   'word': 'Model',\n",
       "   'start': 185,\n",
       "   'end': 190},\n",
       "  {'entity': 'I-ORG',\n",
       "   'score': 0.9983095,\n",
       "   'index': 36,\n",
       "   'word': 'Forum',\n",
       "   'start': 191,\n",
       "   'end': 196},\n",
       "  {'entity': 'I-ORG',\n",
       "   'score': 0.99819595,\n",
       "   'index': 38,\n",
       "   'word': 'RC',\n",
       "   'start': 198,\n",
       "   'end': 200},\n",
       "  {'entity': 'I-ORG',\n",
       "   'score': 0.99457645,\n",
       "   'index': 39,\n",
       "   'word': '##R',\n",
       "   'start': 200,\n",
       "   'end': 201},\n",
       "  {'entity': 'I-ORG',\n",
       "   'score': 0.9967026,\n",
       "   'index': 40,\n",
       "   'word': '##MF',\n",
       "   'start': 201,\n",
       "   'end': 203},\n",
       "  {'entity': 'I-ORG',\n",
       "   'score': 0.99888307,\n",
       "   'index': 44,\n",
       "   'word': 'RC',\n",
       "   'start': 213,\n",
       "   'end': 215},\n",
       "  {'entity': 'I-ORG',\n",
       "   'score': 0.9929142,\n",
       "   'index': 45,\n",
       "   'word': '##R',\n",
       "   'start': 215,\n",
       "   'end': 216},\n",
       "  {'entity': 'I-ORG',\n",
       "   'score': 0.99717903,\n",
       "   'index': 46,\n",
       "   'word': '##MC',\n",
       "   'start': 216,\n",
       "   'end': 218},\n",
       "  {'entity': 'I-ORG',\n",
       "   'score': 0.9990441,\n",
       "   'index': 101,\n",
       "   'word': 'Deutsche',\n",
       "   'start': 624,\n",
       "   'end': 632},\n",
       "  {'entity': 'I-ORG',\n",
       "   'score': 0.9992812,\n",
       "   'index': 102,\n",
       "   'word': 'Bank',\n",
       "   'start': 633,\n",
       "   'end': 637},\n",
       "  {'entity': 'I-ORG',\n",
       "   'score': 0.98417574,\n",
       "   'index': 103,\n",
       "   'word': 'Risk',\n",
       "   'start': 673,\n",
       "   'end': 677},\n",
       "  {'entity': 'I-ORG',\n",
       "   'score': 0.99403316,\n",
       "   'index': 104,\n",
       "   'word': 'and',\n",
       "   'start': 678,\n",
       "   'end': 681},\n",
       "  {'entity': 'I-ORG',\n",
       "   'score': 0.99713755,\n",
       "   'index': 105,\n",
       "   'word': 'Capital',\n",
       "   'start': 682,\n",
       "   'end': 689},\n",
       "  {'entity': 'I-ORG',\n",
       "   'score': 0.99657035,\n",
       "   'index': 106,\n",
       "   'word': 'Management',\n",
       "   'start': 690,\n",
       "   'end': 700},\n",
       "  {'entity': 'I-MISC',\n",
       "   'score': 0.9286603,\n",
       "   'index': 128,\n",
       "   'word': 'I',\n",
       "   'start': 841,\n",
       "   'end': 842}],\n",
       " [{'entity': 'I-MISC',\n",
       "   'score': 0.5265141,\n",
       "   'index': 43,\n",
       "   'word': 'L',\n",
       "   'start': 377,\n",
       "   'end': 378},\n",
       "  {'entity': 'I-MISC',\n",
       "   'score': 0.5709421,\n",
       "   'index': 61,\n",
       "   'word': 'L',\n",
       "   'start': 472,\n",
       "   'end': 473},\n",
       "  {'entity': 'I-MISC',\n",
       "   'score': 0.4947989,\n",
       "   'index': 167,\n",
       "   'word': 'L',\n",
       "   'start': 1063,\n",
       "   'end': 1064},\n",
       "  {'entity': 'I-ORG',\n",
       "   'score': 0.99754506,\n",
       "   'index': 302,\n",
       "   'word': 'Deutsche',\n",
       "   'start': 1851,\n",
       "   'end': 1859},\n",
       "  {'entity': 'I-ORG',\n",
       "   'score': 0.9961046,\n",
       "   'index': 303,\n",
       "   'word': 'Bank',\n",
       "   'start': 1860,\n",
       "   'end': 1864},\n",
       "  {'entity': 'I-ORG',\n",
       "   'score': 0.93101966,\n",
       "   'index': 377,\n",
       "   'word': 'O',\n",
       "   'start': 2320,\n",
       "   'end': 2321},\n",
       "  {'entity': 'I-ORG',\n",
       "   'score': 0.9557281,\n",
       "   'index': 378,\n",
       "   'word': '##TC',\n",
       "   'start': 2321,\n",
       "   'end': 2323},\n",
       "  {'entity': 'I-ORG',\n",
       "   'score': 0.68560064,\n",
       "   'index': 383,\n",
       "   'word': 'O',\n",
       "   'start': 2350,\n",
       "   'end': 2351},\n",
       "  {'entity': 'I-ORG',\n",
       "   'score': 0.76703596,\n",
       "   'index': 384,\n",
       "   'word': '##TC',\n",
       "   'start': 2351,\n",
       "   'end': 2353},\n",
       "  {'entity': 'I-MISC',\n",
       "   'score': 0.93419313,\n",
       "   'index': 410,\n",
       "   'word': 'Dodd',\n",
       "   'start': 2468,\n",
       "   'end': 2472},\n",
       "  {'entity': 'I-MISC',\n",
       "   'score': 0.9515133,\n",
       "   'index': 412,\n",
       "   'word': 'Frank',\n",
       "   'start': 2473,\n",
       "   'end': 2478},\n",
       "  {'entity': 'I-MISC',\n",
       "   'score': 0.98410577,\n",
       "   'index': 413,\n",
       "   'word': 'Act',\n",
       "   'start': 2479,\n",
       "   'end': 2482},\n",
       "  {'entity': 'I-ORG',\n",
       "   'score': 0.5387131,\n",
       "   'index': 423,\n",
       "   'word': 'O',\n",
       "   'start': 2541,\n",
       "   'end': 2542},\n",
       "  {'entity': 'I-ORG',\n",
       "   'score': 0.81936294,\n",
       "   'index': 424,\n",
       "   'word': '##TC',\n",
       "   'start': 2542,\n",
       "   'end': 2544},\n",
       "  {'entity': 'I-ORG',\n",
       "   'score': 0.567602,\n",
       "   'index': 438,\n",
       "   'word': 'O',\n",
       "   'start': 2642,\n",
       "   'end': 2643},\n",
       "  {'entity': 'I-ORG',\n",
       "   'score': 0.86324984,\n",
       "   'index': 439,\n",
       "   'word': '##TC',\n",
       "   'start': 2643,\n",
       "   'end': 2645},\n",
       "  {'entity': 'I-MISC',\n",
       "   'score': 0.95343584,\n",
       "   'index': 484,\n",
       "   'word': 'Dodd',\n",
       "   'start': 2902,\n",
       "   'end': 2906},\n",
       "  {'entity': 'I-MISC',\n",
       "   'score': 0.9373594,\n",
       "   'index': 486,\n",
       "   'word': 'Frank',\n",
       "   'start': 2907,\n",
       "   'end': 2912},\n",
       "  {'entity': 'I-MISC',\n",
       "   'score': 0.96664566,\n",
       "   'index': 487,\n",
       "   'word': 'Act',\n",
       "   'start': 2913,\n",
       "   'end': 2916},\n",
       "  {'entity': 'I-ORG',\n",
       "   'score': 0.80692893,\n",
       "   'index': 490,\n",
       "   'word': 'CF',\n",
       "   'start': 2929,\n",
       "   'end': 2931},\n",
       "  {'entity': 'I-ORG',\n",
       "   'score': 0.8474614,\n",
       "   'index': 491,\n",
       "   'word': '##TC',\n",
       "   'start': 2931,\n",
       "   'end': 2933},\n",
       "  {'entity': 'I-ORG',\n",
       "   'score': 0.5710795,\n",
       "   'index': 494,\n",
       "   'word': 'O',\n",
       "   'start': 2948,\n",
       "   'end': 2949},\n",
       "  {'entity': 'I-ORG',\n",
       "   'score': 0.89075625,\n",
       "   'index': 495,\n",
       "   'word': '##TC',\n",
       "   'start': 2949,\n",
       "   'end': 2951},\n",
       "  {'entity': 'I-LOC',\n",
       "   'score': 0.5338389,\n",
       "   'index': 499,\n",
       "   'word': 'United',\n",
       "   'start': 2968,\n",
       "   'end': 2974},\n",
       "  {'entity': 'I-MISC',\n",
       "   'score': 0.96506625,\n",
       "   'index': 500,\n",
       "   'word': 'States',\n",
       "   'start': 2975,\n",
       "   'end': 2981},\n",
       "  {'entity': 'I-MISC',\n",
       "   'score': 0.6067196,\n",
       "   'index': 504,\n",
       "   'word': 'O',\n",
       "   'start': 3007,\n",
       "   'end': 3008},\n",
       "  {'entity': 'I-ORG',\n",
       "   'score': 0.871426,\n",
       "   'index': 505,\n",
       "   'word': '##TC',\n",
       "   'start': 3008,\n",
       "   'end': 3010}],\n",
       " [{'entity': 'I-ORG',\n",
       "   'score': 0.9958261,\n",
       "   'index': 161,\n",
       "   'word': 'Deutsche',\n",
       "   'start': 1588,\n",
       "   'end': 1596},\n",
       "  {'entity': 'I-ORG',\n",
       "   'score': 0.9977431,\n",
       "   'index': 162,\n",
       "   'word': 'Bank',\n",
       "   'start': 1597,\n",
       "   'end': 1601},\n",
       "  {'entity': 'I-ORG',\n",
       "   'score': 0.9878571,\n",
       "   'index': 202,\n",
       "   'word': 'Bank',\n",
       "   'start': 2116,\n",
       "   'end': 2120},\n",
       "  {'entity': 'I-ORG',\n",
       "   'score': 0.9945903,\n",
       "   'index': 203,\n",
       "   'word': 'Bank',\n",
       "   'start': 2136,\n",
       "   'end': 2140},\n",
       "  {'entity': 'I-ORG',\n",
       "   'score': 0.981858,\n",
       "   'index': 204,\n",
       "   'word': 'Bank',\n",
       "   'start': 2153,\n",
       "   'end': 2157},\n",
       "  {'entity': 'I-ORG',\n",
       "   'score': 0.98197615,\n",
       "   'index': 205,\n",
       "   'word': 'Management',\n",
       "   'start': 2165,\n",
       "   'end': 2175},\n",
       "  {'entity': 'I-ORG',\n",
       "   'score': 0.9276239,\n",
       "   'index': 206,\n",
       "   'word': 'Release',\n",
       "   'start': 2182,\n",
       "   'end': 2189},\n",
       "  {'entity': 'I-ORG',\n",
       "   'score': 0.9706938,\n",
       "   'index': 207,\n",
       "   'word': 'Unit',\n",
       "   'start': 2190,\n",
       "   'end': 2194}],\n",
       " [{'entity': 'I-ORG',\n",
       "   'score': 0.9472597,\n",
       "   'index': 44,\n",
       "   'word': 'Group',\n",
       "   'start': 204,\n",
       "   'end': 209},\n",
       "  {'entity': 'I-ORG',\n",
       "   'score': 0.91994935,\n",
       "   'index': 202,\n",
       "   'word': 'Group',\n",
       "   'start': 1026,\n",
       "   'end': 1031},\n",
       "  {'entity': 'I-ORG',\n",
       "   'score': 0.7814724,\n",
       "   'index': 209,\n",
       "   'word': 'Group',\n",
       "   'start': 1078,\n",
       "   'end': 1083},\n",
       "  {'entity': 'I-ORG',\n",
       "   'score': 0.9962477,\n",
       "   'index': 268,\n",
       "   'word': 'Deutsche',\n",
       "   'start': 1541,\n",
       "   'end': 1549},\n",
       "  {'entity': 'I-ORG',\n",
       "   'score': 0.9970241,\n",
       "   'index': 269,\n",
       "   'word': 'Bank',\n",
       "   'start': 1550,\n",
       "   'end': 1554},\n",
       "  {'entity': 'I-ORG',\n",
       "   'score': 0.79513663,\n",
       "   'index': 302,\n",
       "   'word': 'Group',\n",
       "   'start': 1785,\n",
       "   'end': 1790},\n",
       "  {'entity': 'I-ORG',\n",
       "   'score': 0.8176577,\n",
       "   'index': 328,\n",
       "   'word': 'Group',\n",
       "   'start': 1909,\n",
       "   'end': 1914},\n",
       "  {'entity': 'I-ORG',\n",
       "   'score': 0.93880063,\n",
       "   'index': 348,\n",
       "   'word': 'Group',\n",
       "   'start': 2023,\n",
       "   'end': 2028},\n",
       "  {'entity': 'I-ORG',\n",
       "   'score': 0.7887601,\n",
       "   'index': 368,\n",
       "   'word': 'Group',\n",
       "   'start': 2137,\n",
       "   'end': 2142},\n",
       "  {'entity': 'I-ORG',\n",
       "   'score': 0.8867355,\n",
       "   'index': 379,\n",
       "   'word': 'Group',\n",
       "   'start': 2188,\n",
       "   'end': 2193}],\n",
       " [{'entity': 'I-ORG',\n",
       "   'score': 0.59374756,\n",
       "   'index': 13,\n",
       "   'word': 'Board',\n",
       "   'start': 114,\n",
       "   'end': 119},\n",
       "  {'entity': 'I-ORG',\n",
       "   'score': 0.99944025,\n",
       "   'index': 47,\n",
       "   'word': 'Deutsche',\n",
       "   'start': 741,\n",
       "   'end': 749},\n",
       "  {'entity': 'I-ORG',\n",
       "   'score': 0.99963045,\n",
       "   'index': 48,\n",
       "   'word': 'Bank',\n",
       "   'start': 750,\n",
       "   'end': 754},\n",
       "  {'entity': 'I-ORG',\n",
       "   'score': 0.99898475,\n",
       "   'index': 49,\n",
       "   'word': 'AG',\n",
       "   'start': 755,\n",
       "   'end': 757},\n",
       "  {'entity': 'I-ORG',\n",
       "   'score': 0.9994337,\n",
       "   'index': 76,\n",
       "   'word': 'Deutsche',\n",
       "   'start': 910,\n",
       "   'end': 918},\n",
       "  {'entity': 'I-ORG',\n",
       "   'score': 0.9996418,\n",
       "   'index': 77,\n",
       "   'word': 'Bank',\n",
       "   'start': 919,\n",
       "   'end': 923},\n",
       "  {'entity': 'I-ORG',\n",
       "   'score': 0.9982699,\n",
       "   'index': 78,\n",
       "   'word': 'Group',\n",
       "   'start': 924,\n",
       "   'end': 929},\n",
       "  {'entity': 'I-ORG',\n",
       "   'score': 0.99948895,\n",
       "   'index': 99,\n",
       "   'word': 'Deutsche',\n",
       "   'start': 1075,\n",
       "   'end': 1083},\n",
       "  {'entity': 'I-ORG',\n",
       "   'score': 0.99963903,\n",
       "   'index': 100,\n",
       "   'word': 'Bank',\n",
       "   'start': 1084,\n",
       "   'end': 1088},\n",
       "  {'entity': 'I-ORG',\n",
       "   'score': 0.9966788,\n",
       "   'index': 101,\n",
       "   'word': 'Group',\n",
       "   'start': 1089,\n",
       "   'end': 1094},\n",
       "  {'entity': 'I-ORG',\n",
       "   'score': 0.99924266,\n",
       "   'index': 128,\n",
       "   'word': 'Deutsche',\n",
       "   'start': 1261,\n",
       "   'end': 1269},\n",
       "  {'entity': 'I-ORG',\n",
       "   'score': 0.9996247,\n",
       "   'index': 129,\n",
       "   'word': 'Bank',\n",
       "   'start': 1270,\n",
       "   'end': 1274},\n",
       "  {'entity': 'I-ORG',\n",
       "   'score': 0.99780124,\n",
       "   'index': 130,\n",
       "   'word': 'Group',\n",
       "   'start': 1275,\n",
       "   'end': 1280},\n",
       "  {'entity': 'I-MISC',\n",
       "   'score': 0.5654838,\n",
       "   'index': 151,\n",
       "   'word': 'World',\n",
       "   'start': 1428,\n",
       "   'end': 1433},\n",
       "  {'entity': 'I-ORG',\n",
       "   'score': 0.9466003,\n",
       "   'index': 175,\n",
       "   'word': 'Management',\n",
       "   'start': 1599,\n",
       "   'end': 1609},\n",
       "  {'entity': 'I-ORG',\n",
       "   'score': 0.94562453,\n",
       "   'index': 176,\n",
       "   'word': 'Board',\n",
       "   'start': 1610,\n",
       "   'end': 1615},\n",
       "  {'entity': 'I-ORG',\n",
       "   'score': 0.8863871,\n",
       "   'index': 187,\n",
       "   'word': 'Management',\n",
       "   'start': 1652,\n",
       "   'end': 1662},\n",
       "  {'entity': 'I-ORG',\n",
       "   'score': 0.9488772,\n",
       "   'index': 188,\n",
       "   'word': 'Board',\n",
       "   'start': 1663,\n",
       "   'end': 1668},\n",
       "  {'entity': 'I-PER',\n",
       "   'score': 0.99972767,\n",
       "   'index': 190,\n",
       "   'word': 'Christian',\n",
       "   'start': 1680,\n",
       "   'end': 1689},\n",
       "  {'entity': 'I-PER',\n",
       "   'score': 0.99940884,\n",
       "   'index': 191,\n",
       "   'word': 'Se',\n",
       "   'start': 1690,\n",
       "   'end': 1692},\n",
       "  {'entity': 'I-PER',\n",
       "   'score': 0.98053026,\n",
       "   'index': 192,\n",
       "   'word': '##wing',\n",
       "   'start': 1692,\n",
       "   'end': 1696},\n",
       "  {'entity': 'I-PER',\n",
       "   'score': 0.9997907,\n",
       "   'index': 202,\n",
       "   'word': 'Karl',\n",
       "   'start': 1849,\n",
       "   'end': 1853},\n",
       "  {'entity': 'I-PER',\n",
       "   'score': 0.9995602,\n",
       "   'index': 203,\n",
       "   'word': 'von',\n",
       "   'start': 1854,\n",
       "   'end': 1857},\n",
       "  {'entity': 'I-PER',\n",
       "   'score': 0.9994338,\n",
       "   'index': 204,\n",
       "   'word': 'R',\n",
       "   'start': 1858,\n",
       "   'end': 1859},\n",
       "  {'entity': 'I-PER',\n",
       "   'score': 0.9537424,\n",
       "   'index': 205,\n",
       "   'word': '##oh',\n",
       "   'start': 1859,\n",
       "   'end': 1861},\n",
       "  {'entity': 'I-PER',\n",
       "   'score': 0.9865801,\n",
       "   'index': 206,\n",
       "   'word': '##r',\n",
       "   'start': 1861,\n",
       "   'end': 1862},\n",
       "  {'entity': 'I-PER',\n",
       "   'score': 0.9995388,\n",
       "   'index': 215,\n",
       "   'word': 'F',\n",
       "   'start': 2018,\n",
       "   'end': 2019},\n",
       "  {'entity': 'I-PER',\n",
       "   'score': 0.95638776,\n",
       "   'index': 216,\n",
       "   'word': '##ab',\n",
       "   'start': 2019,\n",
       "   'end': 2021},\n",
       "  {'entity': 'I-PER',\n",
       "   'score': 0.998744,\n",
       "   'index': 217,\n",
       "   'word': '##riz',\n",
       "   'start': 2021,\n",
       "   'end': 2024},\n",
       "  {'entity': 'I-PER',\n",
       "   'score': 0.9996555,\n",
       "   'index': 218,\n",
       "   'word': '##io',\n",
       "   'start': 2024,\n",
       "   'end': 2026},\n",
       "  {'entity': 'I-PER',\n",
       "   'score': 0.9998029,\n",
       "   'index': 219,\n",
       "   'word': 'Camp',\n",
       "   'start': 2027,\n",
       "   'end': 2031},\n",
       "  {'entity': 'I-PER',\n",
       "   'score': 0.9992077,\n",
       "   'index': 220,\n",
       "   'word': '##elli',\n",
       "   'start': 2031,\n",
       "   'end': 2035},\n",
       "  {'entity': 'I-PER',\n",
       "   'score': 0.9997193,\n",
       "   'index': 228,\n",
       "   'word': 'Bern',\n",
       "   'start': 2187,\n",
       "   'end': 2191},\n",
       "  {'entity': 'I-PER',\n",
       "   'score': 0.99971884,\n",
       "   'index': 229,\n",
       "   'word': '##d',\n",
       "   'start': 2191,\n",
       "   'end': 2192},\n",
       "  {'entity': 'I-PER',\n",
       "   'score': 0.9996455,\n",
       "   'index': 230,\n",
       "   'word': 'Le',\n",
       "   'start': 2193,\n",
       "   'end': 2195},\n",
       "  {'entity': 'I-PER',\n",
       "   'score': 0.9918007,\n",
       "   'index': 231,\n",
       "   'word': '##uke',\n",
       "   'start': 2195,\n",
       "   'end': 2198},\n",
       "  {'entity': 'I-PER',\n",
       "   'score': 0.98776764,\n",
       "   'index': 232,\n",
       "   'word': '##rt',\n",
       "   'start': 2198,\n",
       "   'end': 2200},\n",
       "  {'entity': 'I-PER',\n",
       "   'score': 0.99971884,\n",
       "   'index': 241,\n",
       "   'word': 'Stuart',\n",
       "   'start': 2356,\n",
       "   'end': 2362},\n",
       "  {'entity': 'I-PER',\n",
       "   'score': 0.9998301,\n",
       "   'index': 242,\n",
       "   'word': 'Lewis',\n",
       "   'start': 2363,\n",
       "   'end': 2368},\n",
       "  {'entity': 'I-PER',\n",
       "   'score': 0.9997892,\n",
       "   'index': 252,\n",
       "   'word': 'James',\n",
       "   'start': 2525,\n",
       "   'end': 2530},\n",
       "  {'entity': 'I-PER',\n",
       "   'score': 0.999619,\n",
       "   'index': 253,\n",
       "   'word': 'von',\n",
       "   'start': 2531,\n",
       "   'end': 2534},\n",
       "  {'entity': 'I-PER',\n",
       "   'score': 0.99963,\n",
       "   'index': 254,\n",
       "   'word': 'Mo',\n",
       "   'start': 2535,\n",
       "   'end': 2537},\n",
       "  {'entity': 'I-PER',\n",
       "   'score': 0.87722224,\n",
       "   'index': 255,\n",
       "   'word': '##lt',\n",
       "   'start': 2537,\n",
       "   'end': 2539},\n",
       "  {'entity': 'I-PER',\n",
       "   'score': 0.99492985,\n",
       "   'index': 256,\n",
       "   'word': '##ke',\n",
       "   'start': 2539,\n",
       "   'end': 2541},\n",
       "  {'entity': 'I-PER',\n",
       "   'score': 0.99982244,\n",
       "   'index': 266,\n",
       "   'word': 'Alexander',\n",
       "   'start': 2694,\n",
       "   'end': 2703},\n",
       "  {'entity': 'I-PER',\n",
       "   'score': 0.9995466,\n",
       "   'index': 267,\n",
       "   'word': 'von',\n",
       "   'start': 2704,\n",
       "   'end': 2707},\n",
       "  {'entity': 'I-PER',\n",
       "   'score': 0.9988167,\n",
       "   'index': 268,\n",
       "   'word': 'zur',\n",
       "   'start': 2708,\n",
       "   'end': 2711},\n",
       "  {'entity': 'I-PER',\n",
       "   'score': 0.9981744,\n",
       "   'index': 269,\n",
       "   'word': 'M',\n",
       "   'start': 2712,\n",
       "   'end': 2713},\n",
       "  {'entity': 'I-PER',\n",
       "   'score': 0.94282764,\n",
       "   'index': 270,\n",
       "   'word': '##ü',\n",
       "   'start': 2713,\n",
       "   'end': 2714},\n",
       "  {'entity': 'I-PER',\n",
       "   'score': 0.9573284,\n",
       "   'index': 271,\n",
       "   'word': '##hl',\n",
       "   'start': 2714,\n",
       "   'end': 2716},\n",
       "  {'entity': 'I-PER',\n",
       "   'score': 0.9845993,\n",
       "   'index': 272,\n",
       "   'word': '##en',\n",
       "   'start': 2716,\n",
       "   'end': 2718},\n",
       "  {'entity': 'I-PER',\n",
       "   'score': 0.99966216,\n",
       "   'index': 289,\n",
       "   'word': 'Christian',\n",
       "   'start': 2863,\n",
       "   'end': 2872},\n",
       "  {'entity': 'I-PER',\n",
       "   'score': 0.99967444,\n",
       "   'index': 290,\n",
       "   'word': '##a',\n",
       "   'start': 2872,\n",
       "   'end': 2873},\n",
       "  {'entity': 'I-PER',\n",
       "   'score': 0.9997855,\n",
       "   'index': 291,\n",
       "   'word': 'Riley',\n",
       "   'start': 2874,\n",
       "   'end': 2879},\n",
       "  {'entity': 'I-PER',\n",
       "   'score': 0.9997472,\n",
       "   'index': 301,\n",
       "   'word': 'Rebecca',\n",
       "   'start': 3032,\n",
       "   'end': 3039},\n",
       "  {'entity': 'I-PER',\n",
       "   'score': 0.99983335,\n",
       "   'index': 302,\n",
       "   'word': 'Short',\n",
       "   'start': 3040,\n",
       "   'end': 3045},\n",
       "  {'entity': 'I-PER',\n",
       "   'score': 0.9997825,\n",
       "   'index': 320,\n",
       "   'word': 'Stefan',\n",
       "   'start': 3201,\n",
       "   'end': 3207},\n",
       "  {'entity': 'I-PER',\n",
       "   'score': 0.99984396,\n",
       "   'index': 321,\n",
       "   'word': 'Simon',\n",
       "   'start': 3208,\n",
       "   'end': 3213},\n",
       "  {'entity': 'I-ORG',\n",
       "   'score': 0.96871895,\n",
       "   'index': 343,\n",
       "   'word': 'Management',\n",
       "   'start': 3391,\n",
       "   'end': 3401},\n",
       "  {'entity': 'I-ORG',\n",
       "   'score': 0.99733055,\n",
       "   'index': 344,\n",
       "   'word': 'Board',\n",
       "   'start': 3402,\n",
       "   'end': 3407},\n",
       "  {'entity': 'I-PER',\n",
       "   'score': 0.9997259,\n",
       "   'index': 349,\n",
       "   'word': 'Frank',\n",
       "   'start': 3437,\n",
       "   'end': 3442},\n",
       "  {'entity': 'I-PER',\n",
       "   'score': 0.99969876,\n",
       "   'index': 350,\n",
       "   'word': 'Ku',\n",
       "   'start': 3443,\n",
       "   'end': 3445},\n",
       "  {'entity': 'I-PER',\n",
       "   'score': 0.9905421,\n",
       "   'index': 351,\n",
       "   'word': '##hn',\n",
       "   'start': 3445,\n",
       "   'end': 3447},\n",
       "  {'entity': 'I-PER',\n",
       "   'score': 0.99661285,\n",
       "   'index': 352,\n",
       "   'word': '##ke',\n",
       "   'start': 3447,\n",
       "   'end': 3449},\n",
       "  {'entity': 'I-ORG',\n",
       "   'score': 0.9907018,\n",
       "   'index': 372,\n",
       "   'word': 'Management',\n",
       "   'start': 3627,\n",
       "   'end': 3637},\n",
       "  {'entity': 'I-ORG',\n",
       "   'score': 0.9984831,\n",
       "   'index': 373,\n",
       "   'word': 'Board',\n",
       "   'start': 3638,\n",
       "   'end': 3643},\n",
       "  {'entity': 'I-PER',\n",
       "   'score': 0.9996313,\n",
       "   'index': 378,\n",
       "   'word': 'Werner',\n",
       "   'start': 3673,\n",
       "   'end': 3679},\n",
       "  {'entity': 'I-PER',\n",
       "   'score': 0.9996737,\n",
       "   'index': 379,\n",
       "   'word': 'Stein',\n",
       "   'start': 3680,\n",
       "   'end': 3685},\n",
       "  {'entity': 'I-PER',\n",
       "   'score': 0.99537474,\n",
       "   'index': 380,\n",
       "   'word': '##m',\n",
       "   'start': 3685,\n",
       "   'end': 3686},\n",
       "  {'entity': 'I-PER',\n",
       "   'score': 0.9454629,\n",
       "   'index': 381,\n",
       "   'word': '##ü',\n",
       "   'start': 3686,\n",
       "   'end': 3687},\n",
       "  {'entity': 'I-PER',\n",
       "   'score': 0.96408546,\n",
       "   'index': 382,\n",
       "   'word': '##ller',\n",
       "   'start': 3687,\n",
       "   'end': 3691},\n",
       "  {'entity': 'I-PER',\n",
       "   'score': 0.8447341,\n",
       "   'index': 402,\n",
       "   'word': 'Math',\n",
       "   'start': 3849,\n",
       "   'end': 3853},\n",
       "  {'entity': 'I-PER',\n",
       "   'score': 0.9940779,\n",
       "   'index': 419,\n",
       "   'word': 'Garth',\n",
       "   'start': 4012,\n",
       "   'end': 4017},\n",
       "  {'entity': 'I-PER',\n",
       "   'score': 0.461889,\n",
       "   'index': 420,\n",
       "   'word': 'Ritchie',\n",
       "   'start': 4018,\n",
       "   'end': 4025},\n",
       "  {'entity': 'I-PER',\n",
       "   'score': 0.9981493,\n",
       "   'index': 440,\n",
       "   'word': 'Frank',\n",
       "   'start': 4182,\n",
       "   'end': 4187},\n",
       "  {'entity': 'I-PER',\n",
       "   'score': 0.9983015,\n",
       "   'index': 461,\n",
       "   'word': 'Nicolas',\n",
       "   'start': 4352,\n",
       "   'end': 4359},\n",
       "  {'entity': 'I-PER',\n",
       "   'score': 0.8762763,\n",
       "   'index': 462,\n",
       "   'word': 'More',\n",
       "   'start': 4360,\n",
       "   'end': 4364},\n",
       "  {'entity': 'I-PER',\n",
       "   'score': 0.9781401,\n",
       "   'index': 481,\n",
       "   'word': 'Kimberly',\n",
       "   'start': 4522,\n",
       "   'end': 4530},\n",
       "  {'entity': 'I-PER',\n",
       "   'score': 0.9978623,\n",
       "   'index': 497,\n",
       "   'word': 'Marcus',\n",
       "   'start': 4695,\n",
       "   'end': 4701}]]"
      ]
     },
     "execution_count": 41,
     "metadata": {},
     "output_type": "execute_result"
    }
   ],
   "source": [
    "text = load_long_text_in_chunks(\"DB_annual_report.txt\")\n",
    "\n",
    "ner_results = pipeline_ner(text)\n",
    "ner_results"
   ]
  },
  {
   "attachments": {},
   "cell_type": "markdown",
   "metadata": {},
   "source": [
    "5. Look at the results. Something looks strange here; why is it not working properly? Elaborate your answer."
   ]
  },
  {
   "attachments": {},
   "cell_type": "markdown",
   "metadata": {},
   "source": [
    "YOUR ANSWER HERE"
   ]
  },
  {
   "attachments": {},
   "cell_type": "markdown",
   "metadata": {},
   "source": [
    "### Sub Task 3: Using Datasets through Huggingface (2 Points)\n",
    "\n",
    "Instead of using the `transformers` library for model training and inference, it is also possible to use other libraries by Huggingface without neural models.\n",
    "In particular, the `datasets` library provides a centralized and streamlined way of accessing a variety of different datasets.\n",
    "\n",
    "1. Using the `datasets` library, load the `imdb` dataset."
   ]
  },
  {
   "cell_type": "code",
   "execution_count": 57,
   "metadata": {},
   "outputs": [
    {
     "name": "stderr",
     "output_type": "stream",
     "text": [
      "Found cached dataset imdb (C:/Users/gsindlinger/.cache/huggingface/datasets/imdb/plain_text/1.0.0/2fdd8b9bcadd6e7055e742a706876ba43f19faee861df134affd7a3f60fc38a1)\n"
     ]
    },
    {
     "data": {
      "application/vnd.jupyter.widget-view+json": {
       "model_id": "7873e40c5b05403f861e24f1ea9c59e5",
       "version_major": 2,
       "version_minor": 0
      },
      "text/plain": [
       "  0%|          | 0/3 [00:00<?, ?it/s]"
      ]
     },
     "metadata": {},
     "output_type": "display_data"
    }
   ],
   "source": [
    "from datasets import load_dataset\n",
    "data = load_dataset(\"imdb\")"
   ]
  },
  {
   "attachments": {},
   "cell_type": "markdown",
   "metadata": {},
   "source": [
    "2. Report the mean length of `text` column for the training, validation and test split, respectively.\n"
   ]
  },
  {
   "cell_type": "code",
   "execution_count": 56,
   "metadata": {},
   "outputs": [
    {
     "name": "stdout",
     "output_type": "stream",
     "text": [
      "Mean length of text column for train: 1325.06964\n",
      "Mean length of text column for test: 1293.7924\n",
      "Mean length of text column for validation: 1329.9025\n"
     ]
    }
   ],
   "source": [
    "temp_list = {'train': 'train', 'test': 'test', 'validation': 'unsupervised'}\n",
    "\n",
    "for key, value in temp_list.items():\n",
    "    d = data[value]\n",
    "    avg_value = sum([len(item_str) for item_str in d['text']]) / len(d)\n",
    "    print(f\"Mean length of text column for {key}: {avg_value}\")"
   ]
  }
 ],
 "metadata": {
  "colab": {
   "name": "LSTM_CNN.ipynb",
   "provenance": []
  },
  "kernelspec": {
   "display_name": ".venv",
   "language": "python",
   "name": "python3"
  },
  "language_info": {
   "codemirror_mode": {
    "name": "ipython",
    "version": 3
   },
   "file_extension": ".py",
   "mimetype": "text/x-python",
   "name": "python",
   "nbconvert_exporter": "python",
   "pygments_lexer": "ipython3",
   "version": "3.10.2"
  },
  "vscode": {
   "interpreter": {
    "hash": "e33bb9220a7c79f815a3baed59c6cfae461fa33eb77d968017a9b06e1a59e967"
   }
  }
 },
 "nbformat": 4,
 "nbformat_minor": 1
}
