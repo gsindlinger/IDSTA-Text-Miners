{
 "cells": [
  {
   "attachments": {},
   "cell_type": "markdown",
   "metadata": {
    "id": "cUgbolxu5quo"
   },
   "source": [
    "# Assignment 4: Keyphrase Extraction, Named Entity Recognition & Neural Models\n",
    "\n",
    "Due: Monday, February 06, 2023, at 2pm via Moodle\n",
    "\n",
    "**Team Members** `<Fill out>`\n",
    "\n",
    "Please note that this assignment comes with quite a number of artifacts, totaling somewhere around 5 GB of necessary disk space. In case you are running into issues or do want to keep your environment \"clean\", we suggest the use of [Google Colab](https://colab.research.google.com/)."
   ]
  },
  {
   "cell_type": "code",
   "execution_count": null,
   "metadata": {},
   "outputs": [],
   "source": [
    "%%bash\n",
    ". ~/.bashrc\n",
    "python3 -m pip install keybert\n",
    "python3 -m pip install git+https://github.com/LIAAD/yake\n",
    "python3 -m pip install transformers\n",
    "python3 -m pip install datasets\n",
    "python3 -m pip install nltk\n",
    "python3 -m pip install spacy\n",
    "# Install necessary packages for all questions"
   ]
  },
  {
   "attachments": {},
   "cell_type": "markdown",
   "metadata": {
    "id": "315kqIiW2Zhr"
   },
   "source": [
    "## Task 1: Keyphrase Extraction (5 + 3 + 3 + 5) = 16 Points\n",
    "\n",
    "In this task, we will implement our own unsupervised keyphrase extraction (KPE) module utilizing a simple grammatical ruling system, which we apply to a Sherlock Holmes novel.\n",
    "To generate TF-IDF-weighted phrases, we will be using the entire collection of Sir Arthur Donan Coyle novels to calculate document frequencies.\n",
    "\n",
    "Finally, we compare the results to general-purpose KPE libraries."
   ]
  },
  {
   "attachments": {},
   "cell_type": "markdown",
   "metadata": {
    "id": "joME4y0pC-bq"
   },
   "source": [
    "### Sub Task 1: Unsupervised Keyphrase Extraction System (5 Points)\n",
    "\n",
    "#### 1. Candidate Generation\n",
    "We will need to generate a set of suitable candidate phrases first, which can then be ranked as keyphrases later on. To do this, we will again be using spaCy's, this time its rule-based [`Matcher` class](https://spacy.io/api/matcher).\n",
    "\n",
    "The syntactic pattern of a keyphrase candidate should satisfy the following rules:\n",
    "\n",
    "1. An optional adjective, noun, proper noun\n",
    "2. An optional adjective, noun, proper noun\n",
    "3. A mandatory noun or proper noun.\n",
    "\n",
    "Add a second pattern, which recognizes the pattern\n",
    "\n",
    "1. A noun or proper noun\n",
    "2. An adposition\n",
    "3. Another noun or proper noun\n",
    "\n",
    "Note that the first condition will match any phrase of length between 1-3 tokens, which is a suitable approximation for our task at hand, whereas the second pattern is slightly more specific, always matching exactly three tokens.\n",
    "An example of a valid matched phrases for the first pattern would be \"Sherlock Holmes\" ([PROPN, PROPN]), and \"Hounds of Baskervilles\" ([NOUN, ADP, PROPN]) for the second pattern."
   ]
  },
  {
   "cell_type": "code",
   "execution_count": null,
   "metadata": {
    "id": "j7yKhziiDkzJ"
   },
   "outputs": [],
   "source": [
    "import spacy\n",
    "from spacy.matcher import Matcher"
   ]
  },
  {
   "cell_type": "code",
   "execution_count": null,
   "metadata": {
    "colab": {
     "base_uri": "https://localhost:8080/"
    },
    "id": "1cFJOPt3DlZu",
    "outputId": "a13cb7f2-71ea-49bc-b2cd-b1626cef4789"
   },
   "outputs": [],
   "source": [
    "# load language model\n",
    "nlp = spacy.load(\"en_core_web_sm\", disable=[\"ner\"])\n",
    "matcher = Matcher(nlp.vocab)\n",
    "\n",
    "# Define the above patterns\n",
    "pattern = ## YOUR CODE\n",
    "\n",
    "matcher.add( ## YOUR CODE"
   ]
  },
  {
   "attachments": {},
   "cell_type": "markdown",
   "metadata": {},
   "source": [
    "To verify whether your pattern is correct, use the below example.\n",
    "If you have done everything correctly, your matcher will identify **13 phrases**."
   ]
  },
  {
   "cell_type": "code",
   "execution_count": null,
   "metadata": {
    "colab": {
     "base_uri": "https://localhost:8080/"
    },
    "id": "71JZGbIlHfxx",
    "outputId": "7b650ae4-99bd-4226-ab95-fe0b8cc2b09e"
   },
   "outputs": [],
   "source": [
    "doc = nlp(\"This is a simple test. It should return 'simple', and 'test', among other phrases. Maybe we can also see if it can recognize the art of war. Would it recognize integer linear programming, too?\")\n",
    "matches = matcher(doc)\n",
    "\n",
    "print(len(matches))"
   ]
  },
  {
   "attachments": {},
   "cell_type": "markdown",
   "metadata": {
    "id": "3x2TRsI-GeLq"
   },
   "source": [
    "#### 2. Applying Your System\n",
    "\n",
    "Once you have matched the correct number of keyphrase candidates on the above example, apply your rule-based matcher to an actual data sample. We are going to use the Sherlock Holmes novel \"Hounds of Baskervilles\". You can find the raw text file at the following URL:\n",
    "\n",
    "https://sherlock-holm.es/stories/plain-text/houn.txt\n",
    "\n",
    "Download the text from this URL and apply your spaCy model and matcher on it.  \n",
    "**Hint:** Make sure you properly decode your input, since some libraries return binary strings."
   ]
  },
  {
   "cell_type": "code",
   "execution_count": null,
   "metadata": {
    "id": "cbDFj7DSLQ5v"
   },
   "outputs": [],
   "source": [
    "from urllib.request import urlopen\n",
    "def load_txt_from_url(url: str = \"https://sherlock-holm.es/stories/plain-text/houn.txt\") -> str:\n",
    "  ## YOUR CODE\n",
    "\n",
    "text = load_txt_from_url()\n",
    "\n",
    "# Apply the spacy model to the loaded text and extract the phrases with the Matcher\n",
    "doc = ## YOUR CODE\n",
    "matches = ## YOUR CODE"
   ]
  },
  {
   "attachments": {},
   "cell_type": "markdown",
   "metadata": {
    "id": "q4U96ELPKtIA"
   },
   "source": [
    "We will now investigate which phrase candidates are the most frequently appearing in this novel, simply based on the phrase frequency. Therefore, convert your abstract match objects into actual strings, lowercase them, and return the 20 most frequently occurring phrase candidates and their respective frequencies.  \n",
    "**Hint:** For counting occurrences, you may look at `collections.Counter`."
   ]
  },
  {
   "cell_type": "code",
   "execution_count": null,
   "metadata": {
    "colab": {
     "base_uri": "https://localhost:8080/"
    },
    "id": "_tGof05SIXES",
    "outputId": "a32bdb06-438d-4268-cdc6-07563c344aab"
   },
   "outputs": [],
   "source": [
    "candidates = []\n",
    "# Lowercase and add the extracted candidate matches to `candidates`\n",
    "## YOUR CODE\n",
    "\n",
    "# Count the number of occurrences of different candidate phrases\n",
    "candidate_phrases = ## YOUR CODE\n",
    "# Print the most frequently occurring phrases, together with the respective frequencies\n",
    "print( ## YOUR CODE"
   ]
  },
  {
   "attachments": {},
   "cell_type": "markdown",
   "metadata": {
    "id": "WYQt8278NA7v"
   },
   "source": [
    "#### 3. Briefly summarize the quality of your top 20 candidates:\n",
    "\n",
    "YOUR ANSWER"
   ]
  },
  {
   "attachments": {},
   "cell_type": "markdown",
   "metadata": {
    "id": "aucrN3TPJqw1"
   },
   "source": [
    "### Sub Task 2: Generating Document Frequency Values (3 Points)\n",
    "\n",
    "To compare the previously generated terms with a more refined model, we are going to extract document frequencies from the collection of all Sherlock Holmes works. Since the books are relatively long documents, we are instead going to split based on a simple heuristic in the input document, which should allow a decent approximation by taking into account individual chapters of each novel."
   ]
  },
  {
   "attachments": {},
   "cell_type": "markdown",
   "metadata": {
    "id": "mfp7rUN9N218"
   },
   "source": [
    "1. Start by loading the Sherlock Holmes canon from https://sherlock-holm.es/stories/plain-text/cnus.txt  \n",
    "Afterwards, split the full document into individual chapters. For this, use three consecutive line breaks `\\n\\n\\n` as a splitting condition to approximate the chapters."
   ]
  },
  {
   "cell_type": "code",
   "execution_count": null,
   "metadata": {
    "colab": {
     "base_uri": "https://localhost:8080/"
    },
    "id": "FJYRCDJyP-Xp",
    "outputId": "e1251116-c0a3-4697-9163-328b10891bf9"
   },
   "outputs": [],
   "source": [
    "df_texts = load_txt_from_url(\"https://sherlock-holm.es/stories/plain-text/cnus.txt\")\n",
    "\n",
    "split_df_texts = ## YOUR CODE\n",
    "\n",
    "print(len(split_df_texts))"
   ]
  },
  {
   "attachments": {},
   "cell_type": "markdown",
   "metadata": {
    "id": "oRcMyiKkRU7d"
   },
   "source": [
    "After splitting, you should have 353 individual \"documents\" to work with.\n",
    "\n",
    "2. Now, create a dictionary containing each phrase encountered in the larger corpus, and its associated document frequency. Again, ensure that phrase strings are lowercased for consistency with the previous transformation.  \n",
    "**Hint:** Since the processing of 353 documents might take a while, incorporate [`tqdm.tqdm`](https://tqdm.github.io/) to visualize progress on the task."
   ]
  },
  {
   "cell_type": "code",
   "execution_count": null,
   "metadata": {
    "colab": {
     "base_uri": "https://localhost:8080/"
    },
    "id": "JtXpYkWQQJi2",
    "outputId": "6d2f3743-c8bd-4e76-e676-fc53d1672189"
   },
   "outputs": [],
   "source": [
    "from tqdm import tqdm\n",
    "from typing import List\n",
    "\n",
    "def return_occurring_phrases(doc_text: str) -> List[str]:\n",
    "  # process text with spaCy and apply the Matcher\n",
    "  doc = ## YOUR CODE\n",
    "  matches = ## YOUR CODE\n",
    "\n",
    "  # Candidates can be a set, since we only care about the occurrence *once* for IDF values.\n",
    "  # Again, extract the lower-cased text of a matched span.\n",
    "  candidates = set()\n",
    "  for match_id, start, end in matches:\n",
    "    ## YOUR CODE\n",
    "\n",
    "  return list(candidates)\n",
    "\n",
    "all_document_phrases = []\n",
    "# Iterate through the individual documents and extract phrases for them. Use `tqdm` to visualize progress\n",
    "## YOUR CODE\n",
    "\n",
    "# Once again, count the frequency of term occurrences across all documents\n",
    "## YOUR CODE\n",
    "\n"
   ]
  },
  {
   "attachments": {},
   "cell_type": "markdown",
   "metadata": {},
   "source": [
    "3. Output the 20 most frequently appearing document phrases that your system detected:"
   ]
  },
  {
   "cell_type": "code",
   "execution_count": null,
   "metadata": {
    "colab": {
     "base_uri": "https://localhost:8080/"
    },
    "id": "7vDTmrTLSY2q",
    "outputId": "6f4b5c46-750f-44f0-b259-f2536034fc17"
   },
   "outputs": [],
   "source": [
    "print( ## YOUR CODE"
   ]
  },
  {
   "attachments": {},
   "cell_type": "markdown",
   "metadata": {
    "id": "vR9FmhTpS_TB"
   },
   "source": [
    "### Sub Task 3: Generating Weighted Keyphrases (3 Points)\n",
    "\n",
    "We can now incorporate the extracted keyphrases to calculate `tf-idf` scores, and return a hopefully improved version of our keyphrases for the original \"Hounds of Baskervilles\" document. \n",
    "\n",
    "1. Iterate over all phrases occurring in the novel \"Hounds of Baskervilles\", and re-score phrases according to the definition of TF-IDF. Use the smoothed definition of idf:\n",
    "\n",
    "$ idf(t, D) = \\log \\frac{|D|}{|\\{d \\in D : t \\in d\\}| + 1} + 1 $"
   ]
  },
  {
   "cell_type": "code",
   "execution_count": null,
   "metadata": {
    "id": "HDDoPiAATWat"
   },
   "outputs": [],
   "source": [
    "import math\n",
    "from typing import Dict\n",
    "\n",
    "def tf_idf(tf: int, df_count: int) -> float:\n",
    "  \"\"\"\n",
    "  Computes the TF-IDF scores according to the above-mentioned formula.\n",
    "  Note that you may use a constant for the number of documents (|D|).\n",
    "  \"\"\"\n",
    "  return ## YOUR CODE\n",
    "\n",
    "tf_idf_weighted_candidates = []\n",
    "\n",
    "# Iterate through all candidate phrase/frequency pairs and compute the TF-IDF scores for each phrase\n",
    "# Store the phrase together with its TF-IDF score in `tf_idf_weighted_candidates`\n",
    "for candidate, tf in candidate_phrases.items():\n",
    "  tf_idf_weighted_candidates.append( ## YOUR CODE"
   ]
  },
  {
   "attachments": {},
   "cell_type": "markdown",
   "metadata": {
    "id": "mSfTPsukVoEF"
   },
   "source": [
    "2. Now print the top 20 candidate phrases by TF-IDF weight, and compare the results to your previous output. "
   ]
  },
  {
   "cell_type": "code",
   "execution_count": null,
   "metadata": {
    "colab": {
     "base_uri": "https://localhost:8080/"
    },
    "id": "w8ulSamTUsGP",
    "outputId": "c02da910-d190-43f1-b7b7-6016e73da92a"
   },
   "outputs": [],
   "source": [
    "print(## YOUR CODE"
   ]
  },
  {
   "attachments": {},
   "cell_type": "markdown",
   "metadata": {
    "id": "kdmGgOThVmyz"
   },
   "source": [
    "3. Write your insights on the comparison of the results below. Try to theorize why some of the phrases still appear, or why other phrases are no longer present:"
   ]
  },
  {
   "attachments": {},
   "cell_type": "markdown",
   "metadata": {},
   "source": [
    "YOUR ANSWER HERE"
   ]
  },
  {
   "attachments": {},
   "cell_type": "markdown",
   "metadata": {
    "id": "2y8eaRPNWHut"
   },
   "source": [
    "4. Give two examples of how you could further improve the list of keyphrase values."
   ]
  },
  {
   "attachments": {},
   "cell_type": "markdown",
   "metadata": {
    "id": "1yfMZ0etWNj_"
   },
   "source": [
    "YOUR ANSWER HERE\n",
    "\n"
   ]
  },
  {
   "attachments": {},
   "cell_type": "markdown",
   "metadata": {},
   "source": [
    "### Sub Task 4: Apply off-the-shelf Keyphrase Extraction Tools (5 Points)\n",
    "\n",
    "To put the findings of your system into context, compare them with two popular open-source libraries, namely [YAKE!](https://github.com/LIAAD/yake) and [KeyBERT](https://github.com/MaartenGr/KeyBERT)."
   ]
  },
  {
   "attachments": {},
   "cell_type": "markdown",
   "metadata": {},
   "source": [
    "1. First, start by running the document with YAKE!; you may use the default parameters. Print the resulting keyphrases, which by default returns 20 phrases."
   ]
  },
  {
   "cell_type": "code",
   "execution_count": null,
   "metadata": {},
   "outputs": [],
   "source": [
    "from yake import KeywordExtractor\n",
    "\n",
    "extractor = ## YOUR CODE\n",
    "keywords = ## YOUR CODE\n",
    "\n",
    "# Print the top 20 keywords\n",
    "print(keywords)"
   ]
  },
  {
   "attachments": {},
   "cell_type": "markdown",
   "metadata": {},
   "source": [
    "2. Compare both runtime efficiency and the extracted phrases with your own system."
   ]
  },
  {
   "attachments": {},
   "cell_type": "markdown",
   "metadata": {},
   "source": [
    "YOUR ANSWER HERE"
   ]
  },
  {
   "attachments": {},
   "cell_type": "markdown",
   "metadata": {},
   "source": [
    "3. Now use the KeyBERT library to extract keyphrases. Importantly, you will need to split the document into separate paragraphs, as the underlying neural model will be unable to handle the complete document as input.  \n",
    "Use the pattern of `\\n\\n` to separate the text into smaller paragraphs, and filter out any empty lines after. An \"empty line\" also constitutes all inputs that only contain newline (`\\n`) or whitespace ` ` characters.\n"
   ]
  },
  {
   "cell_type": "code",
   "execution_count": null,
   "metadata": {},
   "outputs": [],
   "source": [
    "# Split the input text according to the specified criteria and filter empty lines out.\n",
    "split_text = ## YOUR CODE"
   ]
  },
  {
   "attachments": {},
   "cell_type": "markdown",
   "metadata": {},
   "source": [
    "4. To ensure consistency between the tools when extracting keyphrases, set the *n*-gram range to `(1,3)`.\n",
    "Otherwise, leave all parameters at the default value, and extract the keyphrases from each paragraph."
   ]
  },
  {
   "cell_type": "code",
   "execution_count": null,
   "metadata": {},
   "outputs": [],
   "source": [
    "from keybert import KeyBERT\n",
    "\n",
    "# This might take a while to install\n",
    "model = KeyBERT(\"all-MiniLM-L6-v2\")\n",
    "\n",
    "# Extract the keyphrases from each split, using the adjusted keyphrase ngram range\n",
    "# Hint: You may pass a list to the extraction function and KeyBERT will automatically handle iteration.\n",
    "extracted_phrases = ## YOUR CODE"
   ]
  },
  {
   "attachments": {},
   "cell_type": "markdown",
   "metadata": {},
   "source": [
    "5. Combine the predictions of all individual splits into a single list. For this, sum up the prediction scores across all splits.  \n",
    "**Hint:** `collections.defaultdict` makes aggregations like this much easier."
   ]
  },
  {
   "cell_type": "code",
   "execution_count": null,
   "metadata": {},
   "outputs": [],
   "source": [
    "from typing import List, Tuple\n",
    "from collections import defaultdict\n",
    "\n",
    "def merge_predictions(list_of_predictions: List[List[Tuple]]) -> List[Tuple]:\n",
    "    \"\"\"\n",
    "    Combines lists of predictions into a single list with added scores.\n",
    "    \"\"\"\n",
    "    phrase_dict = ## YOUR CODE\n",
    "\n",
    "    # Iterate through all the lists of predictions and add the scores to the correct dict entry\n",
    "    ## YOUR CODE\n",
    "\n",
    "    # Extract the 20 keyphrases with the highest weithgts from `phrase_dict`\n",
    "    phrase_list = ## YOUR CODE\n",
    "\n",
    "    return phrase_list"
   ]
  },
  {
   "cell_type": "code",
   "execution_count": null,
   "metadata": {},
   "outputs": [],
   "source": [
    "print(merge_predictions(extracted_phrases))"
   ]
  },
  {
   "attachments": {},
   "cell_type": "markdown",
   "metadata": {},
   "source": [
    "6. Again, evaluate the result and compare it to the other two approaches in terms of extraction quality and extraction speed."
   ]
  },
  {
   "attachments": {},
   "cell_type": "markdown",
   "metadata": {},
   "source": [
    "YOUR ANSWER HERE"
   ]
  },
  {
   "attachments": {},
   "cell_type": "markdown",
   "metadata": {},
   "source": [
    "## 2. Named Entity Recognition (4 + 5 + 5 = 14 Points)"
   ]
  },
  {
   "attachments": {},
   "cell_type": "markdown",
   "metadata": {},
   "source": [
    "Slightly different, but still operating on the sequence level, is the task of Named Entity Recognition (NER).\n",
    "In this task, we will evaluate the NER capabilities of some more open-source libraries.\n",
    "Particularly, we will also evaluate the utility of NER as a stand-in for Keyphrase Extraction."
   ]
  },
  {
   "attachments": {},
   "cell_type": "markdown",
   "metadata": {},
   "source": [
    "### Sub Task 1: Using spaCy NER (4 Points)\n",
    "\n",
    "So far, when using spaCy models, we have primarily disabled the NER component, as it requires significant extra compute.\n",
    "In this task, we will explicitly leave the component enabled, to see what results it can produce on the text from the previous question."
   ]
  },
  {
   "cell_type": "code",
   "execution_count": null,
   "metadata": {},
   "outputs": [],
   "source": [
    "import spacy\n",
    "\n",
    "# Load the en_core_web_sm model, but with NER enabled.\n",
    "nlp = spacy.load(\"en_core_web_sm\")"
   ]
  },
  {
   "attachments": {},
   "cell_type": "markdown",
   "metadata": {},
   "source": [
    "1. Re-load the text for the \"Hounds of Baskervilles\" novel, and run it with the spacy model."
   ]
  },
  {
   "cell_type": "code",
   "execution_count": null,
   "metadata": {},
   "outputs": [],
   "source": [
    "# Re-use the function from the previous exercise.\n",
    "text = ## YOUR CODE\n",
    "\n",
    "doc = ## YOUR CODE"
   ]
  },
  {
   "attachments": {},
   "cell_type": "markdown",
   "metadata": {},
   "source": [
    "2. Similar to the previous exercise, count the number of occurrences, however, this time for the extracted entities instead of phrases. Print the top 20 most frequently occurring entities.  \n",
    "Make sure to lowercase the text again during your aggregation."
   ]
  },
  {
   "cell_type": "code",
   "execution_count": null,
   "metadata": {},
   "outputs": [],
   "source": [
    "# Count the number of occurrences of particular entities\n",
    "## YOUR CODE\n",
    "\n",
    "# Print the top 20 most frequently occurring entities.\n",
    "print( ## YOUR CODE"
   ]
  },
  {
   "attachments": {},
   "cell_type": "markdown",
   "metadata": {},
   "source": [
    "You might have noticed some unwanted results in the list, such as \"night\". Upon closer inspection, it turns out that the NER module further differentiates between different entity *categories*, such as PERSON (referencing, as expected, a physical person) or ORG (organizations, such as companies, NGOs, etc.), but also TIME (under which \"night\" falls). For reference, you can find the full list of supported NER labels by this particular model [here](https://spacy.io/models/en#en_core_web_sm-labels).\n",
    "\n",
    "3. Refine the list of most common entities by printing out the top three occurring entities in the category `PERSON`, `ORG` and `GPE` (physical locations) instead."
   ]
  },
  {
   "cell_type": "code",
   "execution_count": null,
   "metadata": {},
   "outputs": [],
   "source": [
    "def get_top_entities_by_class(doc: spacy.tokens.Doc, class_name: str, n: int = 3) -> List[Tuple[str, int]]:\n",
    "    \"\"\"\n",
    "    Returns the three most frequent entities (and their frequencies)\n",
    "    of entity type `class_name` from `doc`.\n",
    "    \"\"\"\n",
    "    # Extract phrase and frequency of a particular entity class\n",
    "    counter = ## YOUR CODE\n",
    "    # Return the top 3 entities and frequencies\n",
    "    return ## YOUR CODE\n",
    "\n",
    "# Print the results for \"PERSON\", \"ORG\" and \"GPE\"\n",
    "print( ## YOUR CODE\n",
    "print( ## YOUR CODE\n",
    "print( ## YOUR CODE"
   ]
  },
  {
   "attachments": {},
   "cell_type": "markdown",
   "metadata": {},
   "source": [
    "### Sub Task 2: Financial Bank Statements of Deutsche Bank (5 Points)\n",
    "\n",
    "Instead of using the Sherlock Holmes Novels, we will now compare the functionality of spaCy and NLTK's NER modules on the financial statements of Deutsche Bank from 2021. For this, see the file available on Moodle.\n",
    "\n",
    "1. Download it and convert the PDF document into text, by using the `pdftotext` command-line utility. In particular, run with the `-layout` option enabled."
   ]
  },
  {
   "cell_type": "code",
   "execution_count": null,
   "metadata": {},
   "outputs": [],
   "source": [
    "%%bash\n",
    ". ~/.bashrc\n",
    "## YOUR SHELL COMMAND HERE\n",
    "# If you have to execute this command through your shell, still paste the command you ran in here."
   ]
  },
  {
   "attachments": {},
   "cell_type": "markdown",
   "metadata": {},
   "source": [
    "2. Given that the document is extremely long, split the inputs into chunks of 500.000 characters and process them separately."
   ]
  },
  {
   "cell_type": "code",
   "execution_count": null,
   "metadata": {},
   "outputs": [],
   "source": [
    "def load_long_text_in_chunks(fp: str, chunk_size: int = 500_000) -> List[str]:\n",
    "    \"\"\"\n",
    "    Loads a text file (located at `fp`) and chunks it into chunks fo at most `chunk_size` characters.\n",
    "    Note that the last chunk might be significantly shorter.\n",
    "    \"\"\"\n",
    "    # Load the text file\n",
    "    text = ## YOUR CODE\n",
    "\n",
    "    # Split the text into segments of at most `chunk_size` characters\n",
    "    chunks = ## YOUR CODE\n",
    "    return chunks"
   ]
  },
  {
   "cell_type": "code",
   "execution_count": null,
   "metadata": {},
   "outputs": [],
   "source": [
    "db_chunks = load_long_text_in_chunks( ## YOUR CODE HERE)"
   ]
  },
  {
   "attachments": {},
   "cell_type": "markdown",
   "metadata": {},
   "source": [
    "3. Print the top 5 occurring `ORG` entities that are not referencing Deutsche Bank itself, both by using spaCy's NER module and the NER function of NLTK.  \n",
    "To exclude \"Deutsche Bank\" entities, filter out all entities that contain both \"deutsche\" and \"bank\" in their name, irrespective of the actual upper-/lowercasing.\n",
    "**Hint:** For more information on how to run NER with NLTK, see [here](https://nanonets.com/blog/named-entity-recognition-with-nltk-and-spacy/#performing-ner-with-nltk-and-spacy)"
   ]
  },
  {
   "cell_type": "code",
   "execution_count": null,
   "metadata": {},
   "outputs": [],
   "source": [
    "import nltk\n",
    "nltk.download('punkt')\n",
    "nltk.download('averaged_perceptron_tagger')\n",
    "nltk.download('maxent_ne_chunker')\n",
    "nltk.download('words')\n",
    "\n",
    "org_entities_spacy = []\n",
    "org_entities_nltk = []\n",
    "\n",
    "def is_deutsche_bank_entity(name: str) -> bool:\n",
    "    \"\"\"\n",
    "    Returns True if the entity name contains \"deutsche\" and \"bank\" in some upper-/lowercased version.\n",
    "    This means both \"Deutsche Bank\" and \"deutsche bank's\" should be recognized.\n",
    "    \"\"\"\n",
    "    ## YOUR CODE\n",
    "\n",
    "for chunk in db_chunks:\n",
    "    # Process the chunk with spaCy\n",
    "    doc = ## YOUR CODE\n",
    "\n",
    "    # And also with NLTK\n",
    "    ## YOUR CODE\n",
    "    \n",
    "\n",
    "    # Add all the extracted \"ORG\" entities to `org_entities`, except those referencing Deutsche Bank\n",
    "    org_entities_spacy.extend( ## YOUR CODE\n",
    "    org_entities_nltk.extend( ## YOUR CODE\n",
    "    "
   ]
  },
  {
   "cell_type": "code",
   "execution_count": null,
   "metadata": {},
   "outputs": [],
   "source": [
    "# Return the top 5 entities by frequency\n",
    "\n",
    "entity_counts_spacy = ## YOUR CODE\n",
    "entity_counts_nltk = ## YOUR CODE\n",
    "\n",
    "print( ## YOUR CODE\n",
    "print( ## YOUR CODE"
   ]
  },
  {
   "attachments": {},
   "cell_type": "markdown",
   "metadata": {},
   "source": [
    "4. Compare and analyze the different results between the two methods."
   ]
  },
  {
   "attachments": {},
   "cell_type": "markdown",
   "metadata": {},
   "source": [
    "YOUR ANSWER HERE"
   ]
  },
  {
   "attachments": {},
   "cell_type": "markdown",
   "metadata": {},
   "source": [
    "### Sub Task 3: Co-Occurrence Counts of Entities (5 Points)\n",
    "\n",
    "As is becoming apparent, the *raw* occurrence counts of entities might not be meaningful on its own, especially if we are interested in less frequently occurring entities.\n",
    "\n",
    "Instead, we will \"investigate\" the entities that are most frequently mentioned in association with \"Deutsche Bank\". For this purpose, we will look at the textual co-occurrences of two named entities. The basic idea is that entities that frequently appear together are likely related.\n",
    "\n",
    "1. For each text chunk, extract all mentions of the entity `('Deutsche Bank', 'ORG')`, as well as all `PERSON` entity mentions in the text using spaCy. Store the respective entity name and the text position. Unlike the previous question, you do *not* need to check for different spelllings of the \"Deutsche Bank\" entity.  \n",
    "**Hint:** Entities are represented as a [`Span`](https://spacy.io/api/span) element in spaCy, which has access to text position.\n"
   ]
  },
  {
   "cell_type": "code",
   "execution_count": null,
   "metadata": {},
   "outputs": [],
   "source": [
    "entity_mentions_with_start_position = []\n",
    "\n",
    "for chunk in db_chunks:\n",
    "    chunk_mentions = []\n",
    "    # Process the doc with spaCy\n",
    "    doc = ## YOUR CODE\n",
    "    \n",
    "    # Extract only entity mentions of \"Deutsche Bank\" (ORG) or any PERSON mention.\n",
    "    # Append each mention, including the text and its starting position, to `chunk_mentions`\n",
    "    \n",
    "    # Append the chunk's entities to the aggregate list\n",
    "    entity_mentions_with_start_position.append(chunk_mentions)\n"
   ]
  },
  {
   "attachments": {},
   "cell_type": "markdown",
   "metadata": {},
   "source": [
    "2. Within each chunk, for each mention of `Deutsche Bank`, search for `PERSON` entities that have a starting position within 200 characters before/after the starting position of the `Deutsche Bank` mention. Count for each `PERSON` entity how many times it occurs nearby a mention of `Deutsche Bank`.  \n",
    "Aggregate the co-occurrences across all chunks. "
   ]
  },
  {
   "cell_type": "code",
   "execution_count": null,
   "metadata": {},
   "outputs": [],
   "source": [
    "co_occurrences = []\n",
    "\n",
    "for chunk_mentions in entity_mentions_with_start_position:\n",
    "    # Iterate through the entities. If the entity is a \"Deutsche Bank\" mention, extract nearby\n",
    "    # PERSON references (less than +/- 200 character difference in the starting position)\n",
    "\n",
    "    ## YOUR CODE"
   ]
  },
  {
   "attachments": {},
   "cell_type": "markdown",
   "metadata": {},
   "source": [
    "\n",
    "3. Return the number of co-occurrences and the name of the top 5 frequently occurring `PERSON` entities.\n"
   ]
  },
  {
   "cell_type": "code",
   "execution_count": null,
   "metadata": {},
   "outputs": [],
   "source": [
    "co_occurrence_counts = ## YOUR CODE\n",
    "\n",
    "print( ## YOUR CODE"
   ]
  },
  {
   "attachments": {},
   "cell_type": "markdown",
   "metadata": {},
   "source": [
    "4. Look back at the results of your previous task. Are the `PERSON` entities returned by your co-occurrence method the same ones that appear most frequently by raw counts?"
   ]
  },
  {
   "attachments": {},
   "cell_type": "markdown",
   "metadata": {},
   "source": [
    "YOUR ANSWER HERE"
   ]
  },
  {
   "attachments": {},
   "cell_type": "markdown",
   "metadata": {},
   "source": [
    "## 3. Neural Models with Huggingface (3 + 5 + 2 = 10 Points)\n",
    "\n",
    "For state-of-the-art performance, most text-related tasks nowadays use some variation of the Transformer architecture. The particular advantage is especiall the readily available weights for models that have been pre-trained on large general-purpose datasets, which reduces the amount of domain-specific labeled training data.\n",
    "\n",
    "In this task, we will explore the [Huggingface](https://hf.co/) ecosystem to see in which way Transformer models can be used.\n",
    "One of the central aspects of the Huggingface platform is the so-called [Model Hub](https://huggingface.co/models), where you can find many different models uploaded by community members for a variety of tasks.\n",
    "\n",
    "Because the neural models are generally very expensive to run, this exercise will be limited to  less data than in previous questions."
   ]
  },
  {
   "attachments": {},
   "cell_type": "markdown",
   "metadata": {},
   "source": [
    "### Sub Task 1: Loading Transformer Models (3 Points)\n",
    "\n",
    "1. Install the `transformers` library and load the model `cardiffnlp/twitter-roberta-base-sentiment-latest` to classify a sequence.\n",
    "2. Report the result of the prediction on the test sequence."
   ]
  },
  {
   "cell_type": "code",
   "execution_count": null,
   "metadata": {},
   "outputs": [],
   "source": [
    "from transformers import ## YOUR IMPORTS\n",
    "\n",
    "model = ## YOUR CODE\n",
    "tokenizer = ## YOUR CODE\n",
    "\n",
    "input_text = \"Das ist ein Test.\"\n",
    "\n",
    "prediction = ## YOUR CODE"
   ]
  },
  {
   "attachments": {},
   "cell_type": "markdown",
   "metadata": {},
   "source": [
    "### Sub Task 2: Using Pipelines (5 Points)\n",
    "\n",
    "The most succinct way of using a Transformer model is the [`transformers.pipeline`](https://huggingface.co/docs/transformers/pipeline_tutorial). You can check out the linked tutorial for more information on the topic, but essentially, `pipeline` provides a light-weight wrapper around a number of different popular NLP tasks\n",
    "\n",
    "1. Instead of manually defining a pipeline, now load a model through a `\"text-classification\"` pipeline. Look up the neural model that is loaded by default, and post the link to its [model card](https://huggingface.co/docs/hub/model-cards) below.\n"
   ]
  },
  {
   "cell_type": "code",
   "execution_count": null,
   "metadata": {},
   "outputs": [],
   "source": [
    "## YOUR CODE"
   ]
  },
  {
   "attachments": {},
   "cell_type": "markdown",
   "metadata": {},
   "source": [
    "2. Now, instead, load a pipeline for `\"text-classification\"`, but with a custom model and tokenizer. Use the Model Hub platform to find the most popular model for the German language (by number of downloads) and manually specify the usage of another model (and tokenizer) to the pipeline. Re-run the previous example, and report the prediction result.\n"
   ]
  },
  {
   "cell_type": "code",
   "execution_count": null,
   "metadata": {},
   "outputs": [],
   "source": [
    "\n",
    "model = ## YOUR CODE\n",
    "tokenizer = ## YOUR CODE\n",
    "\n",
    "# Instantiate the pipeline with custom components\n",
    "pipe = ## YOUR CODE\n",
    "\n",
    "# Output the prediction by your pipe on the test sample.\n",
    "print( ## YOUR CODE"
   ]
  },
  {
   "attachments": {},
   "cell_type": "markdown",
   "metadata": {},
   "source": [
    "3. Keeping in line with the previous exercises, let us now try and actually predict something with the model. Re-load a pipeline, this time for Named Entity Recognition, using the default model."
   ]
  },
  {
   "cell_type": "code",
   "execution_count": 8,
   "metadata": {},
   "outputs": [],
   "source": [
    "## YOUR CODE"
   ]
  },
  {
   "attachments": {},
   "cell_type": "markdown",
   "metadata": {},
   "source": [
    "4. Run the pipeline with the text from the Deutsche Bank report from Question 2 and output the results."
   ]
  },
  {
   "cell_type": "code",
   "execution_count": null,
   "metadata": {},
   "outputs": [],
   "source": [
    "## YOUR CODE\n",
    "\n",
    "print( ## YOUR CODE"
   ]
  },
  {
   "attachments": {},
   "cell_type": "markdown",
   "metadata": {},
   "source": [
    "5. Look at the results. Something looks strange here; why is it not working properly? Elaborate your answer."
   ]
  },
  {
   "attachments": {},
   "cell_type": "markdown",
   "metadata": {},
   "source": [
    "YOUR ANSWER HERE"
   ]
  },
  {
   "attachments": {},
   "cell_type": "markdown",
   "metadata": {},
   "source": [
    "### Sub Task 3: Using Datasets through Huggingface (2 Points)\n",
    "\n",
    "Instead of using the `transformers` library for model training and inference, it is also possible to use other libraries by Huggingface without neural models.\n",
    "In particular, the `datasets` library provides a centralized and streamlined way of accessing a variety of different datasets.\n",
    "\n",
    "1. Using the `datasets` library, load the `imdb` dataset."
   ]
  },
  {
   "cell_type": "code",
   "execution_count": 7,
   "metadata": {},
   "outputs": [],
   "source": [
    "## YOUR CODE"
   ]
  },
  {
   "attachments": {},
   "cell_type": "markdown",
   "metadata": {},
   "source": [
    "2. Report the mean length of `text` column for the training, validation and test split, respectively.\n"
   ]
  },
  {
   "cell_type": "code",
   "execution_count": 9,
   "metadata": {},
   "outputs": [],
   "source": [
    "## YOUR CODE"
   ]
  }
 ],
 "metadata": {
  "colab": {
   "name": "LSTM_CNN.ipynb",
   "provenance": []
  },
  "kernelspec": {
   "display_name": "base",
   "language": "python",
   "name": "python3"
  },
  "language_info": {
   "codemirror_mode": {
    "name": "ipython",
    "version": 3
   },
   "file_extension": ".py",
   "mimetype": "text/x-python",
   "name": "python",
   "nbconvert_exporter": "python",
   "pygments_lexer": "ipython3",
   "version": "3.9.7"
  },
  "vscode": {
   "interpreter": {
    "hash": "c2042d1922a07c71a3ec2c9c9cbb77e812df8ca713873bc0ea973593272381e2"
   }
  }
 },
 "nbformat": 4,
 "nbformat_minor": 1
}
