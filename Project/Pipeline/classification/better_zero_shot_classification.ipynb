{
 "cells": [
  {
   "cell_type": "code",
   "execution_count": 54,
   "id": "47cd47af-ef33-453f-8e77-90eba5abcc8a",
   "metadata": {},
   "outputs": [
    {
     "name": "stderr",
     "output_type": "stream",
     "text": [
      "Some weights of the model checkpoint at joeddav/xlm-roberta-large-xnli were not used when initializing XLMRobertaForSequenceClassification: ['roberta.pooler.dense.weight', 'roberta.pooler.dense.bias']\n",
      "- This IS expected if you are initializing XLMRobertaForSequenceClassification from the checkpoint of a model trained on another task or with another architecture (e.g. initializing a BertForSequenceClassification model from a BertForPreTraining model).\n",
      "- This IS NOT expected if you are initializing XLMRobertaForSequenceClassification from the checkpoint of a model that you expect to be exactly identical (initializing a BertForSequenceClassification model from a BertForSequenceClassification model).\n"
     ]
    }
   ],
   "source": [
    "from transformers import pipeline\n",
    "# classifier = pipeline(\"zero-shot-classification\", model=\"MoritzLaurer/mDeBERTa-v3-base-mnli-xnli\")\n",
    "classifier = pipeline(\"zero-shot-classification\", model=\"joeddav/xlm-roberta-large-xnli\")\n",
    "# defining our labels\n",
    "candidate_labels = [\"frauenfeindlich\", \"gewalttätig\", \"rassistisch\", \"homophob\", \"liebevoll\", 'positiv', 'neutral', 'traurig', 'freundlich']\n"
   ]
  },
  {
   "cell_type": "code",
   "execution_count": 3,
   "id": "5ab6fb82-80e5-4813-8bd1-64aa8b6f5ab9",
   "metadata": {},
   "outputs": [],
   "source": [
    "import json\n",
    "from tqdm.notebook import tqdm\n",
    "## load our dataset\n",
    "with open(\"punctuated_german_lyrics_updated_list_structure.json\", \"r\", encoding=\"utf8\") as f:\n",
    "    dataset = json.load(f)"
   ]
  },
  {
   "cell_type": "code",
   "execution_count": 4,
   "id": "a658e41e-6033-4bc3-856e-09b90618b7ad",
   "metadata": {},
   "outputs": [],
   "source": [
    "# function for multi-threading\n",
    "def classify_song(idx):\n",
    "    sent_list = []\n",
    "    scores = []\n",
    "    ## get sentences from the song\n",
    "    for line in dataset[idx]['punctuated_lyrics'].split(\".\"):\n",
    "        if line != '':\n",
    "            sent_list.append(line)\n",
    "    try:\n",
    "        scores = classifier(sent_list, candidate_labels, multi_label = False)\n",
    "    except:\n",
    "        print(\"failed at \", idx)   \n",
    "    dataset[idx]['class_score_list'] = scores\n",
    "\n",
    "import concurrent\n",
    "## initialize a list of indices for the songs to use for multi-threading\n",
    "current = 2395\n",
    "ids_list = range(current, len(dataset))\n",
    "## set a tqdm bar\n",
    "bar = tqdm(total = len(dataset) - current, position = 0, leave=True)\n",
    "## multithread with 16 workers at once\n",
    "with concurrent.futures.ThreadPoolExecutor(max_workers=8) as executor:\n",
    "    for result in executor.map(classify_song, ids_list):\n",
    "        bar.update()\n",
    "print(\"DONE!\")\n"
   ]
  },
  {
   "cell_type": "code",
   "execution_count": null,
   "id": "cbdd2737-37db-44c2-ad66-831ed9346d49",
   "metadata": {},
   "outputs": [
    {
     "data": {
      "application/vnd.jupyter.widget-view+json": {
       "model_id": "52f1f7bcc1664c9eba65c57342c32304",
       "version_major": 2,
       "version_minor": 0
      },
      "text/plain": [
       "  0%|          | 0/5992 [00:00<?, ?it/s]"
      ]
     },
     "metadata": {},
     "output_type": "display_data"
    },
    {
     "name": "stdout",
     "output_type": "stream",
     "text": [
      "failed at  0\n",
      "failed at  1\n",
      "failed at  2\n"
     ]
    }
   ],
   "source": [
    "# same as above but not multi-threaded\n",
    "scores = []\n",
    "current = 0\n",
    "bar = tqdm(total = len(dataset) - current, position = 0, leave=True)\n",
    "for idx, song in enumerate(dataset):\n",
    "    sent_list = []\n",
    "    ## get sentences from the song\n",
    "    for line in song['punctuated_lyrics'].split(\".\"):\n",
    "        if line != '':\n",
    "            sent_list.append(line)\n",
    "    \n",
    "    try:\n",
    "        scores = classifier(sent_list, candidate_labels, multi_label = False)\n",
    "    except:\n",
    "        print(\"failed at \", idx)  \n",
    "    dataset[idx]['class_scores_list'] = scores\n",
    "    bar.update()"
   ]
  },
  {
   "cell_type": "code",
   "execution_count": 56,
   "id": "20497ff9-6c9c-4b11-91ce-944c090caf5f",
   "metadata": {},
   "outputs": [],
   "source": [
    "# save the results\n",
    "dataset2 = dataset\n",
    "with open(\"punctuated_german_lyrics_updated_list_structure_with_classes_new_done.json\", \"w\", encoding=\"utf8\") as f:\n",
    "    json.dump(dataset2, f)"
   ]
  },
  {
   "cell_type": "code",
   "execution_count": 61,
   "id": "aa855ab1-37e6-407f-85f7-867ccada4bc7",
   "metadata": {},
   "outputs": [
    {
     "name": "stdout",
     "output_type": "stream",
     "text": [
      "failed at 129\n",
      "failed at 129\n",
      "failed at 129\n",
      "failed at 129\n",
      "failed at 129\n",
      "failed at 129\n",
      "failed at 129\n",
      "failed at 129\n",
      "failed at 129\n",
      "failed at 378\n",
      "failed at 378\n",
      "failed at 378\n",
      "failed at 378\n",
      "failed at 378\n",
      "failed at 378\n",
      "failed at 378\n",
      "failed at 378\n",
      "failed at 378\n",
      "failed at 379\n",
      "failed at 379\n",
      "failed at 379\n",
      "failed at 379\n",
      "failed at 379\n",
      "failed at 379\n",
      "failed at 379\n",
      "failed at 379\n",
      "failed at 379\n",
      "failed at 699\n",
      "failed at 699\n",
      "failed at 699\n",
      "failed at 699\n",
      "failed at 699\n",
      "failed at 699\n",
      "failed at 699\n",
      "failed at 699\n",
      "failed at 699\n",
      "failed at 2314\n",
      "failed at 2314\n",
      "failed at 2314\n",
      "failed at 2314\n",
      "failed at 2314\n",
      "failed at 2314\n",
      "failed at 2314\n",
      "failed at 2314\n",
      "failed at 2314\n",
      "failed at 3383\n",
      "failed at 3383\n",
      "failed at 3383\n",
      "failed at 3383\n",
      "failed at 3383\n",
      "failed at 3383\n",
      "failed at 3383\n",
      "failed at 3383\n",
      "failed at 3383\n",
      "failed at 4074\n",
      "failed at 4074\n",
      "failed at 4074\n",
      "failed at 4074\n",
      "failed at 4074\n",
      "failed at 4074\n",
      "failed at 4074\n",
      "failed at 4074\n",
      "failed at 4074\n",
      "failed at 4766\n",
      "failed at 4766\n",
      "failed at 4766\n",
      "failed at 4766\n",
      "failed at 4766\n",
      "failed at 4766\n",
      "failed at 4766\n",
      "failed at 4766\n",
      "failed at 4766\n",
      "failed at 5528\n",
      "failed at 5528\n",
      "failed at 5528\n",
      "failed at 5528\n",
      "failed at 5528\n",
      "failed at 5528\n",
      "failed at 5528\n",
      "failed at 5528\n",
      "failed at 5528\n"
     ]
    }
   ],
   "source": [
    "highest = 0\n",
    "highest_idx = 0\n",
    "for i, song in enumerate(dataset2):\n",
    "    total_score = {'neutral' : 0, 'liebevoll' : 0, 'gewalttätig' : 0, 'rassistisch' : 0,\n",
    "                   'homophob' : 0, 'frauenfeindlich' : 0, 'freundlich' : 0, 'positiv' : 0, 'traurig' : 0}\n",
    "    for scores in song['class_score_list']:\n",
    "        for j, label in enumerate(scores['labels']):\n",
    "            current_score = total_score[label]\n",
    "            current_score += scores['scores'][j]\n",
    "            total_score[label] = current_score\n",
    "    lines_of_song = sent_list = [line for line in song['punctuated_lyrics'].split(\".\") if line != '']\n",
    "    for key in total_score:\n",
    "        try:\n",
    "            total_score[key] = total_score[key] / len(lines_of_song)\n",
    "        except:\n",
    "            print(\"failed at\", i)\n",
    "            continue\n",
    "        # find out which song has the highest score for frauenfeindlichkeit\n",
    "        if key == 'frauenfeindlich':\n",
    "            if highest < total_score[key]:\n",
    "                highest = total_score[key]\n",
    "                highest_idx = i\n",
    "    song['total_class_score'] = total_score"
   ]
  },
  {
   "cell_type": "code",
   "execution_count": 63,
   "id": "cdb7b0eb",
   "metadata": {},
   "outputs": [],
   "source": [
    "# saving the results with the total score calculated for each song\n",
    "with open(\"punctuated_german_lyrics_updated_list_structure_with_classes_new_with_total_class_score.json\", \"w\", encoding=\"utf8\") as f:\n",
    "    json.dump(dataset2, f)"
   ]
  }
 ],
 "metadata": {
  "kernelspec": {
   "display_name": "Python 3 (ipykernel)",
   "language": "python",
   "name": "python3"
  },
  "language_info": {
   "codemirror_mode": {
    "name": "ipython",
    "version": 3
   },
   "file_extension": ".py",
   "mimetype": "text/x-python",
   "name": "python",
   "nbconvert_exporter": "python",
   "pygments_lexer": "ipython3",
   "version": "3.10.0"
  }
 },
 "nbformat": 4,
 "nbformat_minor": 5
}
