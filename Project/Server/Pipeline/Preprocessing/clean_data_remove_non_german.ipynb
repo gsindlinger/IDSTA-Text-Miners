{
 "cells": [
  {
   "cell_type": "code",
   "execution_count": 4,
   "metadata": {
    "collapsed": true,
    "jupyter": {
     "outputs_hidden": true
    }
   },
   "outputs": [],
   "source": [
    "import json\n",
    "import re\n",
    "import spacy"
   ]
  },
  {
   "cell_type": "code",
   "execution_count": 4,
   "metadata": {
    "collapsed": true,
    "jupyter": {
     "outputs_hidden": true
    }
   },
   "outputs": [],
   "source": [
    "##load dataset\n",
    "with open('final_new_clean.json', 'r') as f:\n",
    "    dataset = json.load(f)"
   ]
  },
  {
   "cell_type": "code",
   "execution_count": 4,
   "metadata": {
    "collapsed": true,
    "jupyter": {
     "outputs_hidden": true
    }
   },
   "outputs": [],
   "source": [
    "def remove_square_brackets(text):\n",
    "    text = re.sub(r'\\[.*?\\]', '\\n', text)  #\n",
    "    # text = re.sub(r'\\n+(?=\\n)', '.\\n', text) # adds a\n",
    "    text = text.replace('\\n\\n\\n', '\\n\\n')  #remove double empty lines\n",
    "    text = re.sub(r'([^\\.])(\\n)([^\\n])', r'\\1.\\2\\3', text)  #adds dots at every occurance of \\n\n",
    "    text = text.replace('\\n.\\n', '\\n\\n')  # remove . if appears alone in a line\n",
    "    # remove appearances of , when it's alone\n",
    "    text = text.replace('\\n,\\n', ', ')\n",
    "    text = text.replace('\\n,', ', ')\n",
    "    text = text.replace(',\\n', ', ')\n",
    "    return text\n",
    "\n",
    "## getting rid of stuff like [Verse] and [Chorus]\n",
    "for key in dataset.keys():\n",
    "    for idx in dataset[key]:\n",
    "        dataset[key][idx]['lyrics'] = remove_square_brackets(dataset[key][idx]['lyrics'])"
   ]
  },
  {
   "cell_type": "code",
   "execution_count": 5,
   "metadata": {
    "collapsed": true,
    "jupyter": {
     "outputs_hidden": true
    },
    "tags": []
   },
   "outputs": [
    {
     "name": "stderr",
     "output_type": "stream",
     "text": [
      "Detector is not able to detect the language reliably.\n",
      "Detector is not able to detect the language reliably.\n",
      "Detector is not able to detect the language reliably.\n",
      "Detector is not able to detect the language reliably.\n",
      "Detector is not able to detect the language reliably.\n",
      "Detector is not able to detect the language reliably.\n",
      "Detector is not able to detect the language reliably.\n",
      "Detector is not able to detect the language reliably.\n",
      "Detector is not able to detect the language reliably.\n",
      "Detector is not able to detect the language reliably.\n",
      "Detector is not able to detect the language reliably.\n"
     ]
    },
    {
     "name": "stdout",
     "output_type": "stream",
     "text": [
      "failed at 9\n",
      "failed at 12\n",
      "failed at 2\n",
      "failed at 12\n",
      "failed at 13\n",
      "failed at 14\n",
      "failed at 5\n",
      "failed at 1\n",
      "failed at 2\n",
      "failed at 3\n",
      "failed at 4\n",
      "failed at 1\n",
      "failed at 2\n",
      "failed at 4\n",
      "failed at 5\n",
      "failed at 9\n",
      "failed at 10\n",
      "failed at 12\n",
      "failed at 8\n"
     ]
    },
    {
     "name": "stderr",
     "output_type": "stream",
     "text": [
      "Detector is not able to detect the language reliably.\n",
      "Detector is not able to detect the language reliably.\n",
      "Detector is not able to detect the language reliably.\n",
      "Detector is not able to detect the language reliably.\n",
      "Detector is not able to detect the language reliably.\n",
      "Detector is not able to detect the language reliably.\n",
      "Detector is not able to detect the language reliably.\n",
      "Detector is not able to detect the language reliably.\n",
      "Detector is not able to detect the language reliably.\n",
      "Detector is not able to detect the language reliably.\n"
     ]
    },
    {
     "name": "stdout",
     "output_type": "stream",
     "text": [
      "failed at 11\n",
      "failed at 1\n",
      "failed at 10\n",
      "failed at 15\n",
      "failed at 4\n",
      "failed at 1\n",
      "failed at 15\n",
      "failed at 15\n",
      "failed at 11\n",
      "failed at 0\n",
      "failed at 1\n",
      "failed at 2\n",
      "failed at 3\n",
      "failed at 4\n",
      "failed at 5\n",
      "failed at 6\n",
      "failed at 7\n",
      "failed at 8\n",
      "failed at 9\n",
      "failed at 10\n",
      "failed at 11\n",
      "failed at 12\n",
      "failed at 13\n",
      "failed at 14\n",
      "failed at 15\n",
      "failed at 14\n"
     ]
    },
    {
     "name": "stderr",
     "output_type": "stream",
     "text": [
      "Detector is not able to detect the language reliably.\n",
      "Detector is not able to detect the language reliably.\n",
      "Detector is not able to detect the language reliably.\n",
      "Detector is not able to detect the language reliably.\n",
      "Detector is not able to detect the language reliably.\n",
      "Detector is not able to detect the language reliably.\n",
      "Detector is not able to detect the language reliably.\n",
      "Detector is not able to detect the language reliably.\n",
      "Detector is not able to detect the language reliably.\n",
      "Detector is not able to detect the language reliably.\n",
      "Detector is not able to detect the language reliably.\n",
      "Detector is not able to detect the language reliably.\n",
      "Detector is not able to detect the language reliably.\n",
      "Detector is not able to detect the language reliably.\n",
      "Detector is not able to detect the language reliably.\n",
      "Detector is not able to detect the language reliably.\n",
      "Detector is not able to detect the language reliably.\n",
      "Detector is not able to detect the language reliably.\n",
      "Detector is not able to detect the language reliably.\n",
      "Detector is not able to detect the language reliably.\n",
      "Detector is not able to detect the language reliably.\n",
      "Detector is not able to detect the language reliably.\n",
      "Detector is not able to detect the language reliably.\n",
      "Detector is not able to detect the language reliably.\n",
      "Detector is not able to detect the language reliably.\n",
      "Detector is not able to detect the language reliably.\n",
      "Detector is not able to detect the language reliably.\n",
      "Detector is not able to detect the language reliably.\n",
      "Detector is not able to detect the language reliably.\n",
      "Detector is not able to detect the language reliably.\n",
      "Detector is not able to detect the language reliably.\n",
      "Detector is not able to detect the language reliably.\n",
      "Detector is not able to detect the language reliably.\n",
      "Detector is not able to detect the language reliably.\n",
      "Detector is not able to detect the language reliably.\n",
      "Detector is not able to detect the language reliably.\n",
      "Detector is not able to detect the language reliably.\n",
      "Detector is not able to detect the language reliably.\n",
      "Detector is not able to detect the language reliably.\n",
      "Detector is not able to detect the language reliably.\n"
     ]
    },
    {
     "name": "stdout",
     "output_type": "stream",
     "text": [
      "failed at 10\n",
      "failed at 15\n",
      "failed at 0\n",
      "failed at 14\n",
      "failed at 0\n",
      "failed at 8\n",
      "failed at 15\n",
      "failed at 7\n",
      "failed at 6\n",
      "failed at 14\n",
      "failed at 15\n",
      "failed at 10\n",
      "failed at 5\n"
     ]
    },
    {
     "name": "stderr",
     "output_type": "stream",
     "text": [
      "Detector is not able to detect the language reliably.\n",
      "Detector is not able to detect the language reliably.\n",
      "Detector is not able to detect the language reliably.\n",
      "Detector is not able to detect the language reliably.\n",
      "Detector is not able to detect the language reliably.\n",
      "Detector is not able to detect the language reliably.\n",
      "Detector is not able to detect the language reliably.\n",
      "Detector is not able to detect the language reliably.\n",
      "Detector is not able to detect the language reliably.\n",
      "Detector is not able to detect the language reliably.\n",
      "Detector is not able to detect the language reliably.\n",
      "Detector is not able to detect the language reliably.\n",
      "Detector is not able to detect the language reliably.\n",
      "Detector is not able to detect the language reliably.\n",
      "Detector is not able to detect the language reliably.\n",
      "Detector is not able to detect the language reliably.\n",
      "Detector is not able to detect the language reliably.\n",
      "Detector is not able to detect the language reliably.\n",
      "Detector is not able to detect the language reliably.\n",
      "Detector is not able to detect the language reliably.\n",
      "Detector is not able to detect the language reliably.\n",
      "Detector is not able to detect the language reliably.\n",
      "Detector is not able to detect the language reliably.\n"
     ]
    },
    {
     "name": "stdout",
     "output_type": "stream",
     "text": [
      "failed at 7\n",
      "failed at 8\n",
      "failed at 9\n",
      "failed at 10\n",
      "failed at 11\n",
      "failed at 12\n",
      "failed at 13\n",
      "failed at 14\n",
      "failed at 15\n",
      "failed at 6\n",
      "failed at 15\n",
      "failed at 15\n",
      "failed at 3\n",
      "failed at 11\n",
      "failed at 14\n",
      "failed at 0\n",
      "failed at 1\n",
      "failed at 2\n",
      "failed at 3\n",
      "failed at 4\n",
      "failed at 5\n",
      "failed at 6\n",
      "failed at 7\n",
      "failed at 8\n",
      "failed at 9\n",
      "failed at 10\n",
      "failed at 11\n",
      "failed at 12\n",
      "failed at 13\n",
      "failed at 14\n",
      "failed at 15\n"
     ]
    },
    {
     "name": "stderr",
     "output_type": "stream",
     "text": [
      "Detector is not able to detect the language reliably.\n",
      "Detector is not able to detect the language reliably.\n",
      "Detector is not able to detect the language reliably.\n",
      "Detector is not able to detect the language reliably.\n",
      "Detector is not able to detect the language reliably.\n",
      "Detector is not able to detect the language reliably.\n",
      "Detector is not able to detect the language reliably.\n",
      "Detector is not able to detect the language reliably.\n",
      "Detector is not able to detect the language reliably.\n",
      "Detector is not able to detect the language reliably.\n",
      "Detector is not able to detect the language reliably.\n",
      "Detector is not able to detect the language reliably.\n",
      "Detector is not able to detect the language reliably.\n",
      "Detector is not able to detect the language reliably.\n",
      "Detector is not able to detect the language reliably.\n",
      "Detector is not able to detect the language reliably.\n",
      "Detector is not able to detect the language reliably.\n",
      "Detector is not able to detect the language reliably.\n",
      "Detector is not able to detect the language reliably.\n",
      "Detector is not able to detect the language reliably.\n",
      "Detector is not able to detect the language reliably.\n",
      "Detector is not able to detect the language reliably.\n",
      "Detector is not able to detect the language reliably.\n",
      "Detector is not able to detect the language reliably.\n",
      "Detector is not able to detect the language reliably.\n",
      "Detector is not able to detect the language reliably.\n",
      "Detector is not able to detect the language reliably.\n",
      "Detector is not able to detect the language reliably.\n",
      "Detector is not able to detect the language reliably.\n",
      "Detector is not able to detect the language reliably.\n",
      "Detector is not able to detect the language reliably.\n",
      "Detector is not able to detect the language reliably.\n",
      "Detector is not able to detect the language reliably.\n",
      "Detector is not able to detect the language reliably.\n",
      "Detector is not able to detect the language reliably.\n",
      "Detector is not able to detect the language reliably.\n",
      "Detector is not able to detect the language reliably.\n",
      "Detector is not able to detect the language reliably.\n",
      "Detector is not able to detect the language reliably.\n",
      "Detector is not able to detect the language reliably.\n",
      "Detector is not able to detect the language reliably.\n",
      "Detector is not able to detect the language reliably.\n",
      "Detector is not able to detect the language reliably.\n",
      "Detector is not able to detect the language reliably.\n",
      "Detector is not able to detect the language reliably.\n",
      "Detector is not able to detect the language reliably.\n",
      "Detector is not able to detect the language reliably.\n",
      "Detector is not able to detect the language reliably.\n",
      "Detector is not able to detect the language reliably.\n",
      "Detector is not able to detect the language reliably.\n",
      "Detector is not able to detect the language reliably.\n",
      "Detector is not able to detect the language reliably.\n",
      "Detector is not able to detect the language reliably.\n",
      "Detector is not able to detect the language reliably.\n",
      "Detector is not able to detect the language reliably.\n",
      "Detector is not able to detect the language reliably.\n",
      "Detector is not able to detect the language reliably.\n",
      "Detector is not able to detect the language reliably.\n",
      "Detector is not able to detect the language reliably.\n",
      "Detector is not able to detect the language reliably.\n",
      "Detector is not able to detect the language reliably.\n",
      "Detector is not able to detect the language reliably.\n",
      "Detector is not able to detect the language reliably.\n",
      "Detector is not able to detect the language reliably.\n",
      "Detector is not able to detect the language reliably.\n",
      "Detector is not able to detect the language reliably.\n"
     ]
    },
    {
     "name": "stdout",
     "output_type": "stream",
     "text": [
      "failed at 9\n",
      "failed at 7\n",
      "failed at 2\n",
      "failed at 10\n",
      "failed at 14\n",
      "failed at 15\n",
      "failed at 0\n",
      "failed at 0\n",
      "failed at 1\n",
      "failed at 2\n",
      "failed at 3\n",
      "failed at 4\n",
      "failed at 5\n",
      "failed at 6\n",
      "failed at 7\n",
      "failed at 8\n",
      "failed at 9\n"
     ]
    },
    {
     "name": "stderr",
     "output_type": "stream",
     "text": [
      "Detector is not able to detect the language reliably.\n"
     ]
    }
   ],
   "source": [
    "# keeping only songs where the text is (mostly) in German, using the polyglot library\n",
    "from polyglot.detect import Detector\n",
    "new_dataset = {}\n",
    "good = 0\n",
    "for key in dataset.keys():\n",
    "    temp_artist_set = {}\n",
    "    empty = True\n",
    "    new_index = 0\n",
    "    for idx in dataset[key]:\n",
    "        try:\n",
    "            pure = True\n",
    "            for language in Detector(dataset[key][idx]['lyrics']).languages:\n",
    "                if language.name != \"German\" and language.name != 'un':\n",
    "                    pure = False\n",
    "            if pure:\n",
    "                temp_artist_set.update({new_index: dataset[key][idx]})\n",
    "                empty = False\n",
    "                new_index += 1\n",
    "                good += 1\n",
    "        except:\n",
    "            print(\"failed at {}\".format(idx))\n",
    "        if empty == False:\n",
    "            new_dataset.update({key: temp_artist_set})"
   ]
  },
  {
   "cell_type": "code",
   "execution_count": 17,
   "metadata": {
    "collapsed": false,
    "jupyter": {
     "outputs_hidden": false
    }
   },
   "outputs": [],
   "source": [
    "# Save the new dictionary as .json\n",
    "with open('only_german_lyrics' + '.json', 'w', encoding='utf8') as f:\n",
    "    json.dump(new_dataset, f)"
   ]
  }
 ],
 "metadata": {
  "kernelspec": {
   "display_name": "Python 3 (ipykernel)",
   "language": "python",
   "name": "python3"
  },
  "language_info": {
   "codemirror_mode": {
    "name": "ipython",
    "version": 3
   },
   "file_extension": ".py",
   "mimetype": "text/x-python",
   "name": "python",
   "nbconvert_exporter": "python",
   "pygments_lexer": "ipython3",
   "version": "3.10.0"
  }
 },
 "nbformat": 4,
 "nbformat_minor": 4
}
