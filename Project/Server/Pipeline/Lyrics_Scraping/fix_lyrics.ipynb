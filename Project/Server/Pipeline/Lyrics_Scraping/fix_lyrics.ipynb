{
 "cells": [
  {
   "cell_type": "code",
   "execution_count": 1,
   "metadata": {
    "collapsed": true
   },
   "outputs": [],
   "source": [
    "from Pipeline.Lyrics_Scraping import GeniusLyricsExtraction\n",
    "from Pipeline.Lyrics_Scraping.GeniusLyricsExtraction import GeniusSongs\n",
    "\n",
    "\n",
    "songs_original: GeniusSongs = GeniusLyricsExtraction.read_song_list(\"../Analysis/data/lyrics_updated.json\")\n",
    "songs_old: GeniusSongs = GeniusLyricsExtraction.read_song_list(\"data/refactored/lyrics.json\")"
   ]
  },
  {
   "cell_type": "code",
   "execution_count": 11,
   "outputs": [],
   "source": [
    "count = 0\n",
    "for song in songs_original.song_list:\n",
    "    if song.artist_id is None:\n",
    "        tempSong = [song_old for song_old in songs_old.song_list if song_old.genius_track_id == song.genius_track_id]\n",
    "        if len(tempSong) > 0:\n",
    "            tempSong = tempSong[0]\n",
    "            song.artist_id = tempSong.artist_id\n",
    "            song.artist_name = tempSong.artist_name\n",
    "            song.featured_artists = tempSong.featured_artists\n",
    "            song.featured_artist_pics = tempSong.featured_artist_pics\n",
    "            count+=1\n",
    "\n"
   ],
   "metadata": {
    "collapsed": false
   }
  },
  {
   "cell_type": "code",
   "execution_count": 5,
   "outputs": [
    {
     "name": "stdout",
     "output_type": "stream",
     "text": [
      "263\n"
     ]
    }
   ],
   "source": [
    "songs_original: GeniusSongs = GeniusLyricsExtraction.read_song_list(\"../Analysis/data/lyrics_updated_v2.json\")\n",
    "\n",
    "\n",
    "songs_filtered = GeniusSongs()\n",
    "\n",
    "for song in songs_original.song_list:\n",
    "    if song.sentiment_value is not None and song.sentiment_value > 0:\n",
    "        songs_filtered.song_list.append(song)\n",
    "\n",
    "print(len(songs_filtered))"
   ],
   "metadata": {
    "collapsed": false
   }
  },
  {
   "cell_type": "code",
   "execution_count": 12,
   "outputs": [],
   "source": [
    "songs_original.song_list = songs_original.song_list[:10]"
   ],
   "metadata": {
    "collapsed": false
   }
  },
  {
   "cell_type": "code",
   "execution_count": 16,
   "outputs": [],
   "source": [
    "songs_original.write_song_list_to_json(\"../Analysis/data/lyrics_updated_v3.json\")"
   ],
   "metadata": {
    "collapsed": false
   }
  }
 ],
 "metadata": {
  "kernelspec": {
   "display_name": "Python 3",
   "language": "python",
   "name": "python3"
  },
  "language_info": {
   "codemirror_mode": {
    "name": "ipython",
    "version": 2
   },
   "file_extension": ".py",
   "mimetype": "text/x-python",
   "name": "python",
   "nbconvert_exporter": "python",
   "pygments_lexer": "ipython2",
   "version": "2.7.6"
  }
 },
 "nbformat": 4,
 "nbformat_minor": 0
}
